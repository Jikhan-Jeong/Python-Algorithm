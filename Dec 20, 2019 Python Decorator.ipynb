{
 "cells": [
  {
   "cell_type": "markdown",
   "metadata": {},
   "source": [
    "# Dec 20, 2019 Python Decorator\n",
    "* Name: Jikhan Jeong\n",
    "* Ref: https://dojang.io/mod/page/view.php?id=2427\n",
    "--------------------------"
   ]
  },
  {
   "cell_type": "markdown",
   "metadata": {},
   "source": [
    "### Decorator covers function\n",
    "* useful method is $@$function_name\n",
    "* can be combined with class, parameter but it seems to me not much useable for a while. It is for understadning others' coding\n",
    "-------"
   ]
  },
  {
   "cell_type": "code",
   "execution_count": 1,
   "metadata": {},
   "outputs": [],
   "source": [
    "class calc:\n",
    "    @staticmethod\n",
    "    def add(a,b):\n",
    "        print(a+b)"
   ]
  },
  {
   "cell_type": "code",
   "execution_count": 2,
   "metadata": {},
   "outputs": [],
   "source": [
    "def hi():\n",
    "    print('hello start')\n",
    "    print('hello')\n",
    "    print('hello function end')"
   ]
  },
  {
   "cell_type": "code",
   "execution_count": 3,
   "metadata": {},
   "outputs": [],
   "source": [
    "def world():\n",
    "    print('world start')\n",
    "    print('world')\n",
    "    print('world function end')"
   ]
  },
  {
   "cell_type": "code",
   "execution_count": 4,
   "metadata": {},
   "outputs": [
    {
     "name": "stdout",
     "output_type": "stream",
     "text": [
      "hello start\n",
      "hello\n",
      "hello function end\n"
     ]
    }
   ],
   "source": [
    "hi()"
   ]
  },
  {
   "cell_type": "code",
   "execution_count": 5,
   "metadata": {},
   "outputs": [
    {
     "name": "stdout",
     "output_type": "stream",
     "text": [
      "world start\n",
      "world\n",
      "world function end\n"
     ]
    }
   ],
   "source": [
    "world()"
   ]
  },
  {
   "cell_type": "code",
   "execution_count": 11,
   "metadata": {},
   "outputs": [],
   "source": [
    "def trace(func):\n",
    "    def wrapper():\n",
    "        print(func.__name__, 'start') ## wrapping starts ## function.__name__ turn out the name of the function \n",
    "        func()                        ## call the function \n",
    "        print(func.__name__,'end')    ## wrapping end\n",
    "    return wrapper"
   ]
  },
  {
   "cell_type": "code",
   "execution_count": 7,
   "metadata": {},
   "outputs": [],
   "source": [
    "def hi():\n",
    "    print('hi')\n",
    "    \n",
    "def world():\n",
    "    print('world')"
   ]
  },
  {
   "cell_type": "code",
   "execution_count": 9,
   "metadata": {},
   "outputs": [
    {
     "name": "stdout",
     "output_type": "stream",
     "text": [
      "hi start\n",
      "hi\n",
      "hi end\n"
     ]
    }
   ],
   "source": [
    "trace_hi = trace(hi)\n",
    "trace_hi()"
   ]
  },
  {
   "cell_type": "code",
   "execution_count": 10,
   "metadata": {},
   "outputs": [
    {
     "name": "stdout",
     "output_type": "stream",
     "text": [
      "world start\n",
      "world\n",
      "world end\n"
     ]
    }
   ],
   "source": [
    "trace_world = trace(world)\n",
    "trace_world()"
   ]
  },
  {
   "cell_type": "markdown",
   "metadata": {},
   "source": [
    "### @ decorator"
   ]
  },
  {
   "cell_type": "code",
   "execution_count": 12,
   "metadata": {},
   "outputs": [],
   "source": [
    "def trace(func):\n",
    "    def wrapper():\n",
    "        print(func.__name__, 'start') ## wrapping starts ## function.__name__ turn out the name of the function \n",
    "        func()                        ## call the function \n",
    "        print(func.__name__,'end')    ## wrapping end\n",
    "    return wrapper"
   ]
  },
  {
   "cell_type": "code",
   "execution_count": 13,
   "metadata": {},
   "outputs": [],
   "source": [
    "@trace\n",
    "def hi():\n",
    "    print('hi')\n",
    "   \n",
    "@trace\n",
    "def world():\n",
    "    print('world')"
   ]
  },
  {
   "cell_type": "code",
   "execution_count": 15,
   "metadata": {},
   "outputs": [
    {
     "name": "stdout",
     "output_type": "stream",
     "text": [
      "hi start\n",
      "hi\n",
      "hi end\n"
     ]
    }
   ],
   "source": [
    "hi()"
   ]
  },
  {
   "cell_type": "code",
   "execution_count": 16,
   "metadata": {},
   "outputs": [
    {
     "name": "stdout",
     "output_type": "stream",
     "text": [
      "world start\n",
      "world\n",
      "world end\n"
     ]
    }
   ],
   "source": [
    "world()"
   ]
  },
  {
   "cell_type": "markdown",
   "metadata": {},
   "source": [
    "----\n",
    "### Multiple decorator\n",
    "---"
   ]
  },
  {
   "cell_type": "code",
   "execution_count": 23,
   "metadata": {},
   "outputs": [],
   "source": [
    "def deco1(func):\n",
    "    def wrap():\n",
    "        print('deco1')\n",
    "        func()\n",
    "    return wrap\n",
    "\n",
    "def deco2(func):\n",
    "    def wrap():\n",
    "        print('deco2')\n",
    "        func()\n",
    "    return wrap "
   ]
  },
  {
   "cell_type": "code",
   "execution_count": 26,
   "metadata": {},
   "outputs": [],
   "source": [
    "@deco1 # excute first\n",
    "@deco2 # excute second\n",
    "def hi():\n",
    "    print('hi')"
   ]
  },
  {
   "cell_type": "code",
   "execution_count": 27,
   "metadata": {},
   "outputs": [
    {
     "name": "stdout",
     "output_type": "stream",
     "text": [
      "deco1\n",
      "deco2\n",
      "hi\n"
     ]
    }
   ],
   "source": [
    "hi()"
   ]
  },
  {
   "cell_type": "markdown",
   "metadata": {},
   "source": [
    "---\n",
    "### Decorator for parameter and return value\n",
    "* Ref: https://dojang.io/mod/page/view.php?id=2428\n",
    "---"
   ]
  },
  {
   "cell_type": "code",
   "execution_count": 28,
   "metadata": {},
   "outputs": [],
   "source": [
    "def trace(func):\n",
    "    def wrap(a,b):\n",
    "        r = func(a,b)\n",
    "        print('{0}(a={1}, b={2}) -> {3}'.format(func.__name__, a, b, r))\n",
    "        return r\n",
    "    return wrap"
   ]
  },
  {
   "cell_type": "code",
   "execution_count": 29,
   "metadata": {},
   "outputs": [],
   "source": [
    "@trace\n",
    "def add(a,b):\n",
    "    return a+b"
   ]
  },
  {
   "cell_type": "code",
   "execution_count": 30,
   "metadata": {},
   "outputs": [
    {
     "name": "stdout",
     "output_type": "stream",
     "text": [
      "add(a=10, b=20) -> 30\n",
      "30\n"
     ]
    }
   ],
   "source": [
    "print(add(10,20))"
   ]
  },
  {
   "cell_type": "markdown",
   "metadata": {},
   "source": [
    "---\n",
    "### Without limitation of parameter numbers\n",
    "---"
   ]
  },
  {
   "cell_type": "code",
   "execution_count": 36,
   "metadata": {},
   "outputs": [],
   "source": [
    "def trace(func):\n",
    "    def wrap(*args,**kwargs):\n",
    "        r = func(*args,**kwargs) # unpacking *args = iterator, **kwargs = dictionary \n",
    "        print('{0}(a={1}, b={2}) -> {3}'.format(func.__name__, args, kwargs, r))\n",
    "        return r\n",
    "    return wrap"
   ]
  },
  {
   "cell_type": "code",
   "execution_count": 35,
   "metadata": {},
   "outputs": [],
   "source": [
    "@trace\n",
    "def get_max(*args):\n",
    "    return max(args)"
   ]
  },
  {
   "cell_type": "code",
   "execution_count": 37,
   "metadata": {},
   "outputs": [],
   "source": [
    "@trace\n",
    "def get_min(**kwargs):\n",
    "    return min(kwargs.values())"
   ]
  },
  {
   "cell_type": "code",
   "execution_count": 38,
   "metadata": {},
   "outputs": [
    {
     "name": "stdout",
     "output_type": "stream",
     "text": [
      "get_max(a=(10, 20), b={}) -> 20\n",
      "20\n"
     ]
    }
   ],
   "source": [
    "print(get_max(10,20))"
   ]
  },
  {
   "cell_type": "code",
   "execution_count": 46,
   "metadata": {},
   "outputs": [
    {
     "name": "stdout",
     "output_type": "stream",
     "text": [
      "get_min(a=(), b={'x': 10, 'y': 20, 'z': 30}) -> 10\n",
      "10\n"
     ]
    }
   ],
   "source": [
    "print(get_min(x=10, y=20, z=30))"
   ]
  },
  {
   "cell_type": "markdown",
   "metadata": {},
   "source": [
    "---\n",
    "### Using Decorator in Method in class \n",
    "---"
   ]
  },
  {
   "cell_type": "code",
   "execution_count": 47,
   "metadata": {},
   "outputs": [],
   "source": [
    "def trace(func):\n",
    "    def wrap(self, a, b):    # self to use method\n",
    "        r = func(self, a, b) # self to use method\n",
    "        print('{0}(a={1}, b={2}) -> {3}'.format(func.__name__, a, b, r))\n",
    "        return r\n",
    "    return wrap"
   ]
  },
  {
   "cell_type": "code",
   "execution_count": 48,
   "metadata": {},
   "outputs": [],
   "source": [
    "class cal:\n",
    "    @trace\n",
    "    def add(self, a, b):\n",
    "        return a+b"
   ]
  },
  {
   "cell_type": "code",
   "execution_count": 49,
   "metadata": {},
   "outputs": [],
   "source": [
    "c = cal() # create intance of class cal"
   ]
  },
  {
   "cell_type": "code",
   "execution_count": 50,
   "metadata": {},
   "outputs": [
    {
     "name": "stdout",
     "output_type": "stream",
     "text": [
      "add(a=10, b=20) -> 30\n"
     ]
    },
    {
     "data": {
      "text/plain": [
       "30"
      ]
     },
     "execution_count": 50,
     "metadata": {},
     "output_type": "execute_result"
    }
   ],
   "source": [
    "c.add(10,20)"
   ]
  },
  {
   "cell_type": "markdown",
   "metadata": {},
   "source": [
    "---\n",
    "### Decorator with Parameters\n",
    "* Ref: https://dojang.io/mod/page/view.php?id=2429\n",
    "---"
   ]
  },
  {
   "cell_type": "code",
   "execution_count": 54,
   "metadata": {},
   "outputs": [],
   "source": [
    "def is_mul(x):\n",
    "    def real_deco(func):\n",
    "        def wrap(a,b):\n",
    "            r = func(a,b)\n",
    "            if r % x ==0:\n",
    "                 print('{0} reutrn is a multiple of {1}'.format(func.__name__, x))\n",
    "            else:\n",
    "                 print('{0} reutrn is not a multiple of {1}'.format(func.__name__, x))\n",
    "            return r\n",
    "        return wrap\n",
    "    return real_deco"
   ]
  },
  {
   "cell_type": "code",
   "execution_count": 55,
   "metadata": {},
   "outputs": [],
   "source": [
    "@is_mul(3)\n",
    "def add(a,b):\n",
    "    return a+b"
   ]
  },
  {
   "cell_type": "code",
   "execution_count": 56,
   "metadata": {},
   "outputs": [
    {
     "name": "stdout",
     "output_type": "stream",
     "text": [
      "add reutrn is a multiple of 3\n"
     ]
    },
    {
     "data": {
      "text/plain": [
       "30"
      ]
     },
     "execution_count": 56,
     "metadata": {},
     "output_type": "execute_result"
    }
   ],
   "source": [
    "add(10,20)"
   ]
  },
  {
   "cell_type": "code",
   "execution_count": 57,
   "metadata": {},
   "outputs": [
    {
     "name": "stdout",
     "output_type": "stream",
     "text": [
      "add reutrn is not a multiple of 3\n"
     ]
    },
    {
     "data": {
      "text/plain": [
       "7"
      ]
     },
     "execution_count": 57,
     "metadata": {},
     "output_type": "execute_result"
    }
   ],
   "source": [
    "add(2,5)"
   ]
  },
  {
   "cell_type": "markdown",
   "metadata": {},
   "source": [
    "---\n",
    "### Decorator with Class\n",
    "* Ref: https://dojang.io/mod/page/view.php?id=2430\n",
    "---"
   ]
  },
  {
   "cell_type": "code",
   "execution_count": 59,
   "metadata": {},
   "outputs": [],
   "source": [
    "class trace:\n",
    "    def __init__(self,func): # get initinal value as function \n",
    "        self.func = func\n",
    "        \n",
    "    def __call__(self): # call the instance generated from the class\n",
    "        print(self.func.__name__,'start')\n",
    "        self.func()\n",
    "        print(self.func.__name__,'end')"
   ]
  },
  {
   "cell_type": "code",
   "execution_count": 60,
   "metadata": {},
   "outputs": [],
   "source": [
    "@trace\n",
    "def hi():\n",
    "    print('hi')"
   ]
  },
  {
   "cell_type": "code",
   "execution_count": 61,
   "metadata": {},
   "outputs": [
    {
     "name": "stdout",
     "output_type": "stream",
     "text": [
      "hi start\n",
      "hi\n",
      "hi end\n"
     ]
    }
   ],
   "source": [
    "hi()"
   ]
  },
  {
   "cell_type": "markdown",
   "metadata": {},
   "source": [
    "---\n",
    "### Decorator with Class by using parameter and return values\n",
    "* Ref: https://dojang.io/mod/page/view.php?id=2431\n",
    "---"
   ]
  },
  {
   "cell_type": "code",
   "execution_count": 62,
   "metadata": {},
   "outputs": [],
   "source": [
    "class trace:\n",
    "    def __init__(self,func): # get initinal value as function \n",
    "        self.func = func\n",
    "        \n",
    "    def __call__(self, *args, **kwargs): # call the instance generated from the class\n",
    "        r = self.func(*args, **kwargs)   # return value r from self.funtion with parameters\n",
    "        print('{0}(args={1}, kwargs={2}) -> {3}'.format(self.func.__name__, args, kwargs, r))\n",
    "        return(r)"
   ]
  },
  {
   "cell_type": "code",
   "execution_count": 63,
   "metadata": {},
   "outputs": [],
   "source": [
    "@trace\n",
    "def add(a,b):\n",
    "    return a+b"
   ]
  },
  {
   "cell_type": "code",
   "execution_count": 64,
   "metadata": {},
   "outputs": [
    {
     "name": "stdout",
     "output_type": "stream",
     "text": [
      "add(args=(10, 20), kwargs={}) -> 30\n"
     ]
    },
    {
     "data": {
      "text/plain": [
       "30"
      ]
     },
     "execution_count": 64,
     "metadata": {},
     "output_type": "execute_result"
    }
   ],
   "source": [
    "add(10,20)"
   ]
  },
  {
   "cell_type": "code",
   "execution_count": 65,
   "metadata": {},
   "outputs": [
    {
     "name": "stdout",
     "output_type": "stream",
     "text": [
      "add(args=(), kwargs={'a': 10, 'b': 20}) -> 30\n"
     ]
    },
    {
     "data": {
      "text/plain": [
       "30"
      ]
     },
     "execution_count": 65,
     "metadata": {},
     "output_type": "execute_result"
    }
   ],
   "source": [
    "add(a=10,b=20)"
   ]
  },
  {
   "cell_type": "code",
   "execution_count": 75,
   "metadata": {},
   "outputs": [],
   "source": [
    "class is_mul:\n",
    "     \n",
    "    def __init__(self,x): # get initinal value \n",
    "        self.x = x\n",
    "        \n",
    "    def __call__(self, func):\n",
    "        def wrap(a,b):\n",
    "            r = func(a,b)\n",
    "            if r % self.x ==0:\n",
    "                 print('{0} reutrn is a multiple of {1}'.format(func.__name__, self.x))\n",
    "            else:\n",
    "                 print('{0} reutrn is not a multiple of {1}'.format(func.__name__, self.x))\n",
    "            return r\n",
    "        return wrap"
   ]
  },
  {
   "cell_type": "code",
   "execution_count": 76,
   "metadata": {},
   "outputs": [],
   "source": [
    "@is_mul(3)\n",
    "def add(a, b):\n",
    "    return a + b"
   ]
  },
  {
   "cell_type": "code",
   "execution_count": 77,
   "metadata": {},
   "outputs": [
    {
     "name": "stdout",
     "output_type": "stream",
     "text": [
      "add reutrn is a multiple of 3\n"
     ]
    },
    {
     "data": {
      "text/plain": [
       "30"
      ]
     },
     "execution_count": 77,
     "metadata": {},
     "output_type": "execute_result"
    }
   ],
   "source": [
    "add(10,20)"
   ]
  },
  {
   "cell_type": "code",
   "execution_count": 78,
   "metadata": {},
   "outputs": [
    {
     "name": "stdout",
     "output_type": "stream",
     "text": [
      "add reutrn is not a multiple of 3\n"
     ]
    },
    {
     "data": {
      "text/plain": [
       "7"
      ]
     },
     "execution_count": 78,
     "metadata": {},
     "output_type": "execute_result"
    }
   ],
   "source": [
    "add(2,5)"
   ]
  },
  {
   "cell_type": "code",
   "execution_count": null,
   "metadata": {},
   "outputs": [],
   "source": []
  }
 ],
 "metadata": {
  "kernelspec": {
   "display_name": "Python 3",
   "language": "python",
   "name": "python3"
  },
  "language_info": {
   "codemirror_mode": {
    "name": "ipython",
    "version": 3
   },
   "file_extension": ".py",
   "mimetype": "text/x-python",
   "name": "python",
   "nbconvert_exporter": "python",
   "pygments_lexer": "ipython3",
   "version": "3.7.4"
  }
 },
 "nbformat": 4,
 "nbformat_minor": 4
}
