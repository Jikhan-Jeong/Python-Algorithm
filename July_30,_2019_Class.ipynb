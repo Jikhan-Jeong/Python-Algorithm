{
  "nbformat": 4,
  "nbformat_minor": 0,
  "metadata": {
    "colab": {
      "name": "July 30, 2019 Class.ipynb",
      "version": "0.3.2",
      "provenance": [],
      "collapsed_sections": []
    },
    "kernelspec": {
      "name": "python3",
      "display_name": "Python 3"
    }
  },
  "cells": [
    {
      "cell_type": "markdown",
      "metadata": {
        "id": "WwjKGSI_yaMG",
        "colab_type": "text"
      },
      "source": [
        "# Object Oriented Programing Basic\n",
        "* Jikhan Jeong\n",
        "* Ref: http://pythonstudy.xyz/python/article/19-%ED%81%B4%EB%9E%98%EC%8A%A4"
      ]
    },
    {
      "cell_type": "code",
      "metadata": {
        "id": "eYkWrHGJykP5",
        "colab_type": "code",
        "colab": {}
      },
      "source": [
        "class myclass:\n",
        "  pass"
      ],
      "execution_count": 0,
      "outputs": []
    },
    {
      "cell_type": "markdown",
      "metadata": {
        "id": "6QrSFE_nzIdR",
        "colab_type": "text"
      },
      "source": [
        "# Method\n",
        "* 메서드는 클래스의 행위를 표현하는 것으로 클래스 내의 함수\n",
        "* 인스턴스 메서드는 여러 파라미터를 가질 수 있지만, 첫번째 파라미터는 항상 self "
      ]
    },
    {
      "cell_type": "code",
      "metadata": {
        "id": "3sHLcEejyr8b",
        "colab_type": "code",
        "colab": {}
      },
      "source": [
        "class retangle:\n",
        "  count = 0 # class variable  메서드 밖에 존재하는 변수를 클래스 변수(class variable), 해당 클래스를 사용하는 모두에게 공용으로 사용되는 변수\n",
        "            #  클래스 내외부에서 \"클래스명.변수명\" 으로 엑세스,  count는 클래스변수로서 \"Rectangle.count\"와 같이 엑세스\n",
        "    \n",
        "  # initializer 클래스로부터 새 객체를 생성할 때마다 실행\n",
        "  # 인스턴스 변수를 초기화하거나 객체의 초기상태를 만들기 위한 문장들을 실행\n",
        "  def __init__(self, width, height):\n",
        "    # self.* : instance variable  각 객체별로 서로 다른 값을 갖는 변수이다. 클래스 내부에서는 self.width 과 같이 \"self.\"  클래스 밖에서는 \"객체변수.인스턴스변수\"\n",
        "    self.width = width\n",
        "    self.height = height\n",
        "    retangle.count += 1\n",
        "    \n",
        "    \n",
        "  # method\n",
        "  \n",
        "  def cal_area(self):\n",
        "    area = self.width * self.height\n",
        "    return area"
      ],
      "execution_count": 0,
      "outputs": []
    },
    {
      "cell_type": "code",
      "metadata": {
        "id": "pR5IvlLu1K-5",
        "colab_type": "code",
        "colab": {}
      },
      "source": [
        "# create the object(=r from the class retangle) ,  Rectangle 클래스로부터 r 이라는 객체를 생성, Rectangle(2, 3)와 같이 2개의 파라미터를 전달\n",
        "r = retangle(2, 3)"
      ],
      "execution_count": 0,
      "outputs": []
    },
    {
      "cell_type": "code",
      "metadata": {
        "id": "5ncEvc0xzwyn",
        "colab_type": "code",
        "colab": {
          "base_uri": "https://localhost:8080/",
          "height": 36
        },
        "outputId": "374b20a2-dc89-4389-d118-991a81468429"
      },
      "source": [
        "# method call 인스턴스 메서드는 \"객체변수.메서드명()\"과 같이 호출\n",
        "area = r.cal_area()\n",
        "print(\"area =\", area)"
      ],
      "execution_count": 6,
      "outputs": [
        {
          "output_type": "stream",
          "text": [
            "area = 6\n"
          ],
          "name": "stdout"
        }
      ]
    },
    {
      "cell_type": "code",
      "metadata": {
        "id": "y2v7xvWh1a7a",
        "colab_type": "code",
        "colab": {
          "base_uri": "https://localhost:8080/",
          "height": 36
        },
        "outputId": "295a6dc2-93a8-42ce-9971-90ad505a2208"
      },
      "source": [
        "# access to the variable\n",
        "r.width = 10\n",
        "print('width', r.width)"
      ],
      "execution_count": 8,
      "outputs": [
        {
          "output_type": "stream",
          "text": [
            "width 10\n"
          ],
          "name": "stdout"
        }
      ]
    },
    {
      "cell_type": "code",
      "metadata": {
        "id": "ROE_1qra1j2T",
        "colab_type": "code",
        "colab": {
          "base_uri": "https://localhost:8080/",
          "height": 36
        },
        "outputId": "3b582331-832f-4502-f486-12a5b7a4afd4"
      },
      "source": [
        "print(retangle.count)"
      ],
      "execution_count": 9,
      "outputs": [
        {
          "output_type": "stream",
          "text": [
            "1\n"
          ],
          "name": "stdout"
        }
      ]
    },
    {
      "cell_type": "markdown",
      "metadata": {
        "id": "ZMs2v1_22S-F",
        "colab_type": "text"
      },
      "source": [
        "# Class Inheritance: Paranet and Babies\n",
        "* 클래스를 상속 받기 위해서는 파생클래스(자식클래스)에서 클래스명 뒤에 베이스클래스(부모    클래스) 이름을 괄호와 함께 넣음\n"
      ]
    },
    {
      "cell_type": "code",
      "metadata": {
        "id": "PiIEPviu10nz",
        "colab_type": "code",
        "colab": {}
      },
      "source": [
        "class animal:\n",
        "  def __init__(self, name):\n",
        "    self.name = name\n",
        "    \n",
        "  def move(self):\n",
        "    print(\"move\")\n",
        "    \n",
        "  def speak(self):\n",
        "    pass\n",
        "  \n",
        "class dog(animal):\n",
        "  def speak(self):\n",
        "    print(\"bark\")\n",
        "    \n",
        "class cat(animal):\n",
        "  def speak(self):\n",
        "    print(\"yam\")"
      ],
      "execution_count": 0,
      "outputs": []
    },
    {
      "cell_type": "code",
      "metadata": {
        "id": "r9mgjQD729gU",
        "colab_type": "code",
        "colab": {
          "base_uri": "https://localhost:8080/",
          "height": 55
        },
        "outputId": "75e9ba26-5f6c-489b-9bd9-5f56536bb361"
      },
      "source": [
        "dog_name = dog(\"hye\")\n",
        "n = dog_name.name\n",
        "dog_name.move()\n",
        "dog_name.speak()"
      ],
      "execution_count": 11,
      "outputs": [
        {
          "output_type": "stream",
          "text": [
            "move\n",
            "bark\n"
          ],
          "name": "stdout"
        }
      ]
    },
    {
      "cell_type": "code",
      "metadata": {
        "id": "qVhkWmEl3cIK",
        "colab_type": "code",
        "colab": {
          "base_uri": "https://localhost:8080/",
          "height": 55
        },
        "outputId": "b9cfd61c-1ed4-427e-f98a-06d2565a2308"
      },
      "source": [
        "animals = [dog('hye'), cat('suzi')]\n",
        "\n",
        "for a in animals:\n",
        "  a.speak()"
      ],
      "execution_count": 12,
      "outputs": [
        {
          "output_type": "stream",
          "text": [
            "bark\n",
            "yam\n"
          ],
          "name": "stdout"
        }
      ]
    },
    {
      "cell_type": "code",
      "metadata": {
        "id": "jYtN7G6b3pfy",
        "colab_type": "code",
        "colab": {}
      },
      "source": [
        ""
      ],
      "execution_count": 0,
      "outputs": []
    }
  ]
}