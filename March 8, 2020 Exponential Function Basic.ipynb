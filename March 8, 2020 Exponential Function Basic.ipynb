{
 "cells": [
  {
   "cell_type": "markdown",
   "metadata": {},
   "source": [
    "---\n",
    "# March 8, 2020 Exponential Function Basic\n",
    "---\n",
    "* Name: Jikhan Jeong\n",
    "* In the give exponeitonal function what is convex function.\n",
    "* What is the different expectation of exponetioal function and exponential function at mean.\n",
    "* Related to Nonlinear Regression, Identification, GMM issues\n",
    "---"
   ]
  },
  {
   "cell_type": "code",
   "execution_count": 5,
   "metadata": {},
   "outputs": [],
   "source": [
    "import numpy as np\n",
    "import pandas as pd\n",
    "import matplotlib.pyplot as plt"
   ]
  },
  {
   "cell_type": "code",
   "execution_count": 11,
   "metadata": {},
   "outputs": [
    {
     "name": "stdout",
     "output_type": "stream",
     "text": [
      "x values :  1\n",
      "y values :  2.718281828459045\n",
      "x values :  2\n",
      "y values :  7.38905609893065\n",
      "x values :  3\n",
      "y values :  20.085536923187668\n",
      "x values :  4\n",
      "y values :  54.598150033144236\n",
      "x values :  5\n",
      "y values :  148.4131591025766\n"
     ]
    }
   ],
   "source": [
    "xs =[]\n",
    "ys =[]\n",
    "x = range(5) \n",
    "for i in range(len(x)):\n",
    "    xs.append(i+1)\n",
    "    print('x values : ', i+1)\n",
    "    ys.append(np.exp(i+1))\n",
    "    print('y values : ', np.exp(i+1))"
   ]
  },
  {
   "cell_type": "code",
   "execution_count": 12,
   "metadata": {},
   "outputs": [
    {
     "data": {
      "text/plain": [
       "[1, 2, 3, 4, 5]"
      ]
     },
     "execution_count": 12,
     "metadata": {},
     "output_type": "execute_result"
    }
   ],
   "source": [
    "xs"
   ]
  },
  {
   "cell_type": "code",
   "execution_count": 13,
   "metadata": {},
   "outputs": [
    {
     "data": {
      "text/plain": [
       "[2.718281828459045,\n",
       " 7.38905609893065,\n",
       " 20.085536923187668,\n",
       " 54.598150033144236,\n",
       " 148.4131591025766]"
      ]
     },
     "execution_count": 13,
     "metadata": {},
     "output_type": "execute_result"
    }
   ],
   "source": [
    "ys"
   ]
  },
  {
   "cell_type": "code",
   "execution_count": 14,
   "metadata": {},
   "outputs": [
    {
     "data": {
      "image/png": "[encoded data removed]",
      "text/plain": [
       "<Figure size 432x288 with 1 Axes>"
      ]
     },
     "metadata": {
      "needs_background": "light"
     },
     "output_type": "display_data"
    }
   ],
   "source": [
    "plt.plot(xs, ys)\n",
    "plt.show()"
   ]
  },
  {
   "cell_type": "code",
   "execution_count": 16,
   "metadata": {},
   "outputs": [
    {
     "name": "stdout",
     "output_type": "stream",
     "text": [
      "exp(E(x)), where E(x) = 3 20.085536923187668\n"
     ]
    }
   ],
   "source": [
    "print( 'Exp(E(x)), where E(x) = 3, ', np.exp(3))"
   ]
  },
  {
   "cell_type": "code",
   "execution_count": 18,
   "metadata": {},
   "outputs": [
    {
     "name": "stdout",
     "output_type": "stream",
     "text": [
      "E(exp(x)) from x = [1,2,3,4,5] :  46.64083679725964\n"
     ]
    }
   ],
   "source": [
    "print('E(exp(x)) from x = [1,2,3,4,5] : ', sum(ys)/len(ys))"
   ]
  },
  {
   "cell_type": "markdown",
   "metadata": {},
   "source": [
    "---\n",
    "# Interpretation\n",
    "* $ E(e^{x}) > e^{E(x)} $\n",
    "*  Simply  $ E(e^{x})  \\neq e^{E(x)} $\n",
    "---"
   ]
  },
  {
   "cell_type": "code",
   "execution_count": null,
   "metadata": {},
   "outputs": [],
   "source": []
  }
 ],
 "metadata": {
  "kernelspec": {
   "display_name": "Python 3",
   "language": "python",
   "name": "python3"
  },
  "language_info": {
   "codemirror_mode": {
    "name": "ipython",
    "version": 3
   },
   "file_extension": ".py",
   "mimetype": "text/x-python",
   "name": "python",
   "nbconvert_exporter": "python",
   "pygments_lexer": "ipython3",
   "version": "3.7.4"
  }
 },
 "nbformat": 4,
 "nbformat_minor": 4
}
