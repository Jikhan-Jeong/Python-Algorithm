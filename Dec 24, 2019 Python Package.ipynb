{
 "cells": [
  {
   "cell_type": "markdown",
   "metadata": {},
   "source": [
    "---\n",
    "# Dec 24, 2019 Python Package\n",
    "* Name: Jikhan Jeong\n",
    "* Ref: https://dojang.io/mod/page/view.php?id=2441\n",
    "---"
   ]
  },
  {
   "cell_type": "markdown",
   "metadata": {},
   "source": [
    "---\n",
    "### 1. Module and Package\n",
    "* Module > Package > Var, Class\n",
    "* https://dojang.io/mod/page/view.php?id=2441\n",
    "----"
   ]
  },
  {
   "cell_type": "code",
   "execution_count": 1,
   "metadata": {},
   "outputs": [],
   "source": [
    "import math"
   ]
  },
  {
   "cell_type": "code",
   "execution_count": 2,
   "metadata": {},
   "outputs": [
    {
     "data": {
      "text/plain": [
       "3.141592653589793"
      ]
     },
     "execution_count": 2,
     "metadata": {},
     "output_type": "execute_result"
    }
   ],
   "source": [
    "math.pi"
   ]
  },
  {
   "cell_type": "code",
   "execution_count": 3,
   "metadata": {},
   "outputs": [
    {
     "data": {
      "text/plain": [
       "2.0"
      ]
     },
     "execution_count": 3,
     "metadata": {},
     "output_type": "execute_result"
    }
   ],
   "source": [
    "math.sqrt(4.0)"
   ]
  },
  {
   "cell_type": "code",
   "execution_count": 4,
   "metadata": {},
   "outputs": [],
   "source": [
    "# renaming \n",
    "import math as m"
   ]
  },
  {
   "cell_type": "code",
   "execution_count": 5,
   "metadata": {},
   "outputs": [
    {
     "data": {
      "text/plain": [
       "2.0"
      ]
     },
     "execution_count": 5,
     "metadata": {},
     "output_type": "execute_result"
    }
   ],
   "source": [
    "m.sqrt(4.0)"
   ]
  },
  {
   "cell_type": "code",
   "execution_count": 6,
   "metadata": {},
   "outputs": [],
   "source": [
    "# from imort, bring some part of module"
   ]
  },
  {
   "cell_type": "code",
   "execution_count": 7,
   "metadata": {},
   "outputs": [],
   "source": [
    "from math import pi"
   ]
  },
  {
   "cell_type": "code",
   "execution_count": 8,
   "metadata": {},
   "outputs": [
    {
     "data": {
      "text/plain": [
       "3.141592653589793"
      ]
     },
     "execution_count": 8,
     "metadata": {},
     "output_type": "execute_result"
    }
   ],
   "source": [
    "pi"
   ]
  },
  {
   "cell_type": "code",
   "execution_count": 9,
   "metadata": {},
   "outputs": [],
   "source": [
    "from math import sqrt"
   ]
  },
  {
   "cell_type": "code",
   "execution_count": 10,
   "metadata": {},
   "outputs": [
    {
     "data": {
      "text/plain": [
       "2.2135943621178655"
      ]
     },
     "execution_count": 10,
     "metadata": {},
     "output_type": "execute_result"
    }
   ],
   "source": [
    "sqrt(4.9)"
   ]
  },
  {
   "cell_type": "code",
   "execution_count": 11,
   "metadata": {},
   "outputs": [],
   "source": [
    "from math import sqrt, pi"
   ]
  },
  {
   "cell_type": "code",
   "execution_count": 12,
   "metadata": {},
   "outputs": [
    {
     "data": {
      "text/plain": [
       "3.141592653589793"
      ]
     },
     "execution_count": 12,
     "metadata": {},
     "output_type": "execute_result"
    }
   ],
   "source": [
    "pi"
   ]
  },
  {
   "cell_type": "code",
   "execution_count": 13,
   "metadata": {},
   "outputs": [
    {
     "data": {
      "text/plain": [
       "1.7724538509055159"
      ]
     },
     "execution_count": 13,
     "metadata": {},
     "output_type": "execute_result"
    }
   ],
   "source": [
    "sqrt(pi)"
   ]
  },
  {
   "cell_type": "code",
   "execution_count": 14,
   "metadata": {},
   "outputs": [],
   "source": [
    "## bring all var, fun, class\n",
    "from math import *"
   ]
  },
  {
   "cell_type": "code",
   "execution_count": 15,
   "metadata": {},
   "outputs": [
    {
     "data": {
      "text/plain": [
       "3.141592653589793"
      ]
     },
     "execution_count": 15,
     "metadata": {},
     "output_type": "execute_result"
    }
   ],
   "source": [
    "pi"
   ]
  },
  {
   "cell_type": "code",
   "execution_count": 16,
   "metadata": {},
   "outputs": [
    {
     "data": {
      "text/plain": [
       "1.7724538509055159"
      ]
     },
     "execution_count": 16,
     "metadata": {},
     "output_type": "execute_result"
    }
   ],
   "source": [
    "sqrt(pi)"
   ]
  },
  {
   "cell_type": "code",
   "execution_count": 17,
   "metadata": {},
   "outputs": [],
   "source": [
    "from math import sqrt as s"
   ]
  },
  {
   "cell_type": "code",
   "execution_count": 18,
   "metadata": {},
   "outputs": [
    {
     "data": {
      "text/plain": [
       "2.0"
      ]
     },
     "execution_count": 18,
     "metadata": {},
     "output_type": "execute_result"
    }
   ],
   "source": [
    "s(4.0)"
   ]
  },
  {
   "cell_type": "code",
   "execution_count": 19,
   "metadata": {},
   "outputs": [],
   "source": [
    "from math import pi as p, sqrt as s"
   ]
  },
  {
   "cell_type": "code",
   "execution_count": 20,
   "metadata": {},
   "outputs": [
    {
     "data": {
      "text/plain": [
       "1.7724538509055159"
      ]
     },
     "execution_count": 20,
     "metadata": {},
     "output_type": "execute_result"
    }
   ],
   "source": [
    "s(p)"
   ]
  },
  {
   "cell_type": "code",
   "execution_count": 21,
   "metadata": {},
   "outputs": [],
   "source": [
    "## dis-import\n",
    "import math\n",
    "del math "
   ]
  },
  {
   "cell_type": "code",
   "execution_count": 22,
   "metadata": {},
   "outputs": [],
   "source": [
    "import math"
   ]
  },
  {
   "cell_type": "markdown",
   "metadata": {},
   "source": [
    "---\n",
    "### 2. Import Module(belong to package)\n",
    "* https://dojang.io/mod/page/view.php?id=2442\n",
    "---"
   ]
  },
  {
   "cell_type": "code",
   "execution_count": 25,
   "metadata": {},
   "outputs": [],
   "source": [
    "import urllib.request"
   ]
  },
  {
   "cell_type": "code",
   "execution_count": 26,
   "metadata": {},
   "outputs": [],
   "source": [
    "response = urllib.request.urlopen('http://www.google.co.kr')"
   ]
  },
  {
   "cell_type": "code",
   "execution_count": 27,
   "metadata": {},
   "outputs": [
    {
     "data": {
      "text/plain": [
       "200"
      ]
     },
     "execution_count": 27,
     "metadata": {},
     "output_type": "execute_result"
    }
   ],
   "source": [
    "response.status # success print 200"
   ]
  },
  {
   "cell_type": "code",
   "execution_count": 28,
   "metadata": {},
   "outputs": [],
   "source": [
    "import urllib.request as r "
   ]
  },
  {
   "cell_type": "code",
   "execution_count": 29,
   "metadata": {},
   "outputs": [],
   "source": [
    "response = r.urlopen('http://www.google.co.kr')"
   ]
  },
  {
   "cell_type": "code",
   "execution_count": 30,
   "metadata": {},
   "outputs": [
    {
     "data": {
      "text/plain": [
       "200"
      ]
     },
     "execution_count": 30,
     "metadata": {},
     "output_type": "execute_result"
    }
   ],
   "source": [
    " response.status"
   ]
  },
  {
   "cell_type": "code",
   "execution_count": 31,
   "metadata": {},
   "outputs": [],
   "source": [
    "from urllib.request import Request, urlopen"
   ]
  },
  {
   "cell_type": "code",
   "execution_count": 32,
   "metadata": {},
   "outputs": [],
   "source": [
    "req = Request('http://www.google.co.kr')   "
   ]
  },
  {
   "cell_type": "code",
   "execution_count": 33,
   "metadata": {},
   "outputs": [],
   "source": [
    "response = urlopen(req)   "
   ]
  },
  {
   "cell_type": "code",
   "execution_count": 35,
   "metadata": {},
   "outputs": [
    {
     "data": {
      "text/plain": [
       "200"
      ]
     },
     "execution_count": 35,
     "metadata": {},
     "output_type": "execute_result"
    }
   ],
   "source": [
    "response.status"
   ]
  },
  {
   "cell_type": "markdown",
   "metadata": {},
   "source": [
    "---\n",
    "### 3. Package Install\n",
    "* https://dojang.io/mod/page/view.php?id=2443\n",
    "---"
   ]
  },
  {
   "cell_type": "code",
   "execution_count": 36,
   "metadata": {},
   "outputs": [
    {
     "name": "stdout",
     "output_type": "stream",
     "text": [
      "sklearn-pandas (1.8.0)                       - Pandas integration with sklearn\n",
      "sklearn-xarray (0.3.0)                       - xarray integration with sklearn\n",
      "sklearn-export (0.0.5)                       - Export sklearn models to Json.\n",
      "easy-sklearn (0.1.5)                         - This is a python library base\n",
      "                                               on sklearn\n",
      "nbsvm-sklearn (0.0.6)                        - sklearn wrapper for NB-SVM\n",
      "                                               algorithm\n",
      "sklearn-recommender (0.1.5)                  - Sklearn Extension to\n",
      "                                               integration recommender\n",
      "                                               functions\n",
      "sklearn-surrogatesearchcv (0.1.3)            - Surrogate adaptive randomized\n",
      "                                               search for hyper parametersin\n",
      "                                               sklearn.\n",
      "sklearn-glvq (1.0.3)                         - sklearn compatible Generalized\n",
      "                                               Learning Vector Quantization\n",
      "                                               implementation\n",
      "sklearn-fuzzy (0.0.8)                        - `sklearn_fuzzy` is a fork from\n",
      "                                               `scikit-fuzzy` package with\n",
      "                                               sklearn-ish methods.\n",
      "neurocombat-sklearn (0.1.3)                  - Harmonizing neuroimaging data\n",
      "                                               across sites. Implementation of\n",
      "                                               neurocombat using sklearn\n",
      "                                               format\n",
      "sklearn-lvq (1.1.0)                          - sklearn compatible Generalized\n",
      "                                               Learning Vector Quantization\n",
      "                                               and Robust Soft Learning Vector\n",
      "                                               Quantization implementation\n",
      "sklearn (0.0)                                - A set of python modules for\n",
      "                                               machine learning and data\n",
      "                                               mining\n",
      "keras-sklearn-multihead-classifier (1.2)     - Keras Sklearn Multihead\n",
      "                                               Classifier\n",
      "spark-sklearn (0.3.0)                        - Integration tools for running\n",
      "                                               scikit-learn on Spark\n",
      "sklearn-pycrfsuite (0.4.0)                   - CRFsuite (python-crfsuite)\n",
      "                                               wrapper which provides\n",
      "                                               interface simlar to scikit-\n",
      "                                               learn\n",
      "sklearn-deltatfidf (0.3)                     - DeltaTfidfVectorizer for\n",
      "                                               scikit-learn\n",
      "sklearn-extensions (0.0.2)                   - A bundle of 3rd party\n",
      "                                               extensions to scikit-learn\n",
      "sklearn-deap (0.2.4)                         - Use evolutionary algorithms\n",
      "                                               instead of gridsearch in\n",
      "                                               scikit-learn.\n",
      "sklearn-gbmi (1.0.0)                         - Compute Friedman and Popescu's\n",
      "                                               H statistics, in order to look\n",
      "                                               for interactions among\n",
      "                                               variables in scikit-learn\n",
      "                                               gradient-boosting models.\n",
      "sklearn-dummies (0.3)                        - Scikit-learn label binarizer\n",
      "                                               with support for missing values\n",
      "sklearn-crfsuite (0.3.6)                     - CRFsuite (python-crfsuite)\n",
      "                                               wrapper which provides\n",
      "                                               interface simlar to scikit-\n",
      "                                               learn\n",
      "sklearn-porter (0.7.4)                       - Transpile trained scikit-learn\n",
      "                                               models to C, Java, JavaScript\n",
      "                                               and others.\n",
      "auto-sklearn (0.5.2)                         - Automated machine learning.\n",
      "sklearn-pmml (0.1.2)                         - A library that allows\n",
      "                                               serialization of SciKit-Learn\n",
      "                                               estimators into PMML\n",
      "sklearn-rvm (0.0.2)                          - An scikit-learn style\n",
      "                                               implementation of Relevance\n",
      "                                               Vector Machines (RVM).\n",
      "sklearn-rri (0.1.0)                          - scikit-learn compatible\n",
      "                                               classifier based on RRI\n",
      "sigopt-sklearn (2.1.0)                       - SigOpt + scikit-learn\n",
      "                                               Integrations\n",
      "sklearn-plus (0.0.5)                         - A set of python modules for\n",
      "                                               Natural Language Processing\n",
      "autocluster-sklearn (0.0.1)                  - A package for automatic\n",
      "                                               clustering optmization\n",
      "sklearn-lmer (0.0.4)                         - Scikit-learn estimator wrappers\n",
      "                                               for pymer4 wrapped LME4 mixed\n",
      "                                               effects models\n",
      "sklearn-evaluation (0.5)                     - scikit-learn model evaluation\n",
      "                                               made easy: plots, tables\n",
      "                                               andmarkdown reports.\n",
      "sklearn-compiledtrees (1.2)                  - Compiled scikit-learn decision\n",
      "                                               trees for faster evaluation\n",
      "sklearn-features (0.0.2)                     - Helpful tools for building\n",
      "                                               feature extraction pipelines\n",
      "                                               with scikit-learn\n",
      "sklearn-stub (0.0.3)                         - A template for scikit-learn\n",
      "                                               compatible packages\n",
      "sklearn-json (0.1.0)                         - A safe, transparent way to\n",
      "                                               share and deploy scikit-learn\n",
      "                                               models.\n",
      "sklearn-deap2 (0.2.2)                        - Use evolutionary algorithms\n",
      "                                               instead of gridsearch in\n",
      "                                               scikit-learn.\n",
      "sklearn-template (0.0.3)                     - A template for scikit-learn\n",
      "                                               compatible packages\n",
      "sklearn-relief (1.0.0b2)                     - Implementation of the Relief\n",
      "                                               family of algorithms for\n",
      "                                               feature ranking\n",
      "sklearn-genetic (0.2)                        - Genetic feature selection\n",
      "                                               module for scikit-learn\n",
      "sklearn-contrib-lightning (0.5.0)            - Large-scale sparse linear\n",
      "                                               classification, regression and\n",
      "                                               ranking in Python\n",
      "sklearn-sequence-classifiers (0.2)           - Sequence classifiers for\n",
      "                                               scikit-learn\n",
      "sklearn-to-pfa (0.3.10)                      - Convert scikit-learn models to\n",
      "                                               PFA\n",
      "featuretools-sklearn-transformer (0.1.0)     - Featuretools Transformer for\n",
      "                                               Scikit-Learn Pipeline use.\n",
      "sklearn-text-extensions (1.0.0)              - Scikit-learn compatible text\n",
      "                                               feature extraction extensions\n",
      "sklearn-utils-turtle (0.4.1)                 - \n",
      "sklearn-hierarchical-classification (1.1.0)  - Hierarchical classification\n",
      "                                               interface extensions for\n",
      "                                               scikit-learn\n",
      "sklearn-pmml-model (0.0.10)                  - A library to parse PMML models\n",
      "                                               into Scikit-learn estimators.\n",
      "sklearn_utils (0.0.15)                       - Sklearn utils\n",
      "apollo-ml (0.3)                              - sklearn wrapper\n",
      "sklearn-contrib-py-earth (0.1.0)             - A Python implementation of\n",
      "                                               Jerome Friedman's Multivariate\n",
      "                                               Adaptive Regression Splines.\n",
      "hpsklearn (0.1.0)                            - Hyperparameter Optimization for\n",
      "                                               sklearn\n",
      "persimmon (0.9.1.post2)                      - A visual dataflow language for\n",
      "                                               sklearn\n",
      "hunga-bunga (0.1)                            - Brute-Force All of sklearn!\n",
      "jaradtransformers (0.1.4)                    - Custom transformers for SKLearn\n",
      "                                               pipelines\n",
      "skippy (0.1.0)                               - Simplified analysis of sklearn\n",
      "                                               datasets\n",
      "scikit2pmml (0.0.2)                          - Simple exporter of sklearn\n",
      "                                               models into PMML.\n",
      "fasttrees (1.2.5)                            - A fast and frugal tree\n",
      "                                               classifier for sklearn\n",
      "ackeras (0.1.1)                              - Simple wrapper around Sklearn\n",
      "                                               and Autokeras\n",
      "fagroupa (0.28)                              - Try many sklearn algorithms in\n",
      "                                               no time!\n",
      "datefeatures (0.2.0)                         - Feature engineering sklearn\n",
      "                                               transformer for dates\n",
      "pdtransform (0.2)                            - Sklearn transformers that work\n",
      "                                               with Pandas dataframes\n",
      "scikit-learn-pipeline-utils (0.0.7)          - Custom Pipeline Transformers\n",
      "                                               for Sklearn Pipelines\n",
      "pandas-transformers (0.2.3)                  - Use pandas dataframes in\n",
      "                                               sklearn pipelines\n",
      "ParametricModeling (0.1.9)                   - An Sklearn interface around\n",
      "                                               scipy.optimize.least_squares\n",
      "                                               for parametric modeling\n",
      "embeddingvectorizer (0.03)                   - Sklearn vectorizers using word\n",
      "                                               embedding model\n",
      "feature-engine (0.3.1)                       - Feature engineering package\n",
      "                                               that follows sklearn\n",
      "                                               functionality\n",
      "chainlearn (0.0.2.dev0)                      - chainlearn: A sprinkle of\n",
      "                                               syntax sugar for pandas/sklearn\n",
      "pipelinetweak (0.1.0)                        - additional wrapper and classes\n",
      "                                               for sklearn' pipeline API\n",
      "candle (0.0.1)                               - a machine learning scaffolding\n",
      "                                               tool based on sklearn\n",
      "rotation-forest (0.3)                        - Sklearn style implementation of\n",
      "                                               the Rotation Forest Algorithm\n",
      "majorityvoting (0.1.5)                       - Majority Judgement Voting tool\n",
      "                                               (fit for sklearn, etc.)\n",
      "scikit-gym (0.2.6)                           - Plug-n-play reinforcement\n",
      "                                               learning with gym and sklearn\n",
      "cquai-ml (1.0.7)                             - Implement machine learning\n",
      "                                               algorithms with python without\n",
      "                                               sklearn.\n",
      "category-encoders (2.1.0)                    - A collection sklearn\n",
      "                                               transformers to encode\n",
      "                                               categorical variables as\n",
      "                                               numeric\n",
      "binary-to-string (0.1)                       - This package transforms bytes\n",
      "                                               into a string to integrate to a\n",
      "                                               sklearn Pipeline\n",
      "sklearn_pipeline_utils (0.11)                - custom transformers for sklearn\n",
      "                                               pipeline to make life easier\n",
      "micromlgen (0.8)                             - Generate C code for\n",
      "                                               microcontrollers from Python's\n",
      "                                               sklearn classifiers\n",
      "atnlp (0.0.11)                               - A tool for natural language\n",
      "                                               processing in python based on\n",
      "                                               scipy and sklearn\n",
      "ml4bio (0.1.2)                               - A graphical interface for\n",
      "                                               sklearn classification to\n",
      "                                               introduce machine learning to\n",
      "                                               biologists\n",
      "sk-algo-assist (1.1)                         - An assistant for algorithm\n",
      "                                               selection to help Data\n",
      "                                               Scientists using SKLearn.\n",
      "seq2seq-lstm (0.1.4)                         - Sequence-to-sequence classifier\n",
      "                                               based on LSTM with the simple\n",
      "                                               sklearn-like interface\n",
      "xszpo (0.23)                                 - A set of tools aiding using\n",
      "                                               DataFrame with Sklearn\n",
      "                                               Pipeline, FeatureUnion and Eli5\n",
      "abris (0.1.4)                                - Small data preprocessing engine\n",
      "                                               built on top of sklearn for\n",
      "                                               easy prototyping.\n",
      "group-lasso (1.1.1)                          - Fast group lasso regularised\n",
      "                                               linear models in a sklearn-\n",
      "                                               style API.\n",
      "gpam_training (0.0.5)                        - Module to facilitate the\n",
      "                                               integration of a sklearn\n",
      "                                               training pipeline into a deploy\n",
      "                                               and retraining system\n",
      "mlstacking (0.3.1)                           - mlstacking is a Python module\n",
      "                                               for sklearn-API friendly multi-\n",
      "                                               layer stacking\n",
      "sklearnsk (0.1.4)                            - A wrapper for sklearn, that\n",
      "                                               makes it easier to write, tune\n",
      "                                               and evaluate classification and\n",
      "                                               regression systems\n",
      "modeldb-community (1.4.1)                    - A system to manage machine\n",
      "                                               learning models for xgboost\n",
      "                                               pyspark tensorflow sklearn\n",
      "                                               keras\n",
      "arbok (0.1.21)                               - A wrapper toolbox that provides\n",
      "                                               compatibility layers between\n",
      "                                               TPOT and Auto-Sklearn and\n",
      "                                               OpenML\n",
      "valiml (0.1.20)                              - Extension of sklearn with\n",
      "                                               tweaked implementation of\n",
      "                                               common machine learning\n",
      "                                               algorithms for self-use.\n",
      "yadlt (0.0.6)                                - Implementation of various deep\n",
      "                                               learning algorithms using\n",
      "                                               Tensorflow. Class interfaces is\n",
      "                                               sklearn-like.\n",
      "neuro_tagger (0.0.1.6)                       - Text tagger, based on the ELMo\n",
      "                                               embeddings and recurrent neural\n",
      "                                               network, with the simple\n",
      "                                               sklearn-like interface\n",
      "parfit (0.220)                               - A package for parallelizing the\n",
      "                                               fit and flexibly scoring of\n",
      "                                               sklearn machine learning\n",
      "                                               models, with optional plotting\n",
      "                                               routines.\n",
      "scikit-learn-helper (0.0.10)                 - Helper code to make easier\n",
      "                                               working with sklearn. https://g\n",
      "                                               ithub.com/aras7/scikit-learn-\n",
      "                                               helper\n",
      "onehot (0.1.4)                               - One-Hot encoder with sklearn-\n",
      "                                               ish API interface that process\n",
      "                                               mixed string and numeric labels\n",
      "                                               directly.\n",
      "adversarial-labeller (0.1.5)                 - Sklearn compatiable model\n",
      "                                               instance labelling tool to help\n",
      "                                               validate models in situations\n",
      "                                               involving data drift.\n",
      "predictive_imputer (0.2.0)                   - Predictive imputation of\n",
      "                                               missing values with sklearn\n",
      "                                               interface. This is a simple\n",
      "                                               implementation of the idea\n",
      "                                               presented in the MissForest R\n",
      "                                               package.\n",
      "another_neural_net (0.1)                     - Packaged fully connected,\n",
      "                                               multilayer neural network\n",
      "                                               written in numpy with\n",
      "                                               data_recipes for testing with\n",
      "                                               sklearn datasets available on\n",
      "                                               github.\n",
      "SKompiler (0.5.5)                            - Library for compiling trained\n",
      "                                               SKLearn models into abstract\n",
      "                                               expressions suitable for\n",
      "                                               further compilation into\n",
      "                                               executable code in various\n",
      "                                               languages.\n",
      "GENDIS (1.0.13)                              -  Contains an implementation\n",
      "                                               (sklearn API) of the algorithm\n",
      "                                               proposed in \"GENDIS: GEnetic\n",
      "                                               DIscovery of Shapelets\" and\n",
      "                                               code to reproduce all\n",
      "                                               experiments.\n"
     ]
    }
   ],
   "source": [
    "!pip search sklearn"
   ]
  },
  {
   "cell_type": "code",
   "execution_count": 37,
   "metadata": {},
   "outputs": [
    {
     "name": "stdout",
     "output_type": "stream",
     "text": [
      "Package                  Version            \n",
      "------------------------ -------------------\n",
      "absl-py                  0.8.1              \n",
      "astor                    0.8.0              \n",
      "attrs                    19.3.0             \n",
      "backcall                 0.1.0              \n",
      "beautifulsoup4           4.8.1              \n",
      "bitstring                3.1.6              \n",
      "bleach                   3.1.0              \n",
      "boto                     2.49.0             \n",
      "boto3                    1.10.27            \n",
      "botocore                 1.13.27            \n",
      "bz2file                  0.98               \n",
      "cachetools               3.1.1              \n",
      "certifi                  2019.11.28         \n",
      "cffi                     1.13.2             \n",
      "chardet                  3.0.4              \n",
      "cryptography             2.8                \n",
      "cycler                   0.10.0             \n",
      "decorator                4.4.1              \n",
      "defusedxml               0.6.0              \n",
      "dill                     0.3.1.1            \n",
      "docutils                 0.15.2             \n",
      "entrypoints              0.3                \n",
      "fastcache                1.1.0              \n",
      "future                   0.18.2             \n",
      "gast                     0.2.2              \n",
      "gensim                   3.8.1              \n",
      "gmpy2                    2.0.8              \n",
      "google-auth              1.7.1              \n",
      "google-auth-oauthlib     0.4.1              \n",
      "google-pasta             0.1.8              \n",
      "googleapis-common-protos 1.6.0              \n",
      "graphviz                 0.13.2             \n",
      "grpcio                   1.25.0             \n",
      "h5py                     2.10.0             \n",
      "idna                     2.8                \n",
      "importlib-metadata       0.23               \n",
      "ipykernel                5.1.3              \n",
      "ipyparallel              6.2.4              \n",
      "ipython                  7.9.0              \n",
      "ipython-genutils         0.2.0              \n",
      "ipywidgets               7.5.1              \n",
      "jedi                     0.15.1             \n",
      "Jinja2                   2.10.3             \n",
      "jmespath                 0.9.4              \n",
      "joblib                   0.14.0             \n",
      "jsonpatch                1.24               \n",
      "jsonpointer              2.0                \n",
      "jsonschema               3.2.0              \n",
      "jupyter                  1.0.0              \n",
      "jupyter-client           5.3.4              \n",
      "jupyter-console          6.0.0              \n",
      "jupyter-core             4.6.1              \n",
      "Keras                    2.3.1              \n",
      "Keras-Applications       1.0.8              \n",
      "Keras-Preprocessing      1.1.0              \n",
      "kiwisolver               1.1.0              \n",
      "Markdown                 3.1.1              \n",
      "MarkupSafe               1.1.1              \n",
      "matlab-kernel            0.16.7             \n",
      "matplotlib               3.1.2              \n",
      "metakernel               0.24.3             \n",
      "mistune                  0.8.4              \n",
      "more-itertools           7.2.0              \n",
      "mpmath                   1.1.0              \n",
      "nbconvert                5.6.1              \n",
      "nbformat                 4.4.0              \n",
      "notebook                 6.0.2              \n",
      "numpy                    1.17.4             \n",
      "oauthlib                 3.1.0              \n",
      "opt-einsum               3.1.0              \n",
      "packaging                19.2               \n",
      "pandas                   0.25.3             \n",
      "pandocfilters            1.4.2              \n",
      "parso                    0.5.1              \n",
      "pexpect                  4.7.0              \n",
      "pickleshare              0.7.5              \n",
      "Pillow                   6.2.1              \n",
      "pip                      19.3.1             \n",
      "portalocker              1.5.2              \n",
      "prometheus-client        0.7.1              \n",
      "promise                  2.2.1              \n",
      "prompt-toolkit           2.0.10             \n",
      "protobuf                 3.10.0             \n",
      "psutil                   5.6.5              \n",
      "ptyprocess               0.6.0              \n",
      "pyasn1                   0.4.8              \n",
      "pyasn1-modules           0.2.7              \n",
      "pycparser                2.19               \n",
      "Pygments                 2.4.2              \n",
      "pyOpenSSL                19.0.0             \n",
      "pyparsing                2.4.5              \n",
      "pyro-api                 0.1.1              \n",
      "pyro-ppl                 1.0.0              \n",
      "pyrsistent               0.15.6             \n",
      "PySocks                  1.7.1              \n",
      "python-dateutil          2.8.0              \n",
      "pytz                     2019.3             \n",
      "PyYAML                   5.1.2              \n",
      "pyzmq                    18.1.1             \n",
      "qtconsole                4.6.0              \n",
      "requests                 2.22.0             \n",
      "requests-oauthlib        1.3.0              \n",
      "rsa                      4.0                \n",
      "s3transfer               0.2.1              \n",
      "scikit-learn             0.21.3             \n",
      "scipy                    1.3.2              \n",
      "seaborn                  0.9.0              \n",
      "Send2Trash               1.5.0              \n",
      "setuptools               41.6.0.post20191030\n",
      "six                      1.13.0             \n",
      "smart-open               1.9.0              \n",
      "soupsieve                1.9.5              \n",
      "stata-kernel             1.10.5             \n",
      "sympy                    1.4                \n",
      "tensorboard              2.0.1              \n",
      "tensorflow               2.0.0              \n",
      "tensorflow-datasets      1.3.0              \n",
      "tensorflow-estimator     2.0.1              \n",
      "tensorflow-gpu           2.0.0              \n",
      "tensorflow-hub           0.7.0              \n",
      "tensorflow-metadata      0.15.1             \n",
      "termcolor                1.1.0              \n",
      "terminado                0.8.3              \n",
      "testpath                 0.4.4              \n",
      "torch                    1.3.1+cu92         \n",
      "torchfile                0.1.0              \n",
      "torchvision              0.4.2+cu92         \n",
      "tornado                  6.0.3              \n",
      "tqdm                     4.39.0             \n",
      "traitlets                4.3.3              \n",
      "Unidecode                1.1.1              \n",
      "urllib3                  1.25.7             \n",
      "visdom                   0.1.8.9            \n",
      "wcwidth                  0.1.7              \n",
      "webencodings             0.5.1              \n",
      "websocket-client         0.56.0             \n",
      "Werkzeug                 0.16.0             \n",
      "wget                     3.2                \n",
      "wheel                    0.33.6             \n",
      "widgetsnbextension       3.5.1              \n",
      "wrapt                    1.11.2             \n",
      "wurlitzer                2.0.0              \n",
      "zipp                     0.6.0              \n"
     ]
    }
   ],
   "source": [
    "!pip list"
   ]
  },
  {
   "cell_type": "code",
   "execution_count": null,
   "metadata": {},
   "outputs": [],
   "source": [
    "# !pip uninstall package # remove the package\n",
    "# pip install package ==versiion (eg, pip install requests ==2.9.0)"
   ]
  }
 ],
 "metadata": {
  "kernelspec": {
   "display_name": "Python 3",
   "language": "python",
   "name": "python3"
  },
  "language_info": {
   "codemirror_mode": {
    "name": "ipython",
    "version": 3
   },
   "file_extension": ".py",
   "mimetype": "text/x-python",
   "name": "python",
   "nbconvert_exporter": "python",
   "pygments_lexer": "ipython3",
   "version": "3.7.4"
  }
 },
 "nbformat": 4,
 "nbformat_minor": 4
}
