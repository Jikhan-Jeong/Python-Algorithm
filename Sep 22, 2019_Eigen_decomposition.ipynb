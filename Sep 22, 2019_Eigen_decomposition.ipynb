{
 "cells": [
  {
   "cell_type": "markdown",
   "metadata": {},
   "source": [
    "# Sep 22, 2019 Eigen Decomposition\n",
    "* name: Jikhan Jeong\n",
    "* ref: https://www.edwith.org/linearalgebra4ai/lecture/25098/"
   ]
  },
  {
   "cell_type": "code",
   "execution_count": 3,
   "metadata": {},
   "outputs": [],
   "source": [
    "import numpy as np\n",
    "import numpy.linalg as la\n",
    "from numpy.linalg import eig\n",
    "from numpy.linalg import inv\n",
    "\n",
    "import time"
   ]
  },
  {
   "cell_type": "code",
   "execution_count": 28,
   "metadata": {},
   "outputs": [
    {
     "data": {
      "text/plain": [
       "array([[ 4,  0, -2],\n",
       "       [ 2,  5,  4],\n",
       "       [ 0,  0,  5]])"
      ]
     },
     "execution_count": 28,
     "metadata": {},
     "output_type": "execute_result"
    }
   ],
   "source": [
    "# diagonalization and power of a matrix\n",
    "A = np.array([[4, 0, -2], [2, 5, 4], [0, 0, 5]])\n",
    "A"
   ]
  },
  {
   "cell_type": "markdown",
   "metadata": {},
   "source": [
    "# Eig(set) = eigen value, eigen vector\n",
    "* from numpy.linalg import eig"
   ]
  },
  {
   "cell_type": "code",
   "execution_count": 29,
   "metadata": {},
   "outputs": [
    {
     "data": {
      "text/plain": [
       "array([5., 4., 5.])"
      ]
     },
     "execution_count": 29,
     "metadata": {},
     "output_type": "execute_result"
    }
   ],
   "source": [
    "eig_val, eig_vec = eig(A)\n",
    "eig_val"
   ]
  },
  {
   "cell_type": "code",
   "execution_count": 30,
   "metadata": {},
   "outputs": [
    {
     "data": {
      "text/plain": [
       "(array([5., 4., 5.]), array([[ 0.        ,  0.4472136 , -0.89442719],\n",
       "        [ 1.        , -0.89442719,  0.        ],\n",
       "        [ 0.        ,  0.        ,  0.4472136 ]]))"
      ]
     },
     "execution_count": 30,
     "metadata": {},
     "output_type": "execute_result"
    }
   ],
   "source": [
    "eig_vec = eig(A)\n",
    "eig_vec\n",
    "# column 1 is a eigen vector of elgenvalue 5\n",
    "# column 2 is a eigen vector of elgenvalue 4\n",
    "# column 3 is a eigen vector of elgenvalue 5"
   ]
  },
  {
   "cell_type": "markdown",
   "metadata": {},
   "source": [
    "# $A = VDV^{-1}$\n",
    "* D = np.diag(eigen value)"
   ]
  },
  {
   "cell_type": "code",
   "execution_count": 12,
   "metadata": {},
   "outputs": [
    {
     "data": {
      "text/plain": [
       "array([[5., 0., 0.],\n",
       "       [0., 4., 0.],\n",
       "       [0., 0., 5.]])"
      ]
     },
     "execution_count": 12,
     "metadata": {},
     "output_type": "execute_result"
    }
   ],
   "source": [
    "D = np.diag(eig_val)\n",
    "D"
   ]
  },
  {
   "cell_type": "code",
   "execution_count": 13,
   "metadata": {},
   "outputs": [
    {
     "data": {
      "text/plain": [
       "array([[ 0.        ,  0.4472136 , -0.89442719],\n",
       "       [ 1.        , -0.89442719,  0.        ],\n",
       "       [ 0.        ,  0.        ,  0.4472136 ]])"
      ]
     },
     "execution_count": 13,
     "metadata": {},
     "output_type": "execute_result"
    }
   ],
   "source": [
    "V = eig_vec\n",
    "V"
   ]
  },
  {
   "cell_type": "markdown",
   "metadata": {},
   "source": [
    "# $T(x)= Ax = VDV_{-1}x = V(D(V^{-1}x))$\n",
    "* interse matrix = la.inv"
   ]
  },
  {
   "cell_type": "code",
   "execution_count": 14,
   "metadata": {},
   "outputs": [
    {
     "data": {
      "text/plain": [
       "array([[ 4.,  0., -2.],\n",
       "       [ 2.,  5.,  4.],\n",
       "       [ 0.,  0.,  5.]])"
      ]
     },
     "execution_count": 14,
     "metadata": {},
     "output_type": "execute_result"
    }
   ],
   "source": [
    "V.dot(D).dot(la.inv(V))  # = A"
   ]
  },
  {
   "cell_type": "markdown",
   "metadata": {},
   "source": [
    "# $A^{5}$"
   ]
  },
  {
   "cell_type": "code",
   "execution_count": 15,
   "metadata": {},
   "outputs": [
    {
     "data": {
      "text/plain": [
       "array([[ 1024,     0, -4202],\n",
       "       [ 4202,  3125,  8404],\n",
       "       [    0,     0,  3125]])"
      ]
     },
     "execution_count": 15,
     "metadata": {},
     "output_type": "execute_result"
    }
   ],
   "source": [
    "la.matrix_power(A,5)"
   ]
  },
  {
   "cell_type": "markdown",
   "metadata": {},
   "source": [
    "# $D^{5}$"
   ]
  },
  {
   "cell_type": "code",
   "execution_count": 16,
   "metadata": {},
   "outputs": [
    {
     "data": {
      "text/plain": [
       "array([[3125.,    0.,    0.],\n",
       "       [   0., 1024.,    0.],\n",
       "       [   0.,    0., 3125.]])"
      ]
     },
     "execution_count": 16,
     "metadata": {},
     "output_type": "execute_result"
    }
   ],
   "source": [
    "D_power_5 = np.diag(eig_val**5)\n",
    "D_power_5"
   ]
  },
  {
   "cell_type": "markdown",
   "metadata": {},
   "source": [
    "# $A^{5} = VD^{5}V^{-1}$"
   ]
  },
  {
   "cell_type": "code",
   "execution_count": 19,
   "metadata": {},
   "outputs": [
    {
     "data": {
      "text/plain": [
       "array([[ 1024.,     0., -4202.],\n",
       "       [ 4202.,  3125.,  8404.],\n",
       "       [    0.,     0.,  3125.]])"
      ]
     },
     "execution_count": 19,
     "metadata": {},
     "output_type": "execute_result"
    }
   ],
   "source": [
    "V.dot(D_power_5).dot(la.inv(V)) # V^5"
   ]
  },
  {
   "cell_type": "markdown",
   "metadata": {},
   "source": [
    "# Time Check in two different wasy for eigen value    \n",
    "# decomposition\n",
    "# $A^{k}x = VD^{k}V^{-1}x$"
   ]
  },
  {
   "cell_type": "code",
   "execution_count": 33,
   "metadata": {},
   "outputs": [
    {
     "data": {
      "text/plain": [
       "array([0.43649489, 0.82271485, 0.50183461, 0.94555263, 0.64509335])"
      ]
     },
     "execution_count": 33,
     "metadata": {},
     "output_type": "execute_result"
    }
   ],
   "source": [
    "x = np.random.rand(5)\n",
    "x"
   ]
  },
  {
   "cell_type": "code",
   "execution_count": 24,
   "metadata": {},
   "outputs": [
    {
     "name": "stdout",
     "output_type": "stream",
     "text": [
      "A :  [[ 0.17777778  0.08888889  0.17777778  0.26666667  0.28888889]\n",
      " [ 0.0625      0.03125     0.15625     0.28125     0.46875   ]\n",
      " [ 0.12903226  0.16129032  0.35483871  0.19354839  0.16129032]\n",
      " [ 0.19672131  0.29508197  0.19672131  0.32786885 -0.01639344]\n",
      " [ 0.2826087   0.65217391  0.2173913  -0.02173913 -0.13043478]]\n",
      "y:  [0.44130873 0.44130873 0.44130873 0.44130873 0.44130873]\n",
      "elapse_time :  1.046462059020996\n"
     ]
    }
   ],
   "source": [
    "# create a matrix A to make eigen matrix is possible.\n",
    "\n",
    "A = np.array([[4., 4, 2, 3, -2], [0, 1, -2, -2, 2], [6, 12, 11, 2, -4], [9, 20, 10, 10, -6], [15, 28, 14, 5, -3]])\n",
    "\n",
    "A = A + A.T # symmetric\n",
    "A = A/np.expand_dims(np.sum(A, 1), axis = 1)\n",
    "print ('A : ', A)\n",
    "\n",
    "# initialize parameters\n",
    "x = np.random.rand(5)\n",
    "n_times = 1000000\n",
    "\n",
    "# perform matrix multiplications\n",
    "y = x\n",
    "start_time = time.time()\n",
    "for i in range(0, n_times):\n",
    "    y = A.dot(y)\n",
    "end_time = time.time()\n",
    "elapse_time = end_time - start_time\n",
    "print ('y: ', y)\n",
    "print ('elapse_time : ', elapse_time)"
   ]
  },
  {
   "cell_type": "markdown",
   "metadata": {},
   "source": [
    "# Eig(set) = eigen value, eigen vector\n",
    "* from numpy.linalg import eig\n",
    "* la.solve(V,x), $a =V^{-1}x, where Va = x$\n",
    "* '*' : element wise "
   ]
  },
  {
   "cell_type": "code",
   "execution_count": 25,
   "metadata": {},
   "outputs": [
    {
     "name": "stdout",
     "output_type": "stream",
     "text": [
      "y:  [0.44130873 0.44130873 0.44130873 0.44130873 0.44130873]\n",
      "elapse_time :  0.0010311603546142578\n"
     ]
    }
   ],
   "source": [
    "eig_val, eig_vec = eig(A)\n",
    "D = np.diag(eig_val)\n",
    "V = eig_vec\n",
    "\n",
    "# perform matrix multiplications using eigendecomposition\n",
    "start_time = time.time()\n",
    "y = V.dot((eig_val**n_times)*la.solve(V,x))\n",
    "end_time = time.time()\n",
    "elapse_time = end_time - start_time\n",
    "print ('y: ', y)\n",
    "print ('elapse_time : ', elapse_time)"
   ]
  }
 ],
 "metadata": {
  "kernelspec": {
   "display_name": "Python 3",
   "language": "python",
   "name": "python3"
  },
  "language_info": {
   "codemirror_mode": {
    "name": "ipython",
    "version": 3
   },
   "file_extension": ".py",
   "mimetype": "text/x-python",
   "name": "python",
   "nbconvert_exporter": "python",
   "pygments_lexer": "ipython3",
   "version": "3.7.3"
  }
 },
 "nbformat": 4,
 "nbformat_minor": 2
}
