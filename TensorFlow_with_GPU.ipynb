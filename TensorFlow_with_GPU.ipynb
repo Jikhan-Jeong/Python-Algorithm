{
  "nbformat": 4,
  "nbformat_minor": 0,
  "metadata": {
    "colab": {
      "name": "TensorFlow with GPU",
      "version": "0.3.2",
      "provenance": [],
      "collapsed_sections": [],
      "toc_visible": true,
      "include_colab_link": true
    },
    "kernelspec": {
      "name": "python3",
      "display_name": "Python 3"
    },
    "accelerator": "GPU"
  },
  "cells": [
    {
      "cell_type": "markdown",
      "metadata": {
        "id": "view-in-github",
        "colab_type": "text"
      },
      "source": [
        "<a href=\"https://colab.research.google.com/github/jikhans/python_algorthm_basic/blob/master/TensorFlow_with_GPU.ipynb\" target=\"_parent\"><img src=\"https://colab.research.google.com/assets/colab-badge.svg\" alt=\"Open In Colab\"/></a>"
      ]
    },
    {
      "metadata": {
        "id": "qkW4onSCUX1N",
        "colab_type": "text"
      },
      "cell_type": "markdown",
      "source": [
        "# 2019_03_10_Tensorflow pactice\n",
        "[reference site](https://medium.com/@jjeaby/colaboratory-%EC%9D%98-gpu-%EB%A5%BC-%EC%9D%B4%EC%9A%A9%ED%95%B4-deep-learning-%EC%9D%84-%ED%95%B4%EB%B3%B4%EC%9E%90-79e12e6ed3b0)\n",
        "\n",
        "Control + M + H : shortcut list\n",
        "Control + M + B : plug new cells\n",
        "Control + M + I  : stop "
      ]
    },
    {
      "metadata": {
        "id": "DtKxHU9mUZFf",
        "colab_type": "code",
        "colab": {
          "base_uri": "https://localhost:8080/",
          "height": 36
        },
        "outputId": "0b45169a-a512-418a-cae8-1fa880f73cc2"
      },
      "cell_type": "code",
      "source": [
        "import tensorflow as tf\n",
        "hello = tf.constant('hello')\n",
        "sess = tf.Session()\n",
        "sess.run(hello)\n",
        "a = tf.constant(10)\n",
        "b = tf.constant(32)\n",
        "sess.run(a+b)"
      ],
      "execution_count": 3,
      "outputs": [
        {
          "output_type": "execute_result",
          "data": {
            "text/plain": [
              "42"
            ]
          },
          "metadata": {
            "tags": []
          },
          "execution_count": 3
        }
      ]
    },
    {
      "metadata": {
        "id": "CtnL79RbVGex",
        "colab_type": "text"
      },
      "cell_type": "markdown",
      "source": [
        "# Installing Package as a defalut"
      ]
    },
    {
      "metadata": {
        "id": "0KZVyYZDVL-Z",
        "colab_type": "code",
        "colab": {}
      },
      "cell_type": "code",
      "source": [
        "!pip show tensorflow\n",
        "!pip install sklearn\n",
        "!pip install keras\n",
        "!pip install matplotlib"
      ],
      "execution_count": 0,
      "outputs": []
    },
    {
      "metadata": {
        "id": "efAVoz6cVWO9",
        "colab_type": "code",
        "colab": {}
      },
      "cell_type": "code",
      "source": [
        "!nvidia-smi"
      ],
      "execution_count": 0,
      "outputs": []
    },
    {
      "metadata": {
        "id": "bgP-3QNSWbjv",
        "colab_type": "code",
        "colab": {
          "base_uri": "https://localhost:8080/",
          "height": 36
        },
        "outputId": "42846f01-5771-40dc-d70c-83b82cc84428"
      },
      "cell_type": "code",
      "source": [
        "import tensorflow as tf\n",
        "device_name = tf.test.gpu_device_name()\n",
        "if device_name != '/device:GPU:0':\n",
        "  raise SystemError('GPU device not found')\n",
        "print('Found GPU at: {}'.format(device_name))"
      ],
      "execution_count": 4,
      "outputs": [
        {
          "output_type": "stream",
          "text": [
            "Found GPU at: /device:GPU:0\n"
          ],
          "name": "stdout"
        }
      ]
    },
    {
      "metadata": {
        "id": "p73ltSCjW0WQ",
        "colab_type": "code",
        "colab": {
          "base_uri": "https://localhost:8080/",
          "height": 36
        },
        "outputId": "3bc7a19d-aef7-4ebf-c1cf-f5739e5353a3"
      },
      "cell_type": "code",
      "source": [
        "import tensorflow as tf\n",
        "tf.test.gpu_device_name()"
      ],
      "execution_count": 5,
      "outputs": [
        {
          "output_type": "execute_result",
          "data": {
            "text/plain": [
              "'/device:GPU:0'"
            ]
          },
          "metadata": {
            "tags": []
          },
          "execution_count": 5
        }
      ]
    },
    {
      "metadata": {
        "id": "t9oOcy_GXFBz",
        "colab_type": "code",
        "colab": {
          "resources": {
            "http://localhost:8080/nbextensions/google.colab/files.js": {
              "data": "Ly8gQ29weXJpZ2h0IDIwMTcgR29vZ2xlIExMQwovLwovLyBMaWNlbnNlZCB1bmRlciB0aGUgQXBhY2hlIExpY2Vuc2UsIFZlcnNpb24gMi4wICh0aGUgIkxpY2Vuc2UiKTsKLy8geW91IG1heSBub3QgdXNlIHRoaXMgZmlsZSBleGNlcHQgaW4gY29tcGxpYW5jZSB3aXRoIHRoZSBMaWNlbnNlLgovLyBZb3UgbWF5IG9idGFpbiBhIGNvcHkgb2YgdGhlIExpY2Vuc2UgYXQKLy8KLy8gICAgICBodHRwOi8vd3d3LmFwYWNoZS5vcmcvbGljZW5zZXMvTElDRU5TRS0yLjAKLy8KLy8gVW5sZXNzIHJlcXVpcmVkIGJ5IGFwcGxpY2FibGUgbGF3IG9yIGFncmVlZCB0byBpbiB3cml0aW5nLCBzb2Z0d2FyZQovLyBkaXN0cmlidXRlZCB1bmRlciB0aGUgTGljZW5zZSBpcyBkaXN0cmlidXRlZCBvbiBhbiAiQVMgSVMiIEJBU0lTLAovLyBXSVRIT1VUIFdBUlJBTlRJRVMgT1IgQ09ORElUSU9OUyBPRiBBTlkgS0lORCwgZWl0aGVyIGV4cHJlc3Mgb3IgaW1wbGllZC4KLy8gU2VlIHRoZSBMaWNlbnNlIGZvciB0aGUgc3BlY2lmaWMgbGFuZ3VhZ2UgZ292ZXJuaW5nIHBlcm1pc3Npb25zIGFuZAovLyBsaW1pdGF0aW9ucyB1bmRlciB0aGUgTGljZW5zZS4KCi8qKgogKiBAZmlsZW92ZXJ2aWV3IEhlbHBlcnMgZm9yIGdvb2dsZS5jb2xhYiBQeXRob24gbW9kdWxlLgogKi8KKGZ1bmN0aW9uKHNjb3BlKSB7CmZ1bmN0aW9uIHNwYW4odGV4dCwgc3R5bGVBdHRyaWJ1dGVzID0ge30pIHsKICBjb25zdCBlbGVtZW50ID0gZG9jdW1lbnQuY3JlYXRlRWxlbWVudCgnc3BhbicpOwogIGVsZW1lbnQudGV4dENvbnRlbnQgPSB0ZXh0OwogIGZvciAoY29uc3Qga2V5IG9mIE9iamVjdC5rZXlzKHN0eWxlQXR0cmlidXRlcykpIHsKICAgIGVsZW1lbnQuc3R5bGVba2V5XSA9IHN0eWxlQXR0cmlidXRlc1trZXldOwogIH0KICByZXR1cm4gZWxlbWVudDsKfQoKLy8gTWF4IG51bWJlciBvZiBieXRlcyB3aGljaCB3aWxsIGJlIHVwbG9hZGVkIGF0IGEgdGltZS4KY29uc3QgTUFYX1BBWUxPQURfU0laRSA9IDEwMCAqIDEwMjQ7Ci8vIE1heCBhbW91bnQgb2YgdGltZSB0byBibG9jayB3YWl0aW5nIGZvciB0aGUgdXNlci4KY29uc3QgRklMRV9DSEFOR0VfVElNRU9VVF9NUyA9IDMwICogMTAwMDsKCmZ1bmN0aW9uIF91cGxvYWRGaWxlcyhpbnB1dElkLCBvdXRwdXRJZCkgewogIGNvbnN0IHN0ZXBzID0gdXBsb2FkRmlsZXNTdGVwKGlucHV0SWQsIG91dHB1dElkKTsKICBjb25zdCBvdXRwdXRFbGVtZW50ID0gZG9jdW1lbnQuZ2V0RWxlbWVudEJ5SWQob3V0cHV0SWQpOwogIC8vIENhY2hlIHN0ZXBzIG9uIHRoZSBvdXRwdXRFbGVtZW50IHRvIG1ha2UgaXQgYXZhaWxhYmxlIGZvciB0aGUgbmV4dCBjYWxsCiAgLy8gdG8gdXBsb2FkRmlsZXNDb250aW51ZSBmcm9tIFB5dGhvbi4KICBvdXRwdXRFbGVtZW50LnN0ZXBzID0gc3RlcHM7CgogIHJldHVybiBfdXBsb2FkRmlsZXNDb250aW51ZShvdXRwdXRJZCk7Cn0KCi8vIFRoaXMgaXMgcm91Z2hseSBhbiBhc3luYyBnZW5lcmF0b3IgKG5vdCBzdXBwb3J0ZWQgaW4gdGhlIGJyb3dzZXIgeWV0KSwKLy8gd2hlcmUgdGhlcmUgYXJlIG11bHRpcGxlIGFzeW5jaHJvbm91cyBzdGVwcyBhbmQgdGhlIFB5dGhvbiBzaWRlIGlzIGdvaW5nCi8vIHRvIHBvbGwgZm9yIGNvbXBsZXRpb24gb2YgZWFjaCBzdGVwLgovLyBUaGlzIHVzZXMgYSBQcm9taXNlIHRvIGJsb2NrIHRoZSBweXRob24gc2lkZSBvbiBjb21wbGV0aW9uIG9mIGVhY2ggc3RlcCwKLy8gdGhlbiBwYXNzZXMgdGhlIHJlc3VsdCBvZiB0aGUgcHJldmlvdXMgc3RlcCBhcyB0aGUgaW5wdXQgdG8gdGhlIG5leHQgc3RlcC4KZnVuY3Rpb24gX3VwbG9hZEZpbGVzQ29udGludWUob3V0cHV0SWQpIHsKICBjb25zdCBvdXRwdXRFbGVtZW50ID0gZG9jdW1lbnQuZ2V0RWxlbWVudEJ5SWQob3V0cHV0SWQpOwogIGNvbnN0IHN0ZXBzID0gb3V0cHV0RWxlbWVudC5zdGVwczsKCiAgY29uc3QgbmV4dCA9IHN0ZXBzLm5leHQob3V0cHV0RWxlbWVudC5sYXN0UHJvbWlzZVZhbHVlKTsKICByZXR1cm4gUHJvbWlzZS5yZXNvbHZlKG5leHQudmFsdWUucHJvbWlzZSkudGhlbigodmFsdWUpID0+IHsKICAgIC8vIENhY2hlIHRoZSBsYXN0IHByb21pc2UgdmFsdWUgdG8gbWFrZSBpdCBhdmFpbGFibGUgdG8gdGhlIG5leHQKICAgIC8vIHN0ZXAgb2YgdGhlIGdlbmVyYXRvci4KICAgIG91dHB1dEVsZW1lbnQubGFzdFByb21pc2VWYWx1ZSA9IHZhbHVlOwogICAgcmV0dXJuIG5leHQudmFsdWUucmVzcG9uc2U7CiAgfSk7Cn0KCi8qKgogKiBHZW5lcmF0b3IgZnVuY3Rpb24gd2hpY2ggaXMgY2FsbGVkIGJldHdlZW4gZWFjaCBhc3luYyBzdGVwIG9mIHRoZSB1cGxvYWQKICogcHJvY2Vzcy4KICogQHBhcmFtIHtzdHJpbmd9IGlucHV0SWQgRWxlbWVudCBJRCBvZiB0aGUgaW5wdXQgZmlsZSBwaWNrZXIgZWxlbWVudC4KICogQHBhcmFtIHtzdHJpbmd9IG91dHB1dElkIEVsZW1lbnQgSUQgb2YgdGhlIG91dHB1dCBkaXNwbGF5LgogKiBAcmV0dXJuIHshSXRlcmFibGU8IU9iamVjdD59IEl0ZXJhYmxlIG9mIG5leHQgc3RlcHMuCiAqLwpmdW5jdGlvbiogdXBsb2FkRmlsZXNTdGVwKGlucHV0SWQsIG91dHB1dElkKSB7CiAgY29uc3QgaW5wdXRFbGVtZW50ID0gZG9jdW1lbnQuZ2V0RWxlbWVudEJ5SWQoaW5wdXRJZCk7CiAgaW5wdXRFbGVtZW50LmRpc2FibGVkID0gZmFsc2U7CgogIGNvbnN0IG91dHB1dEVsZW1lbnQgPSBkb2N1bWVudC5nZXRFbGVtZW50QnlJZChvdXRwdXRJZCk7CiAgb3V0cHV0RWxlbWVudC5pbm5lckhUTUwgPSAnJzsKCiAgY29uc3QgcGlja2VkUHJvbWlzZSA9IG5ldyBQcm9taXNlKChyZXNvbHZlKSA9PiB7CiAgICBpbnB1dEVsZW1lbnQuYWRkRXZlbnRMaXN0ZW5lcignY2hhbmdlJywgKGUpID0+IHsKICAgICAgcmVzb2x2ZShlLnRhcmdldC5maWxlcyk7CiAgICB9KTsKICB9KTsKCiAgY29uc3QgY2FuY2VsID0gZG9jdW1lbnQuY3JlYXRlRWxlbWVudCgnYnV0dG9uJyk7CiAgaW5wdXRFbGVtZW50LnBhcmVudEVsZW1lbnQuYXBwZW5kQ2hpbGQoY2FuY2VsKTsKICBjYW5jZWwudGV4dENvbnRlbnQgPSAnQ2FuY2VsIHVwbG9hZCc7CiAgY29uc3QgY2FuY2VsUHJvbWlzZSA9IG5ldyBQcm9taXNlKChyZXNvbHZlKSA9PiB7CiAgICBjYW5jZWwub25jbGljayA9ICgpID0+IHsKICAgICAgcmVzb2x2ZShudWxsKTsKICAgIH07CiAgfSk7CgogIC8vIENhbmNlbCB1cGxvYWQgaWYgdXNlciBoYXNuJ3QgcGlja2VkIGFueXRoaW5nIGluIHRpbWVvdXQuCiAgY29uc3QgdGltZW91dFByb21pc2UgPSBuZXcgUHJvbWlzZSgocmVzb2x2ZSkgPT4gewogICAgc2V0VGltZW91dCgoKSA9PiB7CiAgICAgIHJlc29sdmUobnVsbCk7CiAgICB9LCBGSUxFX0NIQU5HRV9USU1FT1VUX01TKTsKICB9KTsKCiAgLy8gV2FpdCBmb3IgdGhlIHVzZXIgdG8gcGljayB0aGUgZmlsZXMuCiAgY29uc3QgZmlsZXMgPSB5aWVsZCB7CiAgICBwcm9taXNlOiBQcm9taXNlLnJhY2UoW3BpY2tlZFByb21pc2UsIHRpbWVvdXRQcm9taXNlLCBjYW5jZWxQcm9taXNlXSksCiAgICByZXNwb25zZTogewogICAgICBhY3Rpb246ICdzdGFydGluZycsCiAgICB9CiAgfTsKCiAgaWYgKCFmaWxlcykgewogICAgcmV0dXJuIHsKICAgICAgcmVzcG9uc2U6IHsKICAgICAgICBhY3Rpb246ICdjb21wbGV0ZScsCiAgICAgIH0KICAgIH07CiAgfQoKICBjYW5jZWwucmVtb3ZlKCk7CgogIC8vIERpc2FibGUgdGhlIGlucHV0IGVsZW1lbnQgc2luY2UgZnVydGhlciBwaWNrcyBhcmUgbm90IGFsbG93ZWQuCiAgaW5wdXRFbGVtZW50LmRpc2FibGVkID0gdHJ1ZTsKCiAgZm9yIChjb25zdCBmaWxlIG9mIGZpbGVzKSB7CiAgICBjb25zdCBsaSA9IGRvY3VtZW50LmNyZWF0ZUVsZW1lbnQoJ2xpJyk7CiAgICBsaS5hcHBlbmQoc3BhbihmaWxlLm5hbWUsIHtmb250V2VpZ2h0OiAnYm9sZCd9KSk7CiAgICBsaS5hcHBlbmQoc3BhbigKICAgICAgICBgKCR7ZmlsZS50eXBlIHx8ICduL2EnfSkgLSAke2ZpbGUuc2l6ZX0gYnl0ZXMsIGAgKwogICAgICAgIGBsYXN0IG1vZGlmaWVkOiAkewogICAgICAgICAgICBmaWxlLmxhc3RNb2RpZmllZERhdGUgPyBmaWxlLmxhc3RNb2RpZmllZERhdGUudG9Mb2NhbGVEYXRlU3RyaW5nKCkgOgogICAgICAgICAgICAgICAgICAgICAgICAgICAgICAgICAgICAnbi9hJ30gLSBgKSk7CiAgICBjb25zdCBwZXJjZW50ID0gc3BhbignMCUgZG9uZScpOwogICAgbGkuYXBwZW5kQ2hpbGQocGVyY2VudCk7CgogICAgb3V0cHV0RWxlbWVudC5hcHBlbmRDaGlsZChsaSk7CgogICAgY29uc3QgZmlsZURhdGFQcm9taXNlID0gbmV3IFByb21pc2UoKHJlc29sdmUpID0+IHsKICAgICAgY29uc3QgcmVhZGVyID0gbmV3IEZpbGVSZWFkZXIoKTsKICAgICAgcmVhZGVyLm9ubG9hZCA9IChlKSA9PiB7CiAgICAgICAgcmVzb2x2ZShlLnRhcmdldC5yZXN1bHQpOwogICAgICB9OwogICAgICByZWFkZXIucmVhZEFzQXJyYXlCdWZmZXIoZmlsZSk7CiAgICB9KTsKICAgIC8vIFdhaXQgZm9yIHRoZSBkYXRhIHRvIGJlIHJlYWR5LgogICAgbGV0IGZpbGVEYXRhID0geWllbGQgewogICAgICBwcm9taXNlOiBmaWxlRGF0YVByb21pc2UsCiAgICAgIHJlc3BvbnNlOiB7CiAgICAgICAgYWN0aW9uOiAnY29udGludWUnLAogICAgICB9CiAgICB9OwoKICAgIC8vIFVzZSBhIGNodW5rZWQgc2VuZGluZyB0byBhdm9pZCBtZXNzYWdlIHNpemUgbGltaXRzLiBTZWUgYi82MjExNTY2MC4KICAgIGxldCBwb3NpdGlvbiA9IDA7CiAgICB3aGlsZSAocG9zaXRpb24gPCBmaWxlRGF0YS5ieXRlTGVuZ3RoKSB7CiAgICAgIGNvbnN0IGxlbmd0aCA9IE1hdGgubWluKGZpbGVEYXRhLmJ5dGVMZW5ndGggLSBwb3NpdGlvbiwgTUFYX1BBWUxPQURfU0laRSk7CiAgICAgIGNvbnN0IGNodW5rID0gbmV3IFVpbnQ4QXJyYXkoZmlsZURhdGEsIHBvc2l0aW9uLCBsZW5ndGgpOwogICAgICBwb3NpdGlvbiArPSBsZW5ndGg7CgogICAgICBjb25zdCBiYXNlNjQgPSBidG9hKFN0cmluZy5mcm9tQ2hhckNvZGUuYXBwbHkobnVsbCwgY2h1bmspKTsKICAgICAgeWllbGQgewogICAgICAgIHJlc3BvbnNlOiB7CiAgICAgICAgICBhY3Rpb246ICdhcHBlbmQnLAogICAgICAgICAgZmlsZTogZmlsZS5uYW1lLAogICAgICAgICAgZGF0YTogYmFzZTY0LAogICAgICAgIH0sCiAgICAgIH07CiAgICAgIHBlcmNlbnQudGV4dENvbnRlbnQgPQogICAgICAgICAgYCR7TWF0aC5yb3VuZCgocG9zaXRpb24gLyBmaWxlRGF0YS5ieXRlTGVuZ3RoKSAqIDEwMCl9JSBkb25lYDsKICAgIH0KICB9CgogIC8vIEFsbCBkb25lLgogIHlpZWxkIHsKICAgIHJlc3BvbnNlOiB7CiAgICAgIGFjdGlvbjogJ2NvbXBsZXRlJywKICAgIH0KICB9Owp9CgpzY29wZS5nb29nbGUgPSBzY29wZS5nb29nbGUgfHwge307CnNjb3BlLmdvb2dsZS5jb2xhYiA9IHNjb3BlLmdvb2dsZS5jb2xhYiB8fCB7fTsKc2NvcGUuZ29vZ2xlLmNvbGFiLl9maWxlcyA9IHsKICBfdXBsb2FkRmlsZXMsCiAgX3VwbG9hZEZpbGVzQ29udGludWUsCn07Cn0pKHNlbGYpOwo=",
              "ok": true,
              "headers": [
                [
                  "content-type",
                  "application/javascript"
                ]
              ],
              "status": 200,
              "status_text": ""
            }
          },
          "base_uri": "https://localhost:8080/",
          "height": 79
        },
        "outputId": "8b80ec4a-c58e-4351-b87e-4960115f3995"
      },
      "cell_type": "code",
      "source": [
        "from google.colab import files\n",
        "uploaded = files.upload()"
      ],
      "execution_count": 6,
      "outputs": [
        {
          "output_type": "display_data",
          "data": {
            "text/html": [
              "\n",
              "     <input type=\"file\" id=\"files-712b588e-b253-41b2-9693-af0695c13bf4\" name=\"files[]\" multiple disabled />\n",
              "     <output id=\"result-712b588e-b253-41b2-9693-af0695c13bf4\">\n",
              "      Upload widget is only available when the cell has been executed in the\n",
              "      current browser session. Please rerun this cell to enable.\n",
              "      </output>\n",
              "      <script src=\"/nbextensions/google.colab/files.js\"></script> "
            ],
            "text/plain": [
              "<IPython.core.display.HTML object>"
            ]
          },
          "metadata": {
            "tags": []
          }
        },
        {
          "output_type": "stream",
          "text": [
            "Saving data.csv to data.csv\n"
          ],
          "name": "stdout"
        }
      ]
    },
    {
      "metadata": {
        "id": "nGx5arM2X58F",
        "colab_type": "code",
        "colab": {
          "base_uri": "https://localhost:8080/",
          "height": 55
        },
        "outputId": "2a56944b-e40c-4b91-8e3a-735824489f8a"
      },
      "cell_type": "code",
      "source": [
        "!pip install -U -q PyDrive # library for acess to google drive"
      ],
      "execution_count": 8,
      "outputs": [
        {
          "output_type": "stream",
          "text": [
            "\u001b[?25l\r\u001b[K    1% |▎                               | 10kB 21.1MB/s eta 0:00:01\r\u001b[K    2% |▋                               | 20kB 2.2MB/s eta 0:00:01\r\u001b[K    3% |█                               | 30kB 3.3MB/s eta 0:00:01\r\u001b[K    4% |█▎                              | 40kB 2.1MB/s eta 0:00:01\r\u001b[K    5% |█▋                              | 51kB 2.6MB/s eta 0:00:01\r\u001b[K    6% |██                              | 61kB 3.1MB/s eta 0:00:01\r\u001b[K    7% |██▎                             | 71kB 3.6MB/s eta 0:00:01\r\u001b[K    8% |██▋                             | 81kB 4.1MB/s eta 0:00:01\r\u001b[K    9% |███                             | 92kB 4.5MB/s eta 0:00:01\r\u001b[K    10% |███▎                            | 102kB 3.5MB/s eta 0:00:01\r\u001b[K    11% |███▋                            | 112kB 3.5MB/s eta 0:00:01\r\u001b[K    12% |████                            | 122kB 5.0MB/s eta 0:00:01\r\u001b[K    13% |████▎                           | 133kB 5.0MB/s eta 0:00:01\r\u001b[K    14% |████▋                           | 143kB 9.4MB/s eta 0:00:01\r\u001b[K    15% |█████                           | 153kB 9.4MB/s eta 0:00:01\r\u001b[K    16% |█████▎                          | 163kB 9.4MB/s eta 0:00:01\r\u001b[K    17% |█████▋                          | 174kB 9.4MB/s eta 0:00:01\r\u001b[K    18% |██████                          | 184kB 9.5MB/s eta 0:00:01\r\u001b[K    19% |██████▎                         | 194kB 9.4MB/s eta 0:00:01\r\u001b[K    20% |██████▋                         | 204kB 39.9MB/s eta 0:00:01\r\u001b[K    21% |███████                         | 215kB 10.4MB/s eta 0:00:01\r\u001b[K    22% |███████▎                        | 225kB 10.2MB/s eta 0:00:01\r\u001b[K    23% |███████▋                        | 235kB 10.2MB/s eta 0:00:01\r\u001b[K    24% |████████                        | 245kB 10.0MB/s eta 0:00:01\r\u001b[K    25% |████████▎                       | 256kB 9.9MB/s eta 0:00:01\r\u001b[K    26% |████████▋                       | 266kB 9.5MB/s eta 0:00:01\r\u001b[K    27% |█████████                       | 276kB 9.5MB/s eta 0:00:01\r\u001b[K    29% |█████████▎                      | 286kB 9.5MB/s eta 0:00:01\r\u001b[K    30% |█████████▋                      | 296kB 9.4MB/s eta 0:00:01\r\u001b[K    31% |██████████                      | 307kB 9.6MB/s eta 0:00:01\r\u001b[K    32% |██████████▎                     | 317kB 31.8MB/s eta 0:00:01\r\u001b[K    33% |██████████▋                     | 327kB 33.5MB/s eta 0:00:01\r\u001b[K    34% |███████████                     | 337kB 35.6MB/s eta 0:00:01\r\u001b[K    35% |███████████▎                    | 348kB 34.3MB/s eta 0:00:01\r\u001b[K    36% |███████████▋                    | 358kB 35.8MB/s eta 0:00:01\r\u001b[K    37% |████████████                    | 368kB 42.0MB/s eta 0:00:01\r\u001b[K    38% |████████████▎                   | 378kB 44.0MB/s eta 0:00:01\r\u001b[K    39% |████████████▋                   | 389kB 45.8MB/s eta 0:00:01\r\u001b[K    40% |█████████████                   | 399kB 15.1MB/s eta 0:00:01\r\u001b[K    41% |█████████████▎                  | 409kB 14.7MB/s eta 0:00:01\r\u001b[K    42% |█████████████▋                  | 419kB 14.6MB/s eta 0:00:01\r\u001b[K    43% |██████████████                  | 430kB 14.5MB/s eta 0:00:01\r\u001b[K    44% |██████████████▎                 | 440kB 14.2MB/s eta 0:00:01\r\u001b[K    45% |██████████████▋                 | 450kB 14.3MB/s eta 0:00:01\r\u001b[K    46% |███████████████                 | 460kB 14.3MB/s eta 0:00:01\r\u001b[K    47% |███████████████▎                | 471kB 14.3MB/s eta 0:00:01\r\u001b[K    48% |███████████████▋                | 481kB 14.3MB/s eta 0:00:01\r\u001b[K    49% |████████████████                | 491kB 14.3MB/s eta 0:00:01\r\u001b[K    50% |████████████████▎               | 501kB 40.5MB/s eta 0:00:01\r\u001b[K    51% |████████████████▋               | 512kB 41.7MB/s eta 0:00:01\r\u001b[K    52% |█████████████████               | 522kB 43.7MB/s eta 0:00:01\r\u001b[K    53% |█████████████████▎              | 532kB 44.2MB/s eta 0:00:01\r\u001b[K    54% |█████████████████▋              | 542kB 47.8MB/s eta 0:00:01\r\u001b[K    55% |██████████████████              | 552kB 52.6MB/s eta 0:00:01\r\u001b[K    57% |██████████████████▎             | 563kB 52.7MB/s eta 0:00:01\r\u001b[K    58% |██████████████████▋             | 573kB 51.4MB/s eta 0:00:01\r\u001b[K    59% |███████████████████             | 583kB 50.9MB/s eta 0:00:01\r\u001b[K    60% |███████████████████▎            | 593kB 49.9MB/s eta 0:00:01\r\u001b[K    61% |███████████████████▋            | 604kB 48.5MB/s eta 0:00:01\r\u001b[K    62% |████████████████████            | 614kB 50.3MB/s eta 0:00:01\r\u001b[K    63% |████████████████████▎           | 624kB 50.0MB/s eta 0:00:01\r\u001b[K    64% |████████████████████▋           | 634kB 50.0MB/s eta 0:00:01\r\u001b[K    65% |█████████████████████           | 645kB 16.1MB/s eta 0:00:01\r\u001b[K    66% |█████████████████████▎          | 655kB 15.8MB/s eta 0:00:01\r\u001b[K    67% |█████████████████████▋          | 665kB 14.3MB/s eta 0:00:01\r\u001b[K    68% |██████████████████████          | 675kB 13.5MB/s eta 0:00:01\r\u001b[K    69% |██████████████████████▎         | 686kB 13.5MB/s eta 0:00:01\r\u001b[K    70% |██████████████████████▋         | 696kB 13.6MB/s eta 0:00:01\r\u001b[K    71% |███████████████████████         | 706kB 13.6MB/s eta 0:00:01\r\u001b[K    72% |███████████████████████▎        | 716kB 13.8MB/s eta 0:00:01\r\u001b[K    73% |███████████████████████▋        | 727kB 13.5MB/s eta 0:00:01\r\u001b[K    74% |████████████████████████        | 737kB 13.4MB/s eta 0:00:01\r\u001b[K    75% |████████████████████████▎       | 747kB 31.0MB/s eta 0:00:01\r\u001b[K    76% |████████████████████████▋       | 757kB 32.0MB/s eta 0:00:01\r\u001b[K    77% |████████████████████████▉       | 768kB 40.7MB/s eta 0:00:01\r\u001b[K    78% |█████████████████████████▏      | 778kB 49.4MB/s eta 0:00:01\r\u001b[K    79% |█████████████████████████▌      | 788kB 48.6MB/s eta 0:00:01\r\u001b[K    80% |█████████████████████████▉      | 798kB 48.8MB/s eta 0:00:01\r\u001b[K    81% |██████████████████████████▏     | 808kB 49.7MB/s eta 0:00:01\r\u001b[K    82% |██████████████████████████▌     | 819kB 49.2MB/s eta 0:00:01\r\u001b[K    83% |██████████████████████████▉     | 829kB 51.7MB/s eta 0:00:01\r\u001b[K    85% |███████████████████████████▏    | 839kB 51.6MB/s eta 0:00:01\r\u001b[K    86% |███████████████████████████▌    | 849kB 51.3MB/s eta 0:00:01\r\u001b[K    87% |███████████████████████████▉    | 860kB 47.6MB/s eta 0:00:01\r\u001b[K    88% |████████████████████████████▏   | 870kB 45.7MB/s eta 0:00:01\r\u001b[K    89% |████████████████████████████▌   | 880kB 46.8MB/s eta 0:00:01\r\u001b[K    90% |████████████████████████████▉   | 890kB 47.2MB/s eta 0:00:01\r\u001b[K    91% |█████████████████████████████▏  | 901kB 46.9MB/s eta 0:00:01\r\u001b[K    92% |█████████████████████████████▌  | 911kB 47.4MB/s eta 0:00:01\r\u001b[K    93% |█████████████████████████████▉  | 921kB 46.1MB/s eta 0:00:01\r\u001b[K    94% |██████████████████████████████▏ | 931kB 46.8MB/s eta 0:00:01\r\u001b[K    95% |██████████████████████████████▌ | 942kB 49.0MB/s eta 0:00:01\r\u001b[K    96% |██████████████████████████████▉ | 952kB 43.4MB/s eta 0:00:01\r\u001b[K    97% |███████████████████████████████▏| 962kB 46.3MB/s eta 0:00:01\r\u001b[K    98% |███████████████████████████████▌| 972kB 48.0MB/s eta 0:00:01\r\u001b[K    99% |███████████████████████████████▉| 983kB 47.4MB/s eta 0:00:01\r\u001b[K    100% |████████████████████████████████| 993kB 19.6MB/s \n",
            "\u001b[?25h  Building wheel for PyDrive (setup.py) ... \u001b[?25ldone\n",
            "\u001b[?25h"
          ],
          "name": "stdout"
        }
      ]
    }
  ]
}