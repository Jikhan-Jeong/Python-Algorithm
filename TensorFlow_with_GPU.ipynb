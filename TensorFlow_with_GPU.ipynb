{
  "nbformat": 4,
  "nbformat_minor": 0,
  "metadata": {
    "colab": {
      "name": "TensorFlow with GPU",
      "version": "0.3.2",
      "provenance": [],
      "collapsed_sections": [],
      "toc_visible": true,
      "include_colab_link": true
    },
    "kernelspec": {
      "name": "python3",
      "display_name": "Python 3"
    },
    "accelerator": "GPU"
  },
  "cells": [
    {
      "cell_type": "markdown",
      "metadata": {
        "id": "view-in-github",
        "colab_type": "text"
      },
      "source": [
        "<a href=\"https://colab.research.google.com/github/jikhans/python_algorthm_basic/blob/master/TensorFlow_with_GPU.ipynb\" target=\"_parent\"><img src=\"https://colab.research.google.com/assets/colab-badge.svg\" alt=\"Open In Colab\"/></a>"
      ]
    },
    {
      "metadata": {
        "id": "qkW4onSCUX1N",
        "colab_type": "text"
      },
      "cell_type": "markdown",
      "source": [
        "# 2019_03_10_Tensorflow pactice\n",
        "[reference site](https://medium.com/@jjeaby/colaboratory-%EC%9D%98-gpu-%EB%A5%BC-%EC%9D%B4%EC%9A%A9%ED%95%B4-deep-learning-%EC%9D%84-%ED%95%B4%EB%B3%B4%EC%9E%90-79e12e6ed3b0)\n",
        "\n",
        "Control + M + H : shortcut list\n",
        "Control + M + B : plug new cells\n",
        "Control + M + I  : stop "
      ]
    },
    {
      "metadata": {
        "id": "DtKxHU9mUZFf",
        "colab_type": "code",
        "colab": {
          "base_uri": "https://localhost:8080/",
          "height": 36
        },
        "outputId": "0b45169a-a512-418a-cae8-1fa880f73cc2"
      },
      "cell_type": "code",
      "source": [
        "import tensorflow as tf\n",
        "hello = tf.constant('hello')\n",
        "sess = tf.Session()\n",
        "sess.run(hello)\n",
        "a = tf.constant(10)\n",
        "b = tf.constant(32)\n",
        "sess.run(a+b)"
      ],
      "execution_count": 3,
      "outputs": [
        {
          "output_type": "execute_result",
          "data": {
            "text/plain": [
              "42"
            ]
          },
          "metadata": {
            "tags": []
          },
          "execution_count": 3
        }
      ]
    },
    {
      "metadata": {
        "id": "CtnL79RbVGex",
        "colab_type": "text"
      },
      "cell_type": "markdown",
      "source": [
        "# Installing Package as a defalut"
      ]
    },
    {
      "metadata": {
        "id": "0KZVyYZDVL-Z",
        "colab_type": "code",
        "colab": {}
      },
      "cell_type": "code",
      "source": [
        "!pip show tensorflow\n",
        "!pip install sklearn\n",
        "!pip install keras\n",
        "!pip install matplotlib"
      ],
      "execution_count": 0,
      "outputs": []
    },
    {
      "metadata": {
        "id": "efAVoz6cVWO9",
        "colab_type": "code",
        "colab": {}
      },
      "cell_type": "code",
      "source": [
        "!nvidia-smi"
      ],
      "execution_count": 0,
      "outputs": []
    },
    {
      "metadata": {
        "id": "bgP-3QNSWbjv",
        "colab_type": "code",
        "colab": {
          "base_uri": "https://localhost:8080/",
          "height": 36
        },
        "outputId": "42846f01-5771-40dc-d70c-83b82cc84428"
      },
      "cell_type": "code",
      "source": [
        "import tensorflow as tf\n",
        "device_name = tf.test.gpu_device_name()\n",
        "if device_name != '/device:GPU:0':\n",
        "  raise SystemError('GPU device not found')\n",
        "print('Found GPU at: {}'.format(device_name))"
      ],
      "execution_count": 4,
      "outputs": [
        {
          "output_type": "stream",
          "text": [
            "Found GPU at: /device:GPU:0\n"
          ],
          "name": "stdout"
        }
      ]
    },
    {
      "metadata": {
        "id": "p73ltSCjW0WQ",
        "colab_type": "code",
        "colab": {
          "base_uri": "https://localhost:8080/",
          "height": 36
        },
        "outputId": "3bc7a19d-aef7-4ebf-c1cf-f5739e5353a3"
      },
      "cell_type": "code",
      "source": [
        "import tensorflow as tf\n",
        "tf.test.gpu_device_name()"
      ],
      "execution_count": 5,
      "outputs": [
        {
          "output_type": "execute_result",
          "data": {
            "text/plain": [
              "'/device:GPU:0'"
            ]
          },
          "metadata": {
            "tags": []
          },
          "execution_count": 5
        }
      ]
    },
    {
      "metadata": {
        "id": "t9oOcy_GXFBz",
        "colab_type": "code",
        "colab": {
          "resources": {
            "http://localhost:8080/nbextensions/google.colab/files.js": {
              "data": "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",
              "ok": true,
              "headers": [
                [
                  "content-type",
                  "application/javascript"
                ]
              ],
              "status": 200,
              "status_text": ""
            }
          },
          "base_uri": "https://localhost:8080/",
          "height": 79
        },
        "outputId": "8b80ec4a-c58e-4351-b87e-4960115f3995"
      },
      "cell_type": "code",
      "source": [
        "from google.colab import files\n",
        "uploaded = files.upload()"
      ],
      "execution_count": 6,
      "outputs": [
        {
          "output_type": "display_data",
          "data": {
            "text/html": [
              "\n",
              "     <input type=\"file\" id=\"files-712b588e-b253-41b2-9693-af0695c13bf4\" name=\"files[]\" multiple disabled />\n",
              "     <output id=\"result-712b588e-b253-41b2-9693-af0695c13bf4\">\n",
              "      Upload widget is only available when the cell has been executed in the\n",
              "      current browser session. Please rerun this cell to enable.\n",
              "      </output>\n",
              "      <script src=\"/nbextensions/google.colab/files.js\"></script> "
            ],
            "text/plain": [
              "<IPython.core.display.HTML object>"
            ]
          },
          "metadata": {
            "tags": []
          }
        },
        {
          "output_type": "stream",
          "text": [
            "Saving data.csv to data.csv\n"
          ],
          "name": "stdout"
        }
      ]
    },
    {
      "metadata": {
        "id": "nGx5arM2X58F",
        "colab_type": "code",
        "colab": {
          "base_uri": "https://localhost:8080/",
          "height": 55
        },
        "outputId": "2a56944b-e40c-4b91-8e3a-735824489f8a"
      },
      "cell_type": "code",
      "source": [
        "!pip install -U -q PyDrive # library for acess to google drive"
      ],
      "execution_count": 8,
      "outputs": [
        {
          "output_type": "stream",
          "text": [
            "\u001b[?25l\r\u001b[K    1% |▎                               | 10kB 21.1MB/s eta 0:00:01\r\u001b[K    2% |▋                               | 20kB 2.2MB/s eta 0:00:01\r\u001b[K    3% |█                               | 30kB 3.3MB/s eta 0:00:01\r\u001b[K    4% |█▎                              | 40kB 2.1MB/s eta 0:00:01\r\u001b[K    5% |█▋                              | 51kB 2.6MB/s eta 0:00:01\r\u001b[K    6% |██                              | 61kB 3.1MB/s eta 0:00:01\r\u001b[K    7% |██▎                             | 71kB 3.6MB/s eta 0:00:01\r\u001b[K    8% |██▋                             | 81kB 4.1MB/s eta 0:00:01\r\u001b[K    9% |███                             | 92kB 4.5MB/s eta 0:00:01\r\u001b[K    10% |███▎                            | 102kB 3.5MB/s eta 0:00:01\r\u001b[K    11% |███▋                            | 112kB 3.5MB/s eta 0:00:01\r\u001b[K    12% |████                            | 122kB 5.0MB/s eta 0:00:01\r\u001b[K    13% |████▎                           | 133kB 5.0MB/s eta 0:00:01\r\u001b[K    14% |████▋                           | 143kB 9.4MB/s eta 0:00:01\r\u001b[K    15% |█████                           | 153kB 9.4MB/s eta 0:00:01\r\u001b[K    16% |█████▎                          | 163kB 9.4MB/s eta 0:00:01\r\u001b[K    17% |█████▋                          | 174kB 9.4MB/s eta 0:00:01\r\u001b[K    18% |██████                          | 184kB 9.5MB/s eta 0:00:01\r\u001b[K    19% |██████▎                         | 194kB 9.4MB/s eta 0:00:01\r\u001b[K    20% |██████▋                         | 204kB 39.9MB/s eta 0:00:01\r\u001b[K    21% |███████                         | 215kB 10.4MB/s eta 0:00:01\r\u001b[K    22% |███████▎                        | 225kB 10.2MB/s eta 0:00:01\r\u001b[K    23% |███████▋                        | 235kB 10.2MB/s eta 0:00:01\r\u001b[K    24% |████████                        | 245kB 10.0MB/s eta 0:00:01\r\u001b[K    25% |████████▎                       | 256kB 9.9MB/s eta 0:00:01\r\u001b[K    26% |████████▋                       | 266kB 9.5MB/s eta 0:00:01\r\u001b[K    27% |█████████                       | 276kB 9.5MB/s eta 0:00:01\r\u001b[K    29% |█████████▎                      | 286kB 9.5MB/s eta 0:00:01\r\u001b[K    30% |█████████▋                      | 296kB 9.4MB/s eta 0:00:01\r\u001b[K    31% |██████████                      | 307kB 9.6MB/s eta 0:00:01\r\u001b[K    32% |██████████▎                     | 317kB 31.8MB/s eta 0:00:01\r\u001b[K    33% |██████████▋                     | 327kB 33.5MB/s eta 0:00:01\r\u001b[K    34% |███████████                     | 337kB 35.6MB/s eta 0:00:01\r\u001b[K    35% |███████████▎                    | 348kB 34.3MB/s eta 0:00:01\r\u001b[K    36% |███████████▋                    | 358kB 35.8MB/s eta 0:00:01\r\u001b[K    37% |████████████                    | 368kB 42.0MB/s eta 0:00:01\r\u001b[K    38% |████████████▎                   | 378kB 44.0MB/s eta 0:00:01\r\u001b[K    39% |████████████▋                   | 389kB 45.8MB/s eta 0:00:01\r\u001b[K    40% |█████████████                   | 399kB 15.1MB/s eta 0:00:01\r\u001b[K    41% |█████████████▎                  | 409kB 14.7MB/s eta 0:00:01\r\u001b[K    42% |█████████████▋                  | 419kB 14.6MB/s eta 0:00:01\r\u001b[K    43% |██████████████                  | 430kB 14.5MB/s eta 0:00:01\r\u001b[K    44% |██████████████▎                 | 440kB 14.2MB/s eta 0:00:01\r\u001b[K    45% |██████████████▋                 | 450kB 14.3MB/s eta 0:00:01\r\u001b[K    46% |███████████████                 | 460kB 14.3MB/s eta 0:00:01\r\u001b[K    47% |███████████████▎                | 471kB 14.3MB/s eta 0:00:01\r\u001b[K    48% |███████████████▋                | 481kB 14.3MB/s eta 0:00:01\r\u001b[K    49% |████████████████                | 491kB 14.3MB/s eta 0:00:01\r\u001b[K    50% |████████████████▎               | 501kB 40.5MB/s eta 0:00:01\r\u001b[K    51% |████████████████▋               | 512kB 41.7MB/s eta 0:00:01\r\u001b[K    52% |█████████████████               | 522kB 43.7MB/s eta 0:00:01\r\u001b[K    53% |█████████████████▎              | 532kB 44.2MB/s eta 0:00:01\r\u001b[K    54% |█████████████████▋              | 542kB 47.8MB/s eta 0:00:01\r\u001b[K    55% |██████████████████              | 552kB 52.6MB/s eta 0:00:01\r\u001b[K    57% |██████████████████▎             | 563kB 52.7MB/s eta 0:00:01\r\u001b[K    58% |██████████████████▋             | 573kB 51.4MB/s eta 0:00:01\r\u001b[K    59% |███████████████████             | 583kB 50.9MB/s eta 0:00:01\r\u001b[K    60% |███████████████████▎            | 593kB 49.9MB/s eta 0:00:01\r\u001b[K    61% |███████████████████▋            | 604kB 48.5MB/s eta 0:00:01\r\u001b[K    62% |████████████████████            | 614kB 50.3MB/s eta 0:00:01\r\u001b[K    63% |████████████████████▎           | 624kB 50.0MB/s eta 0:00:01\r\u001b[K    64% |████████████████████▋           | 634kB 50.0MB/s eta 0:00:01\r\u001b[K    65% |█████████████████████           | 645kB 16.1MB/s eta 0:00:01\r\u001b[K    66% |█████████████████████▎          | 655kB 15.8MB/s eta 0:00:01\r\u001b[K    67% |█████████████████████▋          | 665kB 14.3MB/s eta 0:00:01\r\u001b[K    68% |██████████████████████          | 675kB 13.5MB/s eta 0:00:01\r\u001b[K    69% |██████████████████████▎         | 686kB 13.5MB/s eta 0:00:01\r\u001b[K    70% |██████████████████████▋         | 696kB 13.6MB/s eta 0:00:01\r\u001b[K    71% |███████████████████████         | 706kB 13.6MB/s eta 0:00:01\r\u001b[K    72% |███████████████████████▎        | 716kB 13.8MB/s eta 0:00:01\r\u001b[K    73% |███████████████████████▋        | 727kB 13.5MB/s eta 0:00:01\r\u001b[K    74% |████████████████████████        | 737kB 13.4MB/s eta 0:00:01\r\u001b[K    75% |████████████████████████▎       | 747kB 31.0MB/s eta 0:00:01\r\u001b[K    76% |████████████████████████▋       | 757kB 32.0MB/s eta 0:00:01\r\u001b[K    77% |████████████████████████▉       | 768kB 40.7MB/s eta 0:00:01\r\u001b[K    78% |█████████████████████████▏      | 778kB 49.4MB/s eta 0:00:01\r\u001b[K    79% |█████████████████████████▌      | 788kB 48.6MB/s eta 0:00:01\r\u001b[K    80% |█████████████████████████▉      | 798kB 48.8MB/s eta 0:00:01\r\u001b[K    81% |██████████████████████████▏     | 808kB 49.7MB/s eta 0:00:01\r\u001b[K    82% |██████████████████████████▌     | 819kB 49.2MB/s eta 0:00:01\r\u001b[K    83% |██████████████████████████▉     | 829kB 51.7MB/s eta 0:00:01\r\u001b[K    85% |███████████████████████████▏    | 839kB 51.6MB/s eta 0:00:01\r\u001b[K    86% |███████████████████████████▌    | 849kB 51.3MB/s eta 0:00:01\r\u001b[K    87% |███████████████████████████▉    | 860kB 47.6MB/s eta 0:00:01\r\u001b[K    88% |████████████████████████████▏   | 870kB 45.7MB/s eta 0:00:01\r\u001b[K    89% |████████████████████████████▌   | 880kB 46.8MB/s eta 0:00:01\r\u001b[K    90% |████████████████████████████▉   | 890kB 47.2MB/s eta 0:00:01\r\u001b[K    91% |█████████████████████████████▏  | 901kB 46.9MB/s eta 0:00:01\r\u001b[K    92% |█████████████████████████████▌  | 911kB 47.4MB/s eta 0:00:01\r\u001b[K    93% |█████████████████████████████▉  | 921kB 46.1MB/s eta 0:00:01\r\u001b[K    94% |██████████████████████████████▏ | 931kB 46.8MB/s eta 0:00:01\r\u001b[K    95% |██████████████████████████████▌ | 942kB 49.0MB/s eta 0:00:01\r\u001b[K    96% |██████████████████████████████▉ | 952kB 43.4MB/s eta 0:00:01\r\u001b[K    97% |███████████████████████████████▏| 962kB 46.3MB/s eta 0:00:01\r\u001b[K    98% |███████████████████████████████▌| 972kB 48.0MB/s eta 0:00:01\r\u001b[K    99% |███████████████████████████████▉| 983kB 47.4MB/s eta 0:00:01\r\u001b[K    100% |████████████████████████████████| 993kB 19.6MB/s \n",
            "\u001b[?25h  Building wheel for PyDrive (setup.py) ... \u001b[?25ldone\n",
            "\u001b[?25h"
          ],
          "name": "stdout"
        }
      ]
    },
    {
      "metadata": {
        "id": "94bltjctZJdk",
        "colab_type": "code",
        "colab": {
          "base_uri": "https://localhost:8080/",
          "height": 129
        },
        "outputId": "d7a0b79d-a165-4417-dd67-2546de4eb281"
      },
      "cell_type": "code",
      "source": [
        "import tensorflow as tf\n",
        "\n",
        "hello = tf.constant(\"hello\")\n",
        "sess = tf.Session()\n",
        "print(sess.run(hello))\n",
        "\n",
        "node1 =tf.constant(3.0, tf.float32)\n",
        "node2 =tf.constant(4.0)\n",
        "node3 =tf.add(node1, node2)\n",
        "\n",
        "\n",
        "print(\"node1:\", node1)\n",
        "\n",
        "sess = tf.Session()\n",
        "print(\"sess.run(node1,ndoe2): \", sess.run([node1, node2]))\n",
        "print(\"sess.run(node3): \", sess.run(node3))\n",
        "\n",
        "a = tf.placeholder(tf.float32)\n",
        "b = tf.placeholder(tf.float32)\n",
        "adder_node = a + b \n",
        "\n",
        "print(sess.run(adder_node, feed_dict = {a:3, b:4.5}))\n",
        "print(sess.run(adder_node, feed_dict = {a: [1,3], b: [2,4]}))\n"
      ],
      "execution_count": 12,
      "outputs": [
        {
          "output_type": "stream",
          "text": [
            "b'hello'\n",
            "node1: Tensor(\"Const_6:0\", shape=(), dtype=float32)\n",
            "sess.run(node1,ndoe2):  [3.0, 4.0]\n",
            "sess.run(node3):  7.0\n",
            "7.5\n",
            "[3. 7.]\n"
          ],
          "name": "stdout"
        }
      ]
    },
    {
      "metadata": {
        "id": "VbHUo-8ca5rm",
        "colab_type": "text"
      },
      "cell_type": "markdown",
      "source": [
        "# Linear Regression\n",
        "\n",
        "[video lecture (korean)](https://www.youtube.com/watch?v=mQGwjrStQgg&feature=youtu.be)\n",
        "\n"
      ]
    },
    {
      "metadata": {
        "id": "LS0zireHa-Jm",
        "colab_type": "code",
        "colab": {
          "base_uri": "https://localhost:8080/",
          "height": 93
        },
        "outputId": "da5d330b-3d45-4875-ebfb-bb07f370c0c5"
      },
      "cell_type": "code",
      "source": [
        "import tensorflow as tf\n",
        "weights = tf.Variable(tf.random_normal([784,200], stddev = 0.35), name =\"weights\")\n",
        "biases = tf.Variable(tf.zeros([200]), name =\"biases\")\n",
        "\n",
        "init_op = tf.global_variables_initializer()\n",
        "\n",
        "with tf.Session() as sess:\n",
        "  sess.run(init_op)"
      ],
      "execution_count": 13,
      "outputs": [
        {
          "output_type": "stream",
          "text": [
            "WARNING:tensorflow:From /usr/local/lib/python3.6/dist-packages/tensorflow/python/framework/op_def_library.py:263: colocate_with (from tensorflow.python.framework.ops) is deprecated and will be removed in a future version.\n",
            "Instructions for updating:\n",
            "Colocations handled automatically by placer.\n"
          ],
          "name": "stdout"
        }
      ]
    },
    {
      "metadata": {
        "id": "pK7xZtaIcS3W",
        "colab_type": "text"
      },
      "cell_type": "markdown",
      "source": [
        "# H(x) = Wx + b"
      ]
    },
    {
      "metadata": {
        "id": "OeiJGLomcaKU",
        "colab_type": "code",
        "colab": {
          "base_uri": "https://localhost:8080/",
          "height": 2136
        },
        "outputId": "f19504f4-f490-4eaa-cdc8-471cf6b98abc"
      },
      "cell_type": "code",
      "source": [
        "#### 1 build graph\n",
        "\n",
        "x_train = [1,2,3]\n",
        "y_train = [1,2,3]\n",
        "\n",
        "w = tf.Variable(tf.random_normal([1]), name ='weight')\n",
        "b = tf.Variable(tf.random_normal([1]), name = 'bias')\n",
        "\n",
        "# y_hat\n",
        "hypothesis = x_train * w + b\n",
        "\n",
        "# cost function\n",
        "cost = tf.reduce_mean(tf.square(hypothesis - y_train))\n",
        "\n",
        "# minize\n",
        "optimizer = tf.train.GradientDescentOptimizer(learning_rate=0.01)\n",
        "train = optimizer.minimize(cost)\n",
        "\n",
        "#### 2 run updata graph and get resutls\n",
        "\n",
        "sess = tf.Session() # launch the graph in a session\n",
        "sess.run(tf.global_variables_initializer()) # initialize global variables in the graph\n",
        "\n",
        "# fit the line\n",
        "\n",
        "for step in range(2001):\n",
        "  sess.run(train)\n",
        "  if step % 20 ==0: ## printing in 20 intervals\n",
        "    print(step, sess.run(cost), sess.run(w), sess.run(b))\n",
        "\n"
      ],
      "execution_count": 24,
      "outputs": [
        {
          "output_type": "stream",
          "text": [
            "0 3.3046236 [0.0806279] [0.18310925]\n",
            "20 0.061221104 [0.7267008] [0.43970546]\n",
            "40 0.028945027 [0.79694927] [0.44429323]\n",
            "60 0.026046626 [0.81195796] [0.42581758]\n",
            "80 0.023653774 [0.82131577] [0.40603465]\n",
            "100 0.021482699 [0.82976276] [0.3869743]\n",
            "120 0.019510949 [0.837768] [0.36879003]\n",
            "140 0.017720127 [0.8453928] [0.35145843]\n",
            "160 0.016093725 [0.8526588] [0.3349412]\n",
            "180 0.014616579 [0.85958326] [0.31920022]\n",
            "200 0.013275012 [0.8661823] [0.30419898]\n",
            "220 0.012056588 [0.8724713] [0.28990275]\n",
            "240 0.010949981 [0.8784646] [0.27627844]\n",
            "260 0.009944935 [0.8841764] [0.2632944]\n",
            "280 0.009032153 [0.88961965] [0.25092047]\n",
            "300 0.008203152 [0.8948071] [0.23912816]\n",
            "320 0.0074502286 [0.8997509] [0.22788998]\n",
            "340 0.0067664124 [0.90446216] [0.21718]\n",
            "360 0.0061453753 [0.9089521] [0.20697336]\n",
            "380 0.0055813286 [0.91323096] [0.19724637]\n",
            "400 0.0050690514 [0.91730875] [0.18797651]\n",
            "420 0.0046037976 [0.921195] [0.17914234]\n",
            "440 0.004181242 [0.9248985] [0.17072336]\n",
            "460 0.0037974722 [0.928428] [0.16269997]\n",
            "480 0.0034489247 [0.93179166] [0.15505366]\n",
            "500 0.003132365 [0.9349972] [0.1477667]\n",
            "520 0.0028448605 [0.9380521] [0.14082216]\n",
            "540 0.0025837512 [0.9409635] [0.134204]\n",
            "560 0.0023465978 [0.943738] [0.12789682]\n",
            "580 0.0021312225 [0.9463821] [0.12188613]\n",
            "600 0.0019356037 [0.94890195] [0.11615794]\n",
            "620 0.0017579518 [0.95130336] [0.11069893]\n",
            "640 0.0015965924 [0.95359194] [0.10549646]\n",
            "660 0.0014500559 [0.95577294] [0.1005385]\n",
            "680 0.0013169617 [0.9578514] [0.09581356]\n",
            "700 0.0011960851 [0.9598324] [0.09131067]\n",
            "720 0.0010863012 [0.96172005] [0.08701938]\n",
            "740 0.0009865984 [0.96351904] [0.08292981]\n",
            "760 0.00089604483 [0.96523356] [0.07903241]\n",
            "780 0.00081380457 [0.9668674] [0.07531817]\n",
            "800 0.00073910784 [0.9684245] [0.07177852]\n",
            "820 0.0006712729 [0.9699084] [0.06840526]\n",
            "840 0.00060965837 [0.9713226] [0.06519046]\n",
            "860 0.00055370195 [0.9726704] [0.06212673]\n",
            "880 0.00050288194 [0.97395474] [0.05920698]\n",
            "900 0.00045672443 [0.9751787] [0.0564245]\n",
            "920 0.0004148064 [0.9763453] [0.05377276]\n",
            "940 0.0003767321 [0.977457] [0.05124563]\n",
            "960 0.00034215653 [0.97851646] [0.04883727]\n",
            "980 0.0003107471 [0.97952616] [0.04654209]\n",
            "1000 0.00028222738 [0.98048836] [0.04435472]\n",
            "1020 0.00025632366 [0.9814053] [0.04227019]\n",
            "1040 0.00023279544 [0.9822791] [0.04028363]\n",
            "1060 0.00021142815 [0.983112] [0.03839044]\n",
            "1080 0.00019202499 [0.9839057] [0.03658624]\n",
            "1100 0.00017439884 [0.98466206] [0.0348668]\n",
            "1120 0.00015839224 [0.9853829] [0.03322816]\n",
            "1140 0.00014385472 [0.98606986] [0.03166652]\n",
            "1160 0.00013064922 [0.9867245] [0.03017833]\n",
            "1180 0.00011865972 [0.98734844] [0.02876006]\n",
            "1200 0.0001077684 [0.98794293] [0.02740847]\n",
            "1220 9.787628e-05 [0.9885096] [0.0261204]\n",
            "1240 8.889354e-05 [0.98904955] [0.02489287]\n",
            "1260 8.073489e-05 [0.9895641] [0.02372305]\n",
            "1280 7.332433e-05 [0.99005467] [0.02260815]\n",
            "1300 6.6593995e-05 [0.9905221] [0.02154564]\n",
            "1320 6.048212e-05 [0.9909675] [0.02053306]\n",
            "1340 5.4931526e-05 [0.991392] [0.01956805]\n",
            "1360 4.9889004e-05 [0.99179655] [0.01864839]\n",
            "1380 4.5309935e-05 [0.99218214] [0.01777196]\n",
            "1400 4.1150313e-05 [0.9925495] [0.01693674]\n",
            "1420 3.7374284e-05 [0.99289966] [0.01614077]\n",
            "1440 3.3943452e-05 [0.9932334] [0.0153822]\n",
            "1460 3.0827807e-05 [0.9935514] [0.01465927]\n",
            "1480 2.7998913e-05 [0.9938544] [0.01397034]\n",
            "1500 2.542872e-05 [0.9941433] [0.01331377]\n",
            "1520 2.309463e-05 [0.9944185] [0.01268807]\n",
            "1540 2.0974921e-05 [0.9946808] [0.01209178]\n",
            "1560 1.9049721e-05 [0.99493074] [0.01152353]\n",
            "1580 1.7301276e-05 [0.99516904] [0.01098196]\n",
            "1600 1.5713138e-05 [0.9953961] [0.01046583]\n",
            "1620 1.4270662e-05 [0.99561244] [0.00997397]\n",
            "1640 1.2960815e-05 [0.9958187] [0.00950522]\n",
            "1660 1.17711825e-05 [0.9960152] [0.00905848]\n",
            "1680 1.0691155e-05 [0.99620247] [0.00863274]\n",
            "1700 9.709268e-06 [0.9963809] [0.00822702]\n",
            "1720 8.818378e-06 [0.996551] [0.00784037]\n",
            "1740 8.009162e-06 [0.9967131] [0.00747192]\n",
            "1760 7.274015e-06 [0.99686754] [0.00712075]\n",
            "1780 6.6063535e-06 [0.99701476] [0.00678614]\n",
            "1800 6.0003113e-06 [0.9971551] [0.00646722]\n",
            "1820 5.4491734e-06 [0.99728876] [0.00616328]\n",
            "1840 4.9491196e-06 [0.9974162] [0.00587363]\n",
            "1860 4.494916e-06 [0.9975376] [0.00559758]\n",
            "1880 4.082251e-06 [0.9976533] [0.00533453]\n",
            "1900 3.7076254e-06 [0.99776363] [0.00508383]\n",
            "1920 3.3672698e-06 [0.9978687] [0.00484489]\n",
            "1940 3.0582205e-06 [0.99796885] [0.0046172]\n",
            "1960 2.7774279e-06 [0.99806434] [0.00440021]\n",
            "1980 2.5226955e-06 [0.9981553] [0.00419343]\n",
            "2000 2.290972e-06 [0.99824196] [0.00399637]\n"
          ],
          "name": "stdout"
        },
        {
          "output_type": "error",
          "ename": "ValueError",
          "evalue": "ignored",
          "traceback": [
            "\u001b[0;31m---------------------------------------------------------------------------\u001b[0m",
            "\u001b[0;31mValueError\u001b[0m                                Traceback (most recent call last)",
            "\u001b[0;32m<ipython-input-24-cf108a992295>\u001b[0m in \u001b[0;36m<module>\u001b[0;34m()\u001b[0m\n\u001b[1;32m     34\u001b[0m \u001b[0;34m\u001b[0m\u001b[0m\n\u001b[1;32m     35\u001b[0m \u001b[0;32mfor\u001b[0m \u001b[0mstep\u001b[0m \u001b[0;32min\u001b[0m \u001b[0mrange\u001b[0m\u001b[0;34m(\u001b[0m\u001b[0;36m2001\u001b[0m\u001b[0;34m)\u001b[0m\u001b[0;34m:\u001b[0m\u001b[0;34m\u001b[0m\u001b[0;34m\u001b[0m\u001b[0m\n\u001b[0;32m---> 36\u001b[0;31m   \u001b[0mcost_val\u001b[0m\u001b[0;34m,\u001b[0m \u001b[0mw_val\u001b[0m\u001b[0;34m,\u001b[0m \u001b[0mb_val\u001b[0m\u001b[0;34m,\u001b[0m \u001b[0;34m=\u001b[0m  \u001b[0msess\u001b[0m\u001b[0;34m.\u001b[0m\u001b[0mrun\u001b[0m\u001b[0;34m(\u001b[0m\u001b[0;34m[\u001b[0m\u001b[0mcost\u001b[0m\u001b[0;34m,\u001b[0m \u001b[0mw\u001b[0m\u001b[0;34m,\u001b[0m \u001b[0mb\u001b[0m\u001b[0;34m,\u001b[0m \u001b[0mtrain\u001b[0m\u001b[0;34m]\u001b[0m\u001b[0;34m,\u001b[0m \u001b[0mfeed_dict\u001b[0m \u001b[0;34m=\u001b[0m \u001b[0;34m{\u001b[0m\u001b[0mX\u001b[0m\u001b[0;34m:\u001b[0m \u001b[0;34m[\u001b[0m\u001b[0;36m1\u001b[0m\u001b[0;34m,\u001b[0m \u001b[0;36m2\u001b[0m\u001b[0;34m,\u001b[0m \u001b[0;36m3\u001b[0m\u001b[0;34m]\u001b[0m\u001b[0;34m,\u001b[0m \u001b[0mY\u001b[0m\u001b[0;34m:\u001b[0m \u001b[0;34m[\u001b[0m\u001b[0;36m1\u001b[0m\u001b[0;34m,\u001b[0m \u001b[0;36m2\u001b[0m\u001b[0;34m,\u001b[0m \u001b[0;36m3\u001b[0m\u001b[0;34m]\u001b[0m\u001b[0;34m}\u001b[0m\u001b[0;34m)\u001b[0m\u001b[0;34m\u001b[0m\u001b[0;34m\u001b[0m\u001b[0m\n\u001b[0m\u001b[1;32m     37\u001b[0m   \u001b[0;32mif\u001b[0m \u001b[0mstep\u001b[0m \u001b[0;34m%\u001b[0m \u001b[0;36m20\u001b[0m \u001b[0;34m==\u001b[0m \u001b[0;36m0\u001b[0m\u001b[0;34m:\u001b[0m\u001b[0;34m\u001b[0m\u001b[0;34m\u001b[0m\u001b[0m\n\u001b[1;32m     38\u001b[0m     \u001b[0mprint\u001b[0m\u001b[0;34m(\u001b[0m\u001b[0mstep\u001b[0m\u001b[0;34m,\u001b[0m \u001b[0mcost_val\u001b[0m\u001b[0;34m,\u001b[0m \u001b[0mw_val\u001b[0m\u001b[0;34m,\u001b[0m \u001b[0mb_val\u001b[0m\u001b[0;34m)\u001b[0m\u001b[0;34m\u001b[0m\u001b[0;34m\u001b[0m\u001b[0m\n",
            "\u001b[0;31mValueError\u001b[0m: too many values to unpack (expected 3)"
          ]
        }
      ]
    },
    {
      "metadata": {
        "id": "TO5gLIZVg9vN",
        "colab_type": "code",
        "colab": {
          "base_uri": "https://localhost:8080/",
          "height": 1921
        },
        "outputId": "e9795a33-df2f-48c7-b19a-ab6999cb8817"
      },
      "cell_type": "code",
      "source": [
        "## using placeholders\n",
        "import tensorflow as tf\n",
        "W = tf.Variable(tf.random_normal([1]), name='weight')\n",
        "b = tf.Variable(tf.random_normal([1]), name='bias')\n",
        "X = tf.placeholder(tf.float32, shape=[None])\n",
        "Y = tf.placeholder(tf.float32, shape=[None])\n",
        "\n",
        "# Launch the graph in a session.\n",
        "hypothesis = X * W + b\n",
        "\n",
        "# cost/loss function\n",
        "cost = tf.reduce_mean(tf.square(hypothesis - Y))\n",
        "\n",
        "# Minimize\n",
        "optimizer = tf.train.GradientDescentOptimizer(learning_rate=0.01)\n",
        "train = optimizer.minimize(cost)\n",
        "\n",
        "# Launch the graph in a session.\n",
        "sess = tf.Session()\n",
        "\n",
        "# Initializes global variables in the graph.\n",
        "sess.run(tf.global_variables_initializer())\n",
        "\n",
        "# Fit the line with new training data\n",
        "for step in range(2001):\n",
        "  cost_val, W_val, b_val, _ = sess.run([cost, W, b, train],\n",
        "      feed_dict={X: [1, 2, 3, 4, 5], Y: [2.1, 3.1, 4.1, 5.1, 6.1]})\n",
        "  if step % 20 == 0:\n",
        "      print(step, cost_val, W_val, b_val)\n",
        "\n",
        "# Robust Check\n",
        "\n",
        "print(sess.run(hypothesis, feed_dict ={X: [5]}))"
      ],
      "execution_count": 30,
      "outputs": [
        {
          "output_type": "stream",
          "text": [
            "0 4.0090528 [2.238265] [-1.6439956]\n",
            "20 1.3066462 [1.7441165] [-1.5786984]\n",
            "40 1.1410588 [1.6935182] [-1.4037852]\n",
            "60 0.9964954 [1.6480907] [-1.2398127]\n",
            "80 0.8702467 [1.6056466] [-1.0865765]\n",
            "100 0.75999314 [1.5659823] [-0.94337595]\n",
            "120 0.66370755 [1.5289156] [-0.8095537]\n",
            "140 0.5796208 [1.4942765] [-0.6844955]\n",
            "160 0.5061871 [1.4619061] [-0.56762743]\n",
            "180 0.44205704 [1.4316554] [-0.45841324]\n",
            "200 0.38605183 [1.403386] [-0.35635152]\n",
            "220 0.3371419 [1.3769678] [-0.2609739]\n",
            "240 0.2944285 [1.35228] [-0.17184256]\n",
            "260 0.2571266 [1.3292089] [-0.08854861]\n",
            "280 0.22455052 [1.3076487] [-0.0107096]\n",
            "300 0.19610164 [1.2875005] [0.06554097]\n",
            "320 0.17125711 [1.2686719] [0.13000903]\n",
            "340 0.14956003 [1.2510763] [0.19353448]\n",
            "360 0.13061194 [1.2346332] [0.25289962]\n",
            "380 0.11406436 [1.2192669] [0.30837688]\n",
            "400 0.099613234 [1.2049068] [0.360221]\n",
            "420 0.086992994 [1.1914874] [0.40866974]\n",
            "440 0.07597162 [1.1789467] [0.4539455]\n",
            "460 0.06634654 [1.1672274] [0.4962561]\n",
            "480 0.057941012 [1.1562756] [0.5357956]\n",
            "500 0.05060029 [1.146041] [0.5727458]\n",
            "520 0.04418959 [1.1364766] [0.60727614]\n",
            "540 0.038591094 [1.1275386] [0.6395451]\n",
            "560 0.033701904 [1.119186] [0.66970056]\n",
            "580 0.02943213 [1.1113803] [0.6978812]\n",
            "600 0.025703315 [1.1040862] [0.7242163]\n",
            "620 0.022446882 [1.0972694] [0.7488266]\n",
            "640 0.01960304 [1.0908991] [0.7718252]\n",
            "660 0.017119497 [1.0849462] [0.7933176]\n",
            "680 0.014950584 [1.0793829] [0.81437147]\n",
            "700 0.013056466 [1.0741842] [0.83217186]\n",
            "720 0.011402282 [1.0693257] [0.84971225]\n",
            "740 0.009957692 [1.0647855] [0.8661039]\n",
            "760 0.008696141 [1.0605425] [0.8814219]\n",
            "780 0.007594388 [1.0565776] [0.8957368]\n",
            "800 0.0066322363 [1.0528723] [0.90911406]\n",
            "820 0.0057920017 [1.0494096] [0.92161536]\n",
            "840 0.005058202 [1.0461738] [0.93329793]\n",
            "860 0.0044173556 [1.04315] [0.9442153]\n",
            "880 0.0038577244 [1.040324] [0.9544176]\n",
            "900 0.0033689719 [1.0376831] [0.9639519]\n",
            "920 0.0029421519 [1.0352151] [0.9728618]\n",
            "940 0.0025693954 [1.0329089] [0.98118824]\n",
            "960 0.0022438774 [1.0307539] [0.9889693]\n",
            "980 0.0019595819 [1.0287396] [0.99624085]\n",
            "1000 0.0017113222 [1.0268574] [1.0030363]\n",
            "1020 0.0014945104 [1.0250984] [1.0093864]\n",
            "1040 0.0013051673 [1.0234548] [1.0153208]\n",
            "1060 0.0011398145 [1.0219188] [1.0208664]\n",
            "1080 0.0009954023 [1.0204833] [1.0260489]\n",
            "1100 0.00086930086 [1.0191418] [1.0308919]\n",
            "1120 0.0007591654 [1.0178882] [1.0354179]\n",
            "1140 0.0006629814 [1.0167166] [1.0396476]\n",
            "1160 0.0005789938 [1.0156219] [1.0436]\n",
            "1180 0.0005056354 [1.0145988] [1.0472935]\n",
            "1200 0.0004415735 [1.0136427] [1.0507455]\n",
            "1220 0.00038562837 [1.0127492] [1.0539713]\n",
            "1240 0.0003367705 [1.0119143] [1.0569857]\n",
            "1260 0.00029410707 [1.011134] [1.0598027]\n",
            "1280 0.00025684695 [1.010405] [1.0624352]\n",
            "1300 0.00022431227 [1.0097234] [1.064895]\n",
            "1320 0.00019588678 [1.0090866] [1.0671943]\n",
            "1340 0.00017107252 [1.0084915] [1.0693425]\n",
            "1360 0.00014940003 [1.0079354] [1.0713505]\n",
            "1380 0.0001304714 [1.0074157] [1.0732268]\n",
            "1400 0.000113937094 [1.00693] [1.0749804]\n",
            "1420 9.950563e-05 [1.0064762] [1.0766189]\n",
            "1440 8.689637e-05 [1.006052] [1.0782241]\n",
            "1460 7.58886e-05 [1.0056558] [1.079581]\n",
            "1480 6.6274995e-05 [1.0052854] [1.0809182]\n",
            "1500 5.7879824e-05 [1.0049392] [1.0821676]\n",
            "1520 5.054727e-05 [1.0046158] [1.0833355]\n",
            "1540 4.4142704e-05 [1.0043135] [1.0844269]\n",
            "1560 3.855009e-05 [1.004031] [1.0854468]\n",
            "1580 3.3665412e-05 [1.003767] [1.0863999]\n",
            "1600 2.940052e-05 [1.0035203] [1.0872906]\n",
            "1620 2.5676383e-05 [1.0032898] [1.0881228]\n",
            "1640 2.2422502e-05 [1.0030743] [1.0889007]\n",
            "1660 1.9583453e-05 [1.002873] [1.0896273]\n",
            "1680 1.7102999e-05 [1.002685] [1.0903064]\n",
            "1700 1.4935678e-05 [1.0025091] [1.0909413]\n",
            "1720 1.3043631e-05 [1.0023447] [1.0915346]\n",
            "1740 1.1390692e-05 [1.0021912] [1.0920889]\n",
            "1760 9.948139e-06 [1.0020477] [1.092607]\n",
            "1780 8.687168e-06 [1.0019137] [1.0930912]\n",
            "1800 7.586613e-06 [1.0017884] [1.0935436]\n",
            "1820 6.6264743e-06 [1.0016712] [1.0939664]\n",
            "1840 5.7865477e-06 [1.0015616] [1.0943615]\n",
            "1860 5.0538956e-06 [1.0014595] [1.0947307]\n",
            "1880 4.4131075e-06 [1.001364] [1.0950757]\n",
            "1900 3.8543053e-06 [1.0012747] [1.0953981]\n",
            "1920 3.3660144e-06 [1.0011913] [1.0956994]\n",
            "1940 2.939904e-06 [1.0011132] [1.095981]\n",
            "1960 2.5676827e-06 [1.0010402] [1.0962442]\n",
            "1980 2.2422487e-06 [1.0009722] [1.0964903]\n",
            "2000 1.957891e-06 [1.0009085] [1.0967202]\n",
            "[6.1012583]\n"
          ],
          "name": "stdout"
        }
      ]
    }
  ]
}