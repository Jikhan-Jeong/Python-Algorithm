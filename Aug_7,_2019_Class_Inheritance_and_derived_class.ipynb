{
  "nbformat": 4,
  "nbformat_minor": 0,
  "metadata": {
    "colab": {
      "name": "Aug 7, 2019 Class Inheritance and derived class.ipynb",
      "version": "0.3.2",
      "provenance": [],
      "collapsed_sections": []
    },
    "kernelspec": {
      "name": "python3",
      "display_name": "Python 3"
    },
    "accelerator": "GPU"
  },
  "cells": [
    {
      "cell_type": "markdown",
      "metadata": {
        "id": "x9ZdR9V6rLzT",
        "colab_type": "text"
      },
      "source": [
        "\n",
        "# Aug 7, 2019 Class Inheritance and derived class\n",
        "_______________\n",
        "* ref: https://github.com/gilbutITbook/006936\n",
        "_______________\n",
        "* parent class (= super class), (ex) person\n",
        "* child class(= subclass), (ex) student, teacher\n",
        "_______________\n",
        "* key concepts : inherant and override method\n",
        "_______________\n",
        "* class superclass:  \n",
        "       code1  \n",
        "   class subclass(superclass):  \n",
        "       code2  "
      ]
    },
    {
      "cell_type": "markdown",
      "metadata": {
        "id": "ELs7nJzbuOFD",
        "colab_type": "text"
      },
      "source": [
        "# Inheritance Relationship\n",
        "* student is a person"
      ]
    },
    {
      "cell_type": "code",
      "metadata": {
        "id": "cCkIFiIFrEdC",
        "colab_type": "code",
        "colab": {}
      },
      "source": [
        "class person: ######################### paranet class\n",
        "  def hi(self):\n",
        "    print('hi')"
      ],
      "execution_count": 0,
      "outputs": []
    },
    {
      "cell_type": "code",
      "metadata": {
        "id": "Q1vupIoasTCp",
        "colab_type": "code",
        "colab": {}
      },
      "source": [
        "class student(person): ################ child class\n",
        "  def study(self):\n",
        "    print('read a book')"
      ],
      "execution_count": 0,
      "outputs": []
    },
    {
      "cell_type": "code",
      "metadata": {
        "id": "rpPvya4rsadr",
        "colab_type": "code",
        "colab": {}
      },
      "source": [
        "jikhan = student() ### instance from child class"
      ],
      "execution_count": 0,
      "outputs": []
    },
    {
      "cell_type": "code",
      "metadata": {
        "id": "yyh3KHu5sdJM",
        "colab_type": "code",
        "colab": {
          "base_uri": "https://localhost:8080/",
          "height": 35
        },
        "outputId": "51474de4-886a-4734-89f6-7a5f38b10e7c"
      },
      "source": [
        "jikhan.study()    ### method from child"
      ],
      "execution_count": 4,
      "outputs": [
        {
          "output_type": "stream",
          "text": [
            "read a book\n"
          ],
          "name": "stdout"
        }
      ]
    },
    {
      "cell_type": "code",
      "metadata": {
        "id": "zWwmx4r5sfUZ",
        "colab_type": "code",
        "colab": {
          "base_uri": "https://localhost:8080/",
          "height": 35
        },
        "outputId": "09405477-1f9c-4ce6-9c9e-4cb349581ff7"
      },
      "source": [
        "jikhan.hi()       ### method from paraent"
      ],
      "execution_count": 5,
      "outputs": [
        {
          "output_type": "stream",
          "text": [
            "hi\n"
          ],
          "name": "stdout"
        }
      ]
    },
    {
      "cell_type": "markdown",
      "metadata": {
        "id": "DLhjllontr3H",
        "colab_type": "text"
      },
      "source": [
        "* checking the relationship among classes"
      ]
    },
    {
      "cell_type": "code",
      "metadata": {
        "id": "mFNQMoowshQg",
        "colab_type": "code",
        "colab": {
          "base_uri": "https://localhost:8080/",
          "height": 35
        },
        "outputId": "c46dfe28-4391-460d-fbb9-c67f84fd560b"
      },
      "source": [
        "issubclass(student, person)"
      ],
      "execution_count": 6,
      "outputs": [
        {
          "output_type": "execute_result",
          "data": {
            "text/plain": [
              "True"
            ]
          },
          "metadata": {
            "tags": []
          },
          "execution_count": 6
        }
      ]
    },
    {
      "cell_type": "markdown",
      "metadata": {
        "id": "L5OAZiz0uRnO",
        "colab_type": "text"
      },
      "source": [
        "# Involvement relationship\n",
        "* personlist has a person"
      ]
    },
    {
      "cell_type": "code",
      "metadata": {
        "id": "Ezg-Jmo5tqMr",
        "colab_type": "code",
        "colab": {}
      },
      "source": [
        "class person:\n",
        "  def greeting(self):\n",
        "    print('hi')"
      ],
      "execution_count": 0,
      "outputs": []
    },
    {
      "cell_type": "code",
      "metadata": {
        "id": "azfGqEaFudCn",
        "colab_type": "code",
        "colab": {}
      },
      "source": [
        "class personlist():\n",
        " \n",
        "  def __init__(self):\n",
        "    self.person_list = []\n",
        "  \n",
        "  def append_person(self, person):\n",
        "    self.person_list.append(person)"
      ],
      "execution_count": 0,
      "outputs": []
    },
    {
      "cell_type": "markdown",
      "metadata": {
        "id": "3mqLPfI6vHUG",
        "colab_type": "text"
      },
      "source": [
        "# Using an attribute from a parent class\n",
        "* case1: without super()"
      ]
    },
    {
      "cell_type": "code",
      "metadata": {
        "id": "tnAPG35cvH2d",
        "colab_type": "code",
        "colab": {}
      },
      "source": [
        "class person:\n",
        "  \n",
        "  def __init__(self):\n",
        "    print('person __init__')\n",
        "    self.hello = 'hello'"
      ],
      "execution_count": 0,
      "outputs": []
    },
    {
      "cell_type": "code",
      "metadata": {
        "id": "k0FHhI1JvOpM",
        "colab_type": "code",
        "colab": {}
      },
      "source": [
        "class student(person):\n",
        "  def __init__(self):\n",
        "    print('student __init__')\n",
        "    self.school ='python sch'"
      ],
      "execution_count": 0,
      "outputs": []
    },
    {
      "cell_type": "code",
      "metadata": {
        "id": "sq0M1hZWvOnP",
        "colab_type": "code",
        "colab": {
          "base_uri": "https://localhost:8080/",
          "height": 35
        },
        "outputId": "6eedbe6b-4035-415f-9c5c-0629dbbb2db5"
      },
      "source": [
        "jay = student()"
      ],
      "execution_count": 10,
      "outputs": [
        {
          "output_type": "stream",
          "text": [
            "student __init__\n"
          ],
          "name": "stdout"
        }
      ]
    },
    {
      "cell_type": "code",
      "metadata": {
        "id": "nTXmELJuvOlV",
        "colab_type": "code",
        "colab": {
          "base_uri": "https://localhost:8080/",
          "height": 35
        },
        "outputId": "10a89316-a07e-420f-b3c3-b84f5d3efd2d"
      },
      "source": [
        "print(jay.school)"
      ],
      "execution_count": 11,
      "outputs": [
        {
          "output_type": "stream",
          "text": [
            "python sch\n"
          ],
          "name": "stdout"
        }
      ]
    },
    {
      "cell_type": "code",
      "metadata": {
        "id": "iNhIwlXOvOhs",
        "colab_type": "code",
        "colab": {
          "base_uri": "https://localhost:8080/",
          "height": 170
        },
        "outputId": "371b897a-ad83-4b88-cd4d-f5b6de3351b1"
      },
      "source": [
        "print(jay.hello) ## need to initialze the parent"
      ],
      "execution_count": 12,
      "outputs": [
        {
          "output_type": "error",
          "ename": "AttributeError",
          "evalue": "ignored",
          "traceback": [
            "\u001b[0;31m---------------------------------------------------------------------------\u001b[0m",
            "\u001b[0;31mAttributeError\u001b[0m                            Traceback (most recent call last)",
            "\u001b[0;32m<ipython-input-12-e6e55f661a4f>\u001b[0m in \u001b[0;36m<module>\u001b[0;34m()\u001b[0m\n\u001b[0;32m----> 1\u001b[0;31m \u001b[0mprint\u001b[0m\u001b[0;34m(\u001b[0m\u001b[0mjay\u001b[0m\u001b[0;34m.\u001b[0m\u001b[0mhello\u001b[0m\u001b[0;34m)\u001b[0m\u001b[0;34m\u001b[0m\u001b[0;34m\u001b[0m\u001b[0m\n\u001b[0m",
            "\u001b[0;31mAttributeError\u001b[0m: 'student' object has no attribute 'hello'"
          ]
        }
      ]
    },
    {
      "cell_type": "markdown",
      "metadata": {
        "id": "S8qV0FTuzzh6",
        "colab_type": "text"
      },
      "source": [
        "* with super().__init__(): intialize the parent class"
      ]
    },
    {
      "cell_type": "code",
      "metadata": {
        "id": "eke8afkHvOfH",
        "colab_type": "code",
        "colab": {}
      },
      "source": [
        "class person:\n",
        "  \n",
        "  def __init__(self):\n",
        "    print('person __init__')\n",
        "    self.hello = 'hello'"
      ],
      "execution_count": 0,
      "outputs": []
    },
    {
      "cell_type": "code",
      "metadata": {
        "id": "gIPJehh0vOcg",
        "colab_type": "code",
        "colab": {}
      },
      "source": [
        "class student(person):\n",
        "  def __init__(self):\n",
        "    print('student __init__')\n",
        "    super().__init__()  ###################### call parent class __init__\n",
        "    self.school ='python sch'"
      ],
      "execution_count": 0,
      "outputs": []
    },
    {
      "cell_type": "code",
      "metadata": {
        "id": "RFgT1i2Y0bLJ",
        "colab_type": "code",
        "colab": {
          "base_uri": "https://localhost:8080/",
          "height": 52
        },
        "outputId": "b527dfd8-4755-480e-bb43-51621f87dc52"
      },
      "source": [
        "jay = student()"
      ],
      "execution_count": 26,
      "outputs": [
        {
          "output_type": "stream",
          "text": [
            "student __init__\n",
            "person __init__\n"
          ],
          "name": "stdout"
        }
      ]
    },
    {
      "cell_type": "code",
      "metadata": {
        "id": "07f7k065vOaP",
        "colab_type": "code",
        "colab": {
          "base_uri": "https://localhost:8080/",
          "height": 35
        },
        "outputId": "93b56e79-cdcf-4884-d671-93228bd3eff8"
      },
      "source": [
        "print(jay.school)"
      ],
      "execution_count": 27,
      "outputs": [
        {
          "output_type": "stream",
          "text": [
            "python sch\n"
          ],
          "name": "stdout"
        }
      ]
    },
    {
      "cell_type": "code",
      "metadata": {
        "id": "BA6UQ3BVvOVY",
        "colab_type": "code",
        "colab": {
          "base_uri": "https://localhost:8080/",
          "height": 35
        },
        "outputId": "8e1f8bb1-46b9-408c-92c8-53699e2a09bd"
      },
      "source": [
        "print(jay.hello)"
      ],
      "execution_count": 28,
      "outputs": [
        {
          "output_type": "stream",
          "text": [
            "hello\n"
          ],
          "name": "stdout"
        }
      ]
    },
    {
      "cell_type": "markdown",
      "metadata": {
        "id": "rx7Bk84K067x",
        "colab_type": "text"
      },
      "source": [
        "# direct inherant super class's attribute without super().__init__\n",
        "* direct inherant by don't put __init__ in the subclass"
      ]
    },
    {
      "cell_type": "code",
      "metadata": {
        "id": "cN0zISdhvONQ",
        "colab_type": "code",
        "colab": {}
      },
      "source": [
        "class person:\n",
        "  def __init__(self):\n",
        "    print('person__init__')\n",
        "    self.hello =' hello'"
      ],
      "execution_count": 0,
      "outputs": []
    },
    {
      "cell_type": "code",
      "metadata": {
        "id": "-YMpTTrcvN-s",
        "colab_type": "code",
        "colab": {}
      },
      "source": [
        "class stdent(person):\n",
        "  pass ###################### without __init__ then, using parent class attribute"
      ],
      "execution_count": 0,
      "outputs": []
    },
    {
      "cell_type": "code",
      "metadata": {
        "id": "37jpZUd41otD",
        "colab_type": "code",
        "colab": {
          "base_uri": "https://localhost:8080/",
          "height": 52
        },
        "outputId": "f2dca5eb-c2fc-4e67-cad8-dd48831e0c5a"
      },
      "source": [
        "j = student()"
      ],
      "execution_count": 31,
      "outputs": [
        {
          "output_type": "stream",
          "text": [
            "student __init__\n",
            "person __init__\n"
          ],
          "name": "stdout"
        }
      ]
    },
    {
      "cell_type": "code",
      "metadata": {
        "id": "8w8cM9-q1wEo",
        "colab_type": "code",
        "colab": {
          "base_uri": "https://localhost:8080/",
          "height": 35
        },
        "outputId": "f563a2b5-92ce-449e-bf3c-49e83291de78"
      },
      "source": [
        "print(j.hello)"
      ],
      "execution_count": 32,
      "outputs": [
        {
          "output_type": "stream",
          "text": [
            "hello\n"
          ],
          "name": "stdout"
        }
      ]
    },
    {
      "cell_type": "markdown",
      "metadata": {
        "id": "BvNmsb_j2DWR",
        "colab_type": "text"
      },
      "source": [
        "# Method Overriding from super to sub\n",
        "* redefine the method of the super class in the sub class\n",
        "* not using the method from the super class in the sub class"
      ]
    },
    {
      "cell_type": "code",
      "metadata": {
        "id": "mSdh0bvt1yCF",
        "colab_type": "code",
        "colab": {}
      },
      "source": [
        "class person:\n",
        "  def hello(self): #1. hello in the super class\n",
        "    print('hello')"
      ],
      "execution_count": 0,
      "outputs": []
    },
    {
      "cell_type": "code",
      "metadata": {
        "id": "x_2wn5mC2Odm",
        "colab_type": "code",
        "colab": {}
      },
      "source": [
        "class student(person):\n",
        "  def hello(self): #2. hello in the sub class -> ignore #1 hello in the super class\n",
        "    print('hello, I am a student')"
      ],
      "execution_count": 0,
      "outputs": []
    },
    {
      "cell_type": "code",
      "metadata": {
        "id": "6TmbeAwr2cbI",
        "colab_type": "code",
        "colab": {}
      },
      "source": [
        "jj = student()"
      ],
      "execution_count": 0,
      "outputs": []
    },
    {
      "cell_type": "code",
      "metadata": {
        "id": "Pfnza3kE2hEc",
        "colab_type": "code",
        "colab": {
          "base_uri": "https://localhost:8080/",
          "height": 35
        },
        "outputId": "60bfea74-a1cd-4346-abec-fc3fd61e68b4"
      },
      "source": [
        "jj.hello()"
      ],
      "execution_count": 37,
      "outputs": [
        {
          "output_type": "stream",
          "text": [
            "hello, I am a student\n"
          ],
          "name": "stdout"
        }
      ]
    },
    {
      "cell_type": "markdown",
      "metadata": {
        "id": "Yx9u39q_3B_j",
        "colab_type": "text"
      },
      "source": [
        "# using both methods in the super and sub classes\n",
        "* using super().method()\n",
        "* using both methods in the sub and super classes"
      ]
    },
    {
      "cell_type": "code",
      "metadata": {
        "id": "x3Gv_rxg2i4N",
        "colab_type": "code",
        "colab": {}
      },
      "source": [
        "class person:\n",
        "  def hello(self): #1. hello in the super class\n",
        "    print('hello')"
      ],
      "execution_count": 0,
      "outputs": []
    },
    {
      "cell_type": "code",
      "metadata": {
        "id": "fLtrp-iN3bRO",
        "colab_type": "code",
        "colab": {}
      },
      "source": [
        "class student(person):\n",
        "  def hello(self): #2. hello in the sub class \n",
        "    super().hello()\n",
        "    print('hello, I am a student')"
      ],
      "execution_count": 0,
      "outputs": []
    },
    {
      "cell_type": "code",
      "metadata": {
        "id": "Zaig7U2C3mJX",
        "colab_type": "code",
        "colab": {}
      },
      "source": [
        "j = student()"
      ],
      "execution_count": 0,
      "outputs": []
    },
    {
      "cell_type": "code",
      "metadata": {
        "id": "lQSQyq1A3n_U",
        "colab_type": "code",
        "colab": {
          "base_uri": "https://localhost:8080/",
          "height": 52
        },
        "outputId": "e80c08bf-9408-40a9-f9bf-7800375043e4"
      },
      "source": [
        "j.hello() # 1. # 2. both"
      ],
      "execution_count": 43,
      "outputs": [
        {
          "output_type": "stream",
          "text": [
            "hello\n",
            "hello, I am a student\n"
          ],
          "name": "stdout"
        }
      ]
    },
    {
      "cell_type": "markdown",
      "metadata": {
        "id": "y6qR-oqq37J7",
        "colab_type": "text"
      },
      "source": [
        "# Multiple inherance\n",
        "* class superclass1:  \n",
        "       code1  \n",
        "   class superclass2:  \n",
        "       code2  \n",
        "   class subclass(superclass1, superclass2):  \n",
        "       code3  "
      ]
    },
    {
      "cell_type": "code",
      "metadata": {
        "colab_type": "code",
        "id": "mpDS5PE07BND",
        "colab": {}
      },
      "source": [
        "class person:                       #1 super class1\n",
        "  def hello(self): \n",
        "    print('hello')"
      ],
      "execution_count": 0,
      "outputs": []
    },
    {
      "cell_type": "code",
      "metadata": {
        "colab_type": "code",
        "id": "NU1ywICG7GZ_",
        "colab": {}
      },
      "source": [
        "class university:                  #2 super class2\n",
        "  def credit(self): \n",
        "    print('gpa')"
      ],
      "execution_count": 0,
      "outputs": []
    },
    {
      "cell_type": "code",
      "metadata": {
        "id": "z1y0lse07JrZ",
        "colab_type": "code",
        "colab": {}
      },
      "source": [
        "class student(person, university): #3 sub class\n",
        "  def study(self): \n",
        "    print('study')"
      ],
      "execution_count": 0,
      "outputs": []
    },
    {
      "cell_type": "code",
      "metadata": {
        "id": "aHfrjr_17Zgo",
        "colab_type": "code",
        "colab": {}
      },
      "source": [
        "j = student()"
      ],
      "execution_count": 0,
      "outputs": []
    },
    {
      "cell_type": "code",
      "metadata": {
        "id": "OI5ZnKxB7xE2",
        "colab_type": "code",
        "colab": {
          "base_uri": "https://localhost:8080/",
          "height": 35
        },
        "outputId": "401e4b29-c8df-4b77-b9ff-68d37d6b8bc5"
      },
      "source": [
        "j.hello()"
      ],
      "execution_count": 51,
      "outputs": [
        {
          "output_type": "stream",
          "text": [
            "hello\n"
          ],
          "name": "stdout"
        }
      ]
    },
    {
      "cell_type": "code",
      "metadata": {
        "id": "3gzOzExJ7zbV",
        "colab_type": "code",
        "colab": {
          "base_uri": "https://localhost:8080/",
          "height": 35
        },
        "outputId": "07d13f96-a41e-4050-86a8-2854f3f32ea3"
      },
      "source": [
        "j.credit()"
      ],
      "execution_count": 52,
      "outputs": [
        {
          "output_type": "stream",
          "text": [
            "gpa\n"
          ],
          "name": "stdout"
        }
      ]
    },
    {
      "cell_type": "code",
      "metadata": {
        "id": "z-KzOHmO71Cf",
        "colab_type": "code",
        "colab": {
          "base_uri": "https://localhost:8080/",
          "height": 35
        },
        "outputId": "282b891a-aba3-41ab-e24b-6288d81032cc"
      },
      "source": [
        "j.study()"
      ],
      "execution_count": 53,
      "outputs": [
        {
          "output_type": "stream",
          "text": [
            "study\n"
          ],
          "name": "stdout"
        }
      ]
    },
    {
      "cell_type": "markdown",
      "metadata": {
        "id": "4tSEZoTr8BxN",
        "colab_type": "text"
      },
      "source": [
        "# Diamond class (not recommended)\n",
        "* ambigous what subclass inherit from several different super classes\n",
        "* checking method order = Method Resolution Order(MRO)"
      ]
    },
    {
      "cell_type": "code",
      "metadata": {
        "id": "dmTszLXJ72uD",
        "colab_type": "code",
        "colab": {}
      },
      "source": [
        "class a:\n",
        "  def hi(self):\n",
        "    print('hi a')\n",
        "    \n",
        "    \n",
        "class b(a):\n",
        "  def hi(self):\n",
        "    print('hi b')\n",
        "    \n",
        "class c(a):\n",
        "  def hi(self):\n",
        "    print('hi c')\n",
        "    \n",
        "class d(b,c):\n",
        "  pass"
      ],
      "execution_count": 0,
      "outputs": []
    },
    {
      "cell_type": "code",
      "metadata": {
        "id": "iQWxDMI58XHw",
        "colab_type": "code",
        "colab": {}
      },
      "source": [
        "x = d()"
      ],
      "execution_count": 0,
      "outputs": []
    },
    {
      "cell_type": "code",
      "metadata": {
        "id": "DnygP4ox8Y1G",
        "colab_type": "code",
        "colab": {
          "base_uri": "https://localhost:8080/",
          "height": 35
        },
        "outputId": "d6112658-aee3-4928-e1bf-719b430e61c6"
      },
      "source": [
        "x.hi()"
      ],
      "execution_count": 56,
      "outputs": [
        {
          "output_type": "stream",
          "text": [
            "hi b\n"
          ],
          "name": "stdout"
        }
      ]
    },
    {
      "cell_type": "code",
      "metadata": {
        "id": "c0Txgs7M8aTh",
        "colab_type": "code",
        "colab": {
          "base_uri": "https://localhost:8080/",
          "height": 35
        },
        "outputId": "54d1007e-664c-40bc-abb3-5c2121d56d24"
      },
      "source": [
        "d.mro()"
      ],
      "execution_count": 57,
      "outputs": [
        {
          "output_type": "execute_result",
          "data": {
            "text/plain": [
              "[__main__.d, __main__.b, __main__.c, __main__.a, object]"
            ]
          },
          "metadata": {
            "tags": []
          },
          "execution_count": 57
        }
      ]
    },
    {
      "cell_type": "markdown",
      "metadata": {
        "id": "tz591CEk97rt",
        "colab_type": "text"
      },
      "source": [
        "# Abstract Class\n",
        "* from abc import *\n",
        "* @abstractmethod"
      ]
    },
    {
      "cell_type": "code",
      "metadata": {
        "id": "zqQkYTK79x5S",
        "colab_type": "code",
        "colab": {}
      },
      "source": [
        "from abc import *\n",
        "\n",
        "class studentbase(metaclass = ABCMeta):\n",
        "\n",
        "  @abstractmethod\n",
        "  def study(self):  #1 abstract method in super class\n",
        "    pass\n",
        "  \n",
        "  @abstractmethod\n",
        "  def go_sch(self): #2 abstact method in super class\n",
        "    pass"
      ],
      "execution_count": 0,
      "outputs": []
    },
    {
      "cell_type": "code",
      "metadata": {
        "id": "-h9SSBvy-X1h",
        "colab_type": "code",
        "colab": {}
      },
      "source": [
        "class student(studentbase):\n",
        "  \n",
        "  def study(self): # from 1\n",
        "    print('study')\n",
        "    \n",
        "  def go_sch(self):# from 2\n",
        "    print('go sch')"
      ],
      "execution_count": 0,
      "outputs": []
    },
    {
      "cell_type": "code",
      "metadata": {
        "id": "DdYhYH9Y-e3E",
        "colab_type": "code",
        "colab": {}
      },
      "source": [
        "j = student()"
      ],
      "execution_count": 0,
      "outputs": []
    },
    {
      "cell_type": "code",
      "metadata": {
        "id": "T0SqtIzc-hB0",
        "colab_type": "code",
        "colab": {
          "base_uri": "https://localhost:8080/",
          "height": 35
        },
        "outputId": "fe306fbd-03e1-4102-831c-59e4440dc2ff"
      },
      "source": [
        "j.study()"
      ],
      "execution_count": 61,
      "outputs": [
        {
          "output_type": "stream",
          "text": [
            "study\n"
          ],
          "name": "stdout"
        }
      ]
    },
    {
      "cell_type": "code",
      "metadata": {
        "id": "TDBvFJN7-iwY",
        "colab_type": "code",
        "colab": {
          "base_uri": "https://localhost:8080/",
          "height": 35
        },
        "outputId": "d3696ae2-5430-40ab-a996-ee1ecb510ef2"
      },
      "source": [
        "j.go_sch()"
      ],
      "execution_count": 67,
      "outputs": [
        {
          "output_type": "stream",
          "text": [
            "go sch\n"
          ],
          "name": "stdout"
        }
      ]
    },
    {
      "cell_type": "code",
      "metadata": {
        "id": "YycFDUek_MEw",
        "colab_type": "code",
        "colab": {}
      },
      "source": [
        ""
      ],
      "execution_count": 0,
      "outputs": []
    }
  ]
}