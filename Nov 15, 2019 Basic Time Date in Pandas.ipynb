{
 "cells": [
  {
   "cell_type": "markdown",
   "metadata": {},
   "source": [
    "## Nov 15, 2019 Basic Time Date in Pandas\n",
    "* Name: Jikhan Jeong\n",
    "* Ref: https://towardsdatascience.com/basic-time-series-manipulation-with-pandas-4432afee64ea"
   ]
  },
  {
   "cell_type": "code",
   "execution_count": 15,
   "metadata": {},
   "outputs": [],
   "source": [
    "import pandas as pd\n",
    "from datetime import datetime\n",
    "import numpy as np\n",
    "import os"
   ]
  },
  {
   "cell_type": "code",
   "execution_count": 16,
   "metadata": {},
   "outputs": [
    {
     "data": {
      "text/plain": [
       "'C:\\\\Users\\\\jikhan.jeong\\\\2019 Stock NLP\\\\news_api\\\\nyt'"
      ]
     },
     "execution_count": 16,
     "metadata": {},
     "output_type": "execute_result"
    }
   ],
   "source": [
    "os.getcwd()"
   ]
  },
  {
   "cell_type": "code",
   "execution_count": 2,
   "metadata": {},
   "outputs": [],
   "source": [
    "date_rng = pd.date_range(start='1/1/2018', end='1/08/2018', freq='H')"
   ]
  },
  {
   "cell_type": "code",
   "execution_count": 3,
   "metadata": {},
   "outputs": [
    {
     "data": {
      "text/plain": [
       "DatetimeIndex(['2018-01-01 00:00:00', '2018-01-01 01:00:00',\n",
       "               '2018-01-01 02:00:00', '2018-01-01 03:00:00',\n",
       "               '2018-01-01 04:00:00', '2018-01-01 05:00:00',\n",
       "               '2018-01-01 06:00:00', '2018-01-01 07:00:00',\n",
       "               '2018-01-01 08:00:00', '2018-01-01 09:00:00',\n",
       "               ...\n",
       "               '2018-01-07 15:00:00', '2018-01-07 16:00:00',\n",
       "               '2018-01-07 17:00:00', '2018-01-07 18:00:00',\n",
       "               '2018-01-07 19:00:00', '2018-01-07 20:00:00',\n",
       "               '2018-01-07 21:00:00', '2018-01-07 22:00:00',\n",
       "               '2018-01-07 23:00:00', '2018-01-08 00:00:00'],\n",
       "              dtype='datetime64[ns]', length=169, freq='H')"
      ]
     },
     "execution_count": 3,
     "metadata": {},
     "output_type": "execute_result"
    }
   ],
   "source": [
    "date_rng"
   ]
  },
  {
   "cell_type": "code",
   "execution_count": 4,
   "metadata": {},
   "outputs": [
    {
     "data": {
      "text/plain": [
       "pandas._libs.tslibs.timestamps.Timestamp"
      ]
     },
     "execution_count": 4,
     "metadata": {},
     "output_type": "execute_result"
    }
   ],
   "source": [
    "type(date_rng[0])"
   ]
  },
  {
   "cell_type": "code",
   "execution_count": 5,
   "metadata": {},
   "outputs": [
    {
     "data": {
      "text/html": [
       "<div>\n",
       "<style scoped>\n",
       "    .dataframe tbody tr th:only-of-type {\n",
       "        vertical-align: middle;\n",
       "    }\n",
       "\n",
       "    .dataframe tbody tr th {\n",
       "        vertical-align: top;\n",
       "    }\n",
       "\n",
       "    .dataframe thead th {\n",
       "        text-align: right;\n",
       "    }\n",
       "</style>\n",
       "<table border=\"1\" class=\"dataframe\">\n",
       "  <thead>\n",
       "    <tr style=\"text-align: right;\">\n",
       "      <th></th>\n",
       "      <th>date</th>\n",
       "    </tr>\n",
       "  </thead>\n",
       "  <tbody>\n",
       "    <tr>\n",
       "      <th>0</th>\n",
       "      <td>2018-01-01</td>\n",
       "    </tr>\n",
       "  </tbody>\n",
       "</table>\n",
       "</div>"
      ],
      "text/plain": [
       "        date\n",
       "0 2018-01-01"
      ]
     },
     "execution_count": 5,
     "metadata": {},
     "output_type": "execute_result"
    }
   ],
   "source": [
    "df = pd.DataFrame(date_rng, columns=['date'])\n",
    "df.head(1)"
   ]
  },
  {
   "cell_type": "code",
   "execution_count": 6,
   "metadata": {},
   "outputs": [],
   "source": [
    "df['data'] = np.random.randint(0,100,size=(len(date_rng)))"
   ]
  },
  {
   "cell_type": "code",
   "execution_count": 7,
   "metadata": {},
   "outputs": [
    {
     "data": {
      "text/html": [
       "<div>\n",
       "<style scoped>\n",
       "    .dataframe tbody tr th:only-of-type {\n",
       "        vertical-align: middle;\n",
       "    }\n",
       "\n",
       "    .dataframe tbody tr th {\n",
       "        vertical-align: top;\n",
       "    }\n",
       "\n",
       "    .dataframe thead th {\n",
       "        text-align: right;\n",
       "    }\n",
       "</style>\n",
       "<table border=\"1\" class=\"dataframe\">\n",
       "  <thead>\n",
       "    <tr style=\"text-align: right;\">\n",
       "      <th></th>\n",
       "      <th>date</th>\n",
       "      <th>data</th>\n",
       "    </tr>\n",
       "  </thead>\n",
       "  <tbody>\n",
       "    <tr>\n",
       "      <th>0</th>\n",
       "      <td>2018-01-01</td>\n",
       "      <td>44</td>\n",
       "    </tr>\n",
       "  </tbody>\n",
       "</table>\n",
       "</div>"
      ],
      "text/plain": [
       "        date  data\n",
       "0 2018-01-01    44"
      ]
     },
     "execution_count": 7,
     "metadata": {},
     "output_type": "execute_result"
    }
   ],
   "source": [
    "df.head(1)"
   ]
  },
  {
   "cell_type": "code",
   "execution_count": 9,
   "metadata": {},
   "outputs": [
    {
     "data": {
      "text/html": [
       "<div>\n",
       "<style scoped>\n",
       "    .dataframe tbody tr th:only-of-type {\n",
       "        vertical-align: middle;\n",
       "    }\n",
       "\n",
       "    .dataframe tbody tr th {\n",
       "        vertical-align: top;\n",
       "    }\n",
       "\n",
       "    .dataframe thead th {\n",
       "        text-align: right;\n",
       "    }\n",
       "</style>\n",
       "<table border=\"1\" class=\"dataframe\">\n",
       "  <thead>\n",
       "    <tr style=\"text-align: right;\">\n",
       "      <th></th>\n",
       "      <th>date</th>\n",
       "      <th>data</th>\n",
       "      <th>datetime</th>\n",
       "    </tr>\n",
       "  </thead>\n",
       "  <tbody>\n",
       "    <tr>\n",
       "      <th>0</th>\n",
       "      <td>2018-01-01</td>\n",
       "      <td>44</td>\n",
       "      <td>2018-01-01</td>\n",
       "    </tr>\n",
       "  </tbody>\n",
       "</table>\n",
       "</div>"
      ],
      "text/plain": [
       "        date  data   datetime\n",
       "0 2018-01-01    44 2018-01-01"
      ]
     },
     "execution_count": 9,
     "metadata": {},
     "output_type": "execute_result"
    }
   ],
   "source": [
    "df['datetime'] = pd.to_datetime(df['date'])\n",
    "df.head(1)"
   ]
  },
  {
   "cell_type": "code",
   "execution_count": 10,
   "metadata": {},
   "outputs": [
    {
     "data": {
      "text/html": [
       "<div>\n",
       "<style scoped>\n",
       "    .dataframe tbody tr th:only-of-type {\n",
       "        vertical-align: middle;\n",
       "    }\n",
       "\n",
       "    .dataframe tbody tr th {\n",
       "        vertical-align: top;\n",
       "    }\n",
       "\n",
       "    .dataframe thead th {\n",
       "        text-align: right;\n",
       "    }\n",
       "</style>\n",
       "<table border=\"1\" class=\"dataframe\">\n",
       "  <thead>\n",
       "    <tr style=\"text-align: right;\">\n",
       "      <th></th>\n",
       "      <th>date</th>\n",
       "      <th>data</th>\n",
       "    </tr>\n",
       "    <tr>\n",
       "      <th>datetime</th>\n",
       "      <th></th>\n",
       "      <th></th>\n",
       "    </tr>\n",
       "  </thead>\n",
       "  <tbody>\n",
       "    <tr>\n",
       "      <th>2018-01-01</th>\n",
       "      <td>2018-01-01</td>\n",
       "      <td>44</td>\n",
       "    </tr>\n",
       "  </tbody>\n",
       "</table>\n",
       "</div>"
      ],
      "text/plain": [
       "                 date  data\n",
       "datetime                   \n",
       "2018-01-01 2018-01-01    44"
      ]
     },
     "execution_count": 10,
     "metadata": {},
     "output_type": "execute_result"
    }
   ],
   "source": [
    "df = df.set_index('datetime')\n",
    "df.head(1)"
   ]
  },
  {
   "cell_type": "code",
   "execution_count": 11,
   "metadata": {},
   "outputs": [
    {
     "data": {
      "text/html": [
       "<div>\n",
       "<style scoped>\n",
       "    .dataframe tbody tr th:only-of-type {\n",
       "        vertical-align: middle;\n",
       "    }\n",
       "\n",
       "    .dataframe tbody tr th {\n",
       "        vertical-align: top;\n",
       "    }\n",
       "\n",
       "    .dataframe thead th {\n",
       "        text-align: right;\n",
       "    }\n",
       "</style>\n",
       "<table border=\"1\" class=\"dataframe\">\n",
       "  <thead>\n",
       "    <tr style=\"text-align: right;\">\n",
       "      <th></th>\n",
       "      <th>data</th>\n",
       "    </tr>\n",
       "    <tr>\n",
       "      <th>datetime</th>\n",
       "      <th></th>\n",
       "    </tr>\n",
       "  </thead>\n",
       "  <tbody>\n",
       "    <tr>\n",
       "      <th>2018-01-01</th>\n",
       "      <td>44</td>\n",
       "    </tr>\n",
       "  </tbody>\n",
       "</table>\n",
       "</div>"
      ],
      "text/plain": [
       "            data\n",
       "datetime        \n",
       "2018-01-01    44"
      ]
     },
     "execution_count": 11,
     "metadata": {},
     "output_type": "execute_result"
    }
   ],
   "source": [
    "df.drop(['date'], axis=1, inplace=True)\n",
    "df.head(1)"
   ]
  },
  {
   "cell_type": "code",
   "execution_count": 22,
   "metadata": {},
   "outputs": [
    {
     "data": {
      "text/html": [
       "<div>\n",
       "<style scoped>\n",
       "    .dataframe tbody tr th:only-of-type {\n",
       "        vertical-align: middle;\n",
       "    }\n",
       "\n",
       "    .dataframe tbody tr th {\n",
       "        vertical-align: top;\n",
       "    }\n",
       "\n",
       "    .dataframe thead th {\n",
       "        text-align: right;\n",
       "    }\n",
       "</style>\n",
       "<table border=\"1\" class=\"dataframe\">\n",
       "  <thead>\n",
       "    <tr style=\"text-align: right;\">\n",
       "      <th></th>\n",
       "      <th>data</th>\n",
       "    </tr>\n",
       "    <tr>\n",
       "      <th>datetime</th>\n",
       "      <th></th>\n",
       "    </tr>\n",
       "  </thead>\n",
       "  <tbody>\n",
       "    <tr>\n",
       "      <th>2018-01-01 00:00:00</th>\n",
       "      <td>44</td>\n",
       "    </tr>\n",
       "    <tr>\n",
       "      <th>2018-01-01 01:00:00</th>\n",
       "      <td>85</td>\n",
       "    </tr>\n",
       "    <tr>\n",
       "      <th>2018-01-01 02:00:00</th>\n",
       "      <td>96</td>\n",
       "    </tr>\n",
       "  </tbody>\n",
       "</table>\n",
       "</div>"
      ],
      "text/plain": [
       "                     data\n",
       "datetime                 \n",
       "2018-01-01 00:00:00    44\n",
       "2018-01-01 01:00:00    85\n",
       "2018-01-01 02:00:00    96"
      ]
     },
     "execution_count": 22,
     "metadata": {},
     "output_type": "execute_result"
    }
   ],
   "source": [
    "df.head(3)"
   ]
  },
  {
   "cell_type": "markdown",
   "metadata": {},
   "source": [
    "### Making sate_rng as a string"
   ]
  },
  {
   "cell_type": "code",
   "execution_count": 23,
   "metadata": {},
   "outputs": [
    {
     "data": {
      "text/plain": [
       "pandas.core.indexes.datetimes.DatetimeIndex"
      ]
     },
     "execution_count": 23,
     "metadata": {},
     "output_type": "execute_result"
    }
   ],
   "source": [
    "type(date_rng)"
   ]
  },
  {
   "cell_type": "code",
   "execution_count": 24,
   "metadata": {},
   "outputs": [
    {
     "data": {
      "text/plain": [
       "Timestamp('2018-01-01 01:00:00', freq='H')"
      ]
     },
     "execution_count": 24,
     "metadata": {},
     "output_type": "execute_result"
    }
   ],
   "source": [
    "date_rng[1]"
   ]
  },
  {
   "cell_type": "code",
   "execution_count": 25,
   "metadata": {},
   "outputs": [
    {
     "data": {
      "text/plain": [
       "DatetimeIndex(['2018-01-01 00:00:00', '2018-01-01 01:00:00',\n",
       "               '2018-01-01 02:00:00', '2018-01-01 03:00:00',\n",
       "               '2018-01-01 04:00:00', '2018-01-01 05:00:00',\n",
       "               '2018-01-01 06:00:00', '2018-01-01 07:00:00',\n",
       "               '2018-01-01 08:00:00', '2018-01-01 09:00:00',\n",
       "               ...\n",
       "               '2018-01-07 15:00:00', '2018-01-07 16:00:00',\n",
       "               '2018-01-07 17:00:00', '2018-01-07 18:00:00',\n",
       "               '2018-01-07 19:00:00', '2018-01-07 20:00:00',\n",
       "               '2018-01-07 21:00:00', '2018-01-07 22:00:00',\n",
       "               '2018-01-07 23:00:00', '2018-01-08 00:00:00'],\n",
       "              dtype='datetime64[ns]', length=169, freq='H')"
      ]
     },
     "execution_count": 25,
     "metadata": {},
     "output_type": "execute_result"
    }
   ],
   "source": [
    "date_rng"
   ]
  },
  {
   "cell_type": "code",
   "execution_count": 12,
   "metadata": {},
   "outputs": [
    {
     "data": {
      "text/plain": [
       "['2018-01-01 00:00:00',\n",
       " '2018-01-01 01:00:00',\n",
       " '2018-01-01 02:00:00',\n",
       " '2018-01-01 03:00:00',\n",
       " '2018-01-01 04:00:00',\n",
       " '2018-01-01 05:00:00',\n",
       " '2018-01-01 06:00:00',\n",
       " '2018-01-01 07:00:00',\n",
       " '2018-01-01 08:00:00',\n",
       " '2018-01-01 09:00:00',\n",
       " '2018-01-01 10:00:00',\n",
       " '2018-01-01 11:00:00',\n",
       " '2018-01-01 12:00:00',\n",
       " '2018-01-01 13:00:00',\n",
       " '2018-01-01 14:00:00',\n",
       " '2018-01-01 15:00:00',\n",
       " '2018-01-01 16:00:00',\n",
       " '2018-01-01 17:00:00',\n",
       " '2018-01-01 18:00:00',\n",
       " '2018-01-01 19:00:00',\n",
       " '2018-01-01 20:00:00',\n",
       " '2018-01-01 21:00:00',\n",
       " '2018-01-01 22:00:00',\n",
       " '2018-01-01 23:00:00',\n",
       " '2018-01-02 00:00:00',\n",
       " '2018-01-02 01:00:00',\n",
       " '2018-01-02 02:00:00',\n",
       " '2018-01-02 03:00:00',\n",
       " '2018-01-02 04:00:00',\n",
       " '2018-01-02 05:00:00',\n",
       " '2018-01-02 06:00:00',\n",
       " '2018-01-02 07:00:00',\n",
       " '2018-01-02 08:00:00',\n",
       " '2018-01-02 09:00:00',\n",
       " '2018-01-02 10:00:00',\n",
       " '2018-01-02 11:00:00',\n",
       " '2018-01-02 12:00:00',\n",
       " '2018-01-02 13:00:00',\n",
       " '2018-01-02 14:00:00',\n",
       " '2018-01-02 15:00:00',\n",
       " '2018-01-02 16:00:00',\n",
       " '2018-01-02 17:00:00',\n",
       " '2018-01-02 18:00:00',\n",
       " '2018-01-02 19:00:00',\n",
       " '2018-01-02 20:00:00',\n",
       " '2018-01-02 21:00:00',\n",
       " '2018-01-02 22:00:00',\n",
       " '2018-01-02 23:00:00',\n",
       " '2018-01-03 00:00:00',\n",
       " '2018-01-03 01:00:00',\n",
       " '2018-01-03 02:00:00',\n",
       " '2018-01-03 03:00:00',\n",
       " '2018-01-03 04:00:00',\n",
       " '2018-01-03 05:00:00',\n",
       " '2018-01-03 06:00:00',\n",
       " '2018-01-03 07:00:00',\n",
       " '2018-01-03 08:00:00',\n",
       " '2018-01-03 09:00:00',\n",
       " '2018-01-03 10:00:00',\n",
       " '2018-01-03 11:00:00',\n",
       " '2018-01-03 12:00:00',\n",
       " '2018-01-03 13:00:00',\n",
       " '2018-01-03 14:00:00',\n",
       " '2018-01-03 15:00:00',\n",
       " '2018-01-03 16:00:00',\n",
       " '2018-01-03 17:00:00',\n",
       " '2018-01-03 18:00:00',\n",
       " '2018-01-03 19:00:00',\n",
       " '2018-01-03 20:00:00',\n",
       " '2018-01-03 21:00:00',\n",
       " '2018-01-03 22:00:00',\n",
       " '2018-01-03 23:00:00',\n",
       " '2018-01-04 00:00:00',\n",
       " '2018-01-04 01:00:00',\n",
       " '2018-01-04 02:00:00',\n",
       " '2018-01-04 03:00:00',\n",
       " '2018-01-04 04:00:00',\n",
       " '2018-01-04 05:00:00',\n",
       " '2018-01-04 06:00:00',\n",
       " '2018-01-04 07:00:00',\n",
       " '2018-01-04 08:00:00',\n",
       " '2018-01-04 09:00:00',\n",
       " '2018-01-04 10:00:00',\n",
       " '2018-01-04 11:00:00',\n",
       " '2018-01-04 12:00:00',\n",
       " '2018-01-04 13:00:00',\n",
       " '2018-01-04 14:00:00',\n",
       " '2018-01-04 15:00:00',\n",
       " '2018-01-04 16:00:00',\n",
       " '2018-01-04 17:00:00',\n",
       " '2018-01-04 18:00:00',\n",
       " '2018-01-04 19:00:00',\n",
       " '2018-01-04 20:00:00',\n",
       " '2018-01-04 21:00:00',\n",
       " '2018-01-04 22:00:00',\n",
       " '2018-01-04 23:00:00',\n",
       " '2018-01-05 00:00:00',\n",
       " '2018-01-05 01:00:00',\n",
       " '2018-01-05 02:00:00',\n",
       " '2018-01-05 03:00:00',\n",
       " '2018-01-05 04:00:00',\n",
       " '2018-01-05 05:00:00',\n",
       " '2018-01-05 06:00:00',\n",
       " '2018-01-05 07:00:00',\n",
       " '2018-01-05 08:00:00',\n",
       " '2018-01-05 09:00:00',\n",
       " '2018-01-05 10:00:00',\n",
       " '2018-01-05 11:00:00',\n",
       " '2018-01-05 12:00:00',\n",
       " '2018-01-05 13:00:00',\n",
       " '2018-01-05 14:00:00',\n",
       " '2018-01-05 15:00:00',\n",
       " '2018-01-05 16:00:00',\n",
       " '2018-01-05 17:00:00',\n",
       " '2018-01-05 18:00:00',\n",
       " '2018-01-05 19:00:00',\n",
       " '2018-01-05 20:00:00',\n",
       " '2018-01-05 21:00:00',\n",
       " '2018-01-05 22:00:00',\n",
       " '2018-01-05 23:00:00',\n",
       " '2018-01-06 00:00:00',\n",
       " '2018-01-06 01:00:00',\n",
       " '2018-01-06 02:00:00',\n",
       " '2018-01-06 03:00:00',\n",
       " '2018-01-06 04:00:00',\n",
       " '2018-01-06 05:00:00',\n",
       " '2018-01-06 06:00:00',\n",
       " '2018-01-06 07:00:00',\n",
       " '2018-01-06 08:00:00',\n",
       " '2018-01-06 09:00:00',\n",
       " '2018-01-06 10:00:00',\n",
       " '2018-01-06 11:00:00',\n",
       " '2018-01-06 12:00:00',\n",
       " '2018-01-06 13:00:00',\n",
       " '2018-01-06 14:00:00',\n",
       " '2018-01-06 15:00:00',\n",
       " '2018-01-06 16:00:00',\n",
       " '2018-01-06 17:00:00',\n",
       " '2018-01-06 18:00:00',\n",
       " '2018-01-06 19:00:00',\n",
       " '2018-01-06 20:00:00',\n",
       " '2018-01-06 21:00:00',\n",
       " '2018-01-06 22:00:00',\n",
       " '2018-01-06 23:00:00',\n",
       " '2018-01-07 00:00:00',\n",
       " '2018-01-07 01:00:00',\n",
       " '2018-01-07 02:00:00',\n",
       " '2018-01-07 03:00:00',\n",
       " '2018-01-07 04:00:00',\n",
       " '2018-01-07 05:00:00',\n",
       " '2018-01-07 06:00:00',\n",
       " '2018-01-07 07:00:00',\n",
       " '2018-01-07 08:00:00',\n",
       " '2018-01-07 09:00:00',\n",
       " '2018-01-07 10:00:00',\n",
       " '2018-01-07 11:00:00',\n",
       " '2018-01-07 12:00:00',\n",
       " '2018-01-07 13:00:00',\n",
       " '2018-01-07 14:00:00',\n",
       " '2018-01-07 15:00:00',\n",
       " '2018-01-07 16:00:00',\n",
       " '2018-01-07 17:00:00',\n",
       " '2018-01-07 18:00:00',\n",
       " '2018-01-07 19:00:00',\n",
       " '2018-01-07 20:00:00',\n",
       " '2018-01-07 21:00:00',\n",
       " '2018-01-07 22:00:00',\n",
       " '2018-01-07 23:00:00',\n",
       " '2018-01-08 00:00:00']"
      ]
     },
     "execution_count": 12,
     "metadata": {},
     "output_type": "execute_result"
    }
   ],
   "source": [
    "string_date_rng = [str(x) for x in date_rng]\n",
    "string_date_rng"
   ]
  },
  {
   "cell_type": "code",
   "execution_count": 17,
   "metadata": {},
   "outputs": [
    {
     "data": {
      "text/plain": [
       "list"
      ]
     },
     "execution_count": 17,
     "metadata": {},
     "output_type": "execute_result"
    }
   ],
   "source": [
    "type(string_date_rng)"
   ]
  },
  {
   "cell_type": "markdown",
   "metadata": {},
   "source": [
    "### Convert the strings to timestamps"
   ]
  },
  {
   "cell_type": "code",
   "execution_count": 13,
   "metadata": {},
   "outputs": [
    {
     "data": {
      "text/plain": [
       "DatetimeIndex(['2018-01-01 00:00:00', '2018-01-01 01:00:00',\n",
       "               '2018-01-01 02:00:00', '2018-01-01 03:00:00',\n",
       "               '2018-01-01 04:00:00', '2018-01-01 05:00:00',\n",
       "               '2018-01-01 06:00:00', '2018-01-01 07:00:00',\n",
       "               '2018-01-01 08:00:00', '2018-01-01 09:00:00',\n",
       "               ...\n",
       "               '2018-01-07 15:00:00', '2018-01-07 16:00:00',\n",
       "               '2018-01-07 17:00:00', '2018-01-07 18:00:00',\n",
       "               '2018-01-07 19:00:00', '2018-01-07 20:00:00',\n",
       "               '2018-01-07 21:00:00', '2018-01-07 22:00:00',\n",
       "               '2018-01-07 23:00:00', '2018-01-08 00:00:00'],\n",
       "              dtype='datetime64[ns]', length=169, freq=None)"
      ]
     },
     "execution_count": 13,
     "metadata": {},
     "output_type": "execute_result"
    }
   ],
   "source": [
    "timestamp_date_rng = pd.to_datetime(string_date_rng, infer_datetime_format=True)\n",
    "timestamp_date_rng"
   ]
  },
  {
   "cell_type": "markdown",
   "metadata": {},
   "source": [
    "###  Convert a unique string format"
   ]
  },
  {
   "cell_type": "code",
   "execution_count": 18,
   "metadata": {},
   "outputs": [],
   "source": [
    "string_date_rng_2 = ['01-June-01-2019', '13-June-02-2019', '23-June-03-2019']"
   ]
  },
  {
   "cell_type": "code",
   "execution_count": 19,
   "metadata": {},
   "outputs": [
    {
     "data": {
      "text/plain": [
       "[datetime.datetime(2019, 6, 1, 1, 0),\n",
       " datetime.datetime(2019, 6, 2, 13, 0),\n",
       " datetime.datetime(2019, 6, 3, 23, 0)]"
      ]
     },
     "execution_count": 19,
     "metadata": {},
     "output_type": "execute_result"
    }
   ],
   "source": [
    "timestamp_date_rng_2 = [datetime.strptime(x,'%H-%B-%d-%Y') for x in string_date_rng_2]\n",
    "timestamp_date_rng_2"
   ]
  },
  {
   "cell_type": "code",
   "execution_count": 20,
   "metadata": {},
   "outputs": [
    {
     "data": {
      "text/plain": [
       "list"
      ]
     },
     "execution_count": 20,
     "metadata": {},
     "output_type": "execute_result"
    }
   ],
   "source": [
    "type(timestamp_date_rng_2)"
   ]
  },
  {
   "cell_type": "code",
   "execution_count": 21,
   "metadata": {},
   "outputs": [
    {
     "data": {
      "text/html": [
       "<div>\n",
       "<style scoped>\n",
       "    .dataframe tbody tr th:only-of-type {\n",
       "        vertical-align: middle;\n",
       "    }\n",
       "\n",
       "    .dataframe tbody tr th {\n",
       "        vertical-align: top;\n",
       "    }\n",
       "\n",
       "    .dataframe thead th {\n",
       "        text-align: right;\n",
       "    }\n",
       "</style>\n",
       "<table border=\"1\" class=\"dataframe\">\n",
       "  <thead>\n",
       "    <tr style=\"text-align: right;\">\n",
       "      <th></th>\n",
       "      <th>date</th>\n",
       "    </tr>\n",
       "  </thead>\n",
       "  <tbody>\n",
       "    <tr>\n",
       "      <th>0</th>\n",
       "      <td>2019-06-01 01:00:00</td>\n",
       "    </tr>\n",
       "    <tr>\n",
       "      <th>1</th>\n",
       "      <td>2019-06-02 13:00:00</td>\n",
       "    </tr>\n",
       "    <tr>\n",
       "      <th>2</th>\n",
       "      <td>2019-06-03 23:00:00</td>\n",
       "    </tr>\n",
       "  </tbody>\n",
       "</table>\n",
       "</div>"
      ],
      "text/plain": [
       "                 date\n",
       "0 2019-06-01 01:00:00\n",
       "1 2019-06-02 13:00:00\n",
       "2 2019-06-03 23:00:00"
      ]
     },
     "execution_count": 21,
     "metadata": {},
     "output_type": "execute_result"
    }
   ],
   "source": [
    "df2 = pd.DataFrame(timestamp_date_rng_2, columns=['date'])\n",
    "df2"
   ]
  },
  {
   "cell_type": "code",
   "execution_count": null,
   "metadata": {},
   "outputs": [],
   "source": []
  },
  {
   "cell_type": "code",
   "execution_count": null,
   "metadata": {},
   "outputs": [],
   "source": []
  },
  {
   "cell_type": "code",
   "execution_count": null,
   "metadata": {},
   "outputs": [],
   "source": []
  },
  {
   "cell_type": "code",
   "execution_count": null,
   "metadata": {},
   "outputs": [],
   "source": []
  }
 ],
 "metadata": {
  "kernelspec": {
   "display_name": "Python 3",
   "language": "python",
   "name": "python3"
  },
  "language_info": {
   "codemirror_mode": {
    "name": "ipython",
    "version": 3
   },
   "file_extension": ".py",
   "mimetype": "text/x-python",
   "name": "python",
   "nbconvert_exporter": "python",
   "pygments_lexer": "ipython3",
   "version": "3.7.3"
  }
 },
 "nbformat": 4,
 "nbformat_minor": 2
}
