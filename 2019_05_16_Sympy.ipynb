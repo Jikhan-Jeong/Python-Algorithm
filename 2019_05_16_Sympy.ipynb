{
  "nbformat": 4,
  "nbformat_minor": 0,
  "metadata": {
    "colab": {
      "name": "2019_05_16_Sympy.ipynb",
      "version": "0.3.2",
      "provenance": [],
      "include_colab_link": true
    },
    "kernelspec": {
      "name": "python3",
      "display_name": "Python 3"
    }
  },
  "cells": [
    {
      "cell_type": "markdown",
      "metadata": {
        "id": "view-in-github",
        "colab_type": "text"
      },
      "source": [
        "<a href=\"https://colab.research.google.com/github/jikhans/python_algorthm_basic/blob/master/2019_05_16_Sympy.ipynb\" target=\"_parent\"><img src=\"https://colab.research.google.com/assets/colab-badge.svg\" alt=\"Open In Colab\"/></a>"
      ]
    },
    {
      "cell_type": "markdown",
      "metadata": {
        "id": "uHR8ypBXgfRJ",
        "colab_type": "text"
      },
      "source": [
        "* **2019_05_16 Symbolic Python**\n",
        "\n",
        "Spyder is not proper to use Sympy so I use Jupter or Colab \n",
        "\n",
        "Also, the outcome should be in the print() \n",
        "\n",
        "download from : https://docs.sympy.org/latest/install.html\n",
        "\n",
        "prompt : conda update sympy\n",
        "\n",
        "reference: https://www.southampton.ac.uk/~fangohr/teaching/python/book/html/12-symbolic-computation.html"
      ]
    },
    {
      "cell_type": "code",
      "metadata": {
        "id": "MCVyCGD0gngf",
        "colab_type": "code",
        "colab": {
          "base_uri": "https://localhost:8080/",
          "height": 35
        },
        "outputId": "dad1c9e5-f3f3-4bac-8835-f851670bfc2d"
      },
      "source": [
        "import sympy\n",
        "# init_printing(use_latex='matplotlib')\n",
        "# one by one \n",
        "init_printing(use_latex=False)\n",
        "from sympy import Symbol\n",
        "x = Symbol('x')\n",
        "type(x)"
      ],
      "execution_count": 55,
      "outputs": [
        {
          "output_type": "execute_result",
          "data": {
            "text/plain": [
              "sympy.core.symbol.Symbol"
            ]
          },
          "metadata": {
            "tags": []
          },
          "execution_count": 55
        }
      ]
    },
    {
      "cell_type": "code",
      "metadata": {
        "id": "Ntco6Gdgitnb",
        "colab_type": "code",
        "colab": {
          "base_uri": "https://localhost:8080/",
          "height": 34
        },
        "outputId": "df7c21e2-51f1-44a0-b130-0984138117a4"
      },
      "source": [
        "y = Symbol('y')\n",
        "2 * x - x"
      ],
      "execution_count": 33,
      "outputs": [
        {
          "output_type": "execute_result",
          "data": {
            "image/png": "[encoded data removed]",
            "text/plain": [
              "x"
            ]
          },
          "metadata": {
            "tags": []
          },
          "execution_count": 33
        }
      ]
    },
    {
      "cell_type": "code",
      "metadata": {
        "id": "nSENlPPoiuwM",
        "colab_type": "code",
        "colab": {
          "base_uri": "https://localhost:8080/",
          "height": 40
        },
        "outputId": "68dcda9d-f6dc-4891-d115-9ccf06639e26"
      },
      "source": [
        "\n",
        "from sympy import *\n",
        "integrate(1/x, x)"
      ],
      "execution_count": 34,
      "outputs": [
        {
          "output_type": "execute_result",
          "data": {
            "image/png": "[encoded data removed]",
            "text/plain": [
              "log(x)"
            ]
          },
          "metadata": {
            "tags": []
          },
          "execution_count": 34
        }
      ]
    },
    {
      "cell_type": "code",
      "metadata": {
        "id": "RNZ3Vw9djELE",
        "colab_type": "code",
        "colab": {
          "base_uri": "https://localhost:8080/",
          "height": 39
        },
        "outputId": "61f061e4-8bbd-4f32-e9e4-3b27dbd9e6b1"
      },
      "source": [
        "x + y + x +10*y"
      ],
      "execution_count": 39,
      "outputs": [
        {
          "output_type": "execute_result",
          "data": {
            "image/png": "[encoded data removed]",
            "text/plain": [
              "2⋅x + 11⋅y"
            ]
          },
          "metadata": {
            "tags": []
          },
          "execution_count": 39
        }
      ]
    },
    {
      "cell_type": "code",
      "metadata": {
        "id": "2Ed92lNEhK4x",
        "colab_type": "code",
        "colab": {
          "base_uri": "https://localhost:8080/",
          "height": 39
        },
        "outputId": "3da0a7c8-2dc4-44f9-9f69-6283de268325"
      },
      "source": [
        "\n",
        "x, y, z = sympy.symbols('x,y,z')\n",
        "x + 2*y + 3*z - x\n"
      ],
      "execution_count": 41,
      "outputs": [
        {
          "output_type": "execute_result",
          "data": {
            "image/png": "[encoded data removed]",
            "text/plain": [
              "2⋅y + 3⋅z"
            ]
          },
          "metadata": {
            "tags": []
          },
          "execution_count": 41
        }
      ]
    },
    {
      "cell_type": "code",
      "metadata": {
        "id": "_EqXNz7ZjOqT",
        "colab_type": "code",
        "colab": {
          "base_uri": "https://localhost:8080/",
          "height": 35
        },
        "outputId": "aba6ec91-c941-4e5e-c0d3-ed95e0953322"
      },
      "source": [
        "(x + 2*y).subs(x, 10).subs(y, 3)"
      ],
      "execution_count": 42,
      "outputs": [
        {
          "output_type": "execute_result",
          "data": {
            "image/png": "[encoded data removed]",
            "text/plain": [
              "16"
            ]
          },
          "metadata": {
            "tags": []
          },
          "execution_count": 42
        }
      ]
    },
    {
      "cell_type": "code",
      "metadata": {
        "id": "fjFU6e1djSjF",
        "colab_type": "code",
        "colab": {
          "base_uri": "https://localhost:8080/",
          "height": 43
        },
        "outputId": "5207f3ef-bc51-444c-bc65-4e50a0a15337"
      },
      "source": [
        "myterm =3*x + y**2\n",
        "myterm"
      ],
      "execution_count": 43,
      "outputs": [
        {
          "output_type": "execute_result",
          "data": {
            "image/png": "[encoded data removed]",
            "text/plain": [
              "       2\n",
              "3⋅x + y "
            ]
          },
          "metadata": {
            "tags": []
          },
          "execution_count": 43
        }
      ]
    },
    {
      "cell_type": "markdown",
      "metadata": {
        "id": "Pc1j6q0djiXg",
        "colab_type": "text"
      },
      "source": [
        "* Numeric Type\n",
        "\n",
        "SymPy has the numeric types Rational and RealNumber. The Rational class represents a rational number as a pair of two integers: the numerator and the denominator, so Rational(1,2) represents 1/2, Rational(5,2) represents 5/2 and so on\n"
      ]
    },
    {
      "cell_type": "code",
      "metadata": {
        "id": "WHPrwqZPjt9T",
        "colab_type": "code",
        "colab": {
          "base_uri": "https://localhost:8080/",
          "height": 35
        },
        "outputId": "5d0ef965-1019-44dd-a4a8-8f65cf9e4737"
      },
      "source": [
        "from sympy import Rational\n",
        "a = Rational(1, 10)\n",
        "a"
      ],
      "execution_count": 58,
      "outputs": [
        {
          "output_type": "execute_result",
          "data": {
            "text/plain": [
              "1/10"
            ]
          },
          "metadata": {
            "tags": []
          },
          "execution_count": 58
        }
      ]
    },
    {
      "cell_type": "code",
      "metadata": {
        "id": "wHdJln9AkRZG",
        "colab_type": "code",
        "colab": {
          "base_uri": "https://localhost:8080/",
          "height": 71
        },
        "outputId": "e875c9a2-8e2f-4488-b6b4-159c41c76f5b"
      },
      "source": [
        "b = Rational(45,67)\n",
        "b"
      ],
      "execution_count": 57,
      "outputs": [
        {
          "output_type": "execute_result",
          "data": {
            "text/plain": [
              "45\n",
              "──\n",
              "67"
            ]
          },
          "metadata": {
            "tags": []
          },
          "execution_count": 57
        }
      ]
    }
  ]
}