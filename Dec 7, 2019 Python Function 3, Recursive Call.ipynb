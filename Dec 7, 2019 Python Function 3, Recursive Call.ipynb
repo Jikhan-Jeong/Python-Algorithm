{
 "cells": [
  {
   "cell_type": "markdown",
   "metadata": {},
   "source": [
    "# Dec 7, 2019 Python Function 3, Recursive Call\n",
    "* Name: Jikhan Jeong\n",
    "* Ref: https://dojang.io/mod/page/view.php?id=2352\n",
    "--------"
   ]
  },
  {
   "cell_type": "markdown",
   "metadata": {},
   "source": [
    "### Recursive Call is calling its function into own function again: ex, for factorial"
   ]
  },
  {
   "cell_type": "code",
   "execution_count": 1,
   "metadata": {},
   "outputs": [],
   "source": [
    "def hi():\n",
    "    print('Jikhan is handsome')\n",
    "    hi() \n",
    "# $ hi()\n",
    "# Jikhan is handsome\n",
    "# Jikhan is handsome\n",
    "# Jikhan is handsome\n",
    "# Jikhan is handsome\n",
    "# Jikhan is handsome\n",
    "# Jikhan is handsome\n",
    "# Jikhan is handsome\n",
    "# ... infinite but due to computing resource 1000 times repeat"
   ]
  },
  {
   "cell_type": "code",
   "execution_count": 3,
   "metadata": {},
   "outputs": [],
   "source": [
    "def hi(count):\n",
    "    if count ==0:\n",
    "        return # count is 0, then stop\n",
    "    print('hello, word', count)\n",
    "    \n",
    "    count -= 1 # decreasing by 1\n",
    "    hi(count)"
   ]
  },
  {
   "cell_type": "code",
   "execution_count": 4,
   "metadata": {},
   "outputs": [
    {
     "name": "stdout",
     "output_type": "stream",
     "text": [
      "hello, word 5\n",
      "hello, word 4\n",
      "hello, word 3\n",
      "hello, word 2\n",
      "hello, word 1\n"
     ]
    }
   ],
   "source": [
    "hi(5)"
   ]
  },
  {
   "cell_type": "markdown",
   "metadata": {},
   "source": [
    "### Factorial by recursive call"
   ]
  },
  {
   "cell_type": "code",
   "execution_count": 5,
   "metadata": {},
   "outputs": [],
   "source": [
    "def factorial(n):\n",
    "    if n==1:\n",
    "        return 1\n",
    "    return n*factorial(n-1)"
   ]
  },
  {
   "cell_type": "code",
   "execution_count": 6,
   "metadata": {},
   "outputs": [
    {
     "data": {
      "text/plain": [
       "120"
      ]
     },
     "execution_count": 6,
     "metadata": {},
     "output_type": "execute_result"
    }
   ],
   "source": [
    "factorial(5)"
   ]
  },
  {
   "cell_type": "code",
   "execution_count": null,
   "metadata": {},
   "outputs": [],
   "source": []
  }
 ],
 "metadata": {
  "kernelspec": {
   "display_name": "Python 3",
   "language": "python",
   "name": "python3"
  },
  "language_info": {
   "codemirror_mode": {
    "name": "ipython",
    "version": 3
   },
   "file_extension": ".py",
   "mimetype": "text/x-python",
   "name": "python",
   "nbconvert_exporter": "python",
   "pygments_lexer": "ipython3",
   "version": "3.7.4"
  }
 },
 "nbformat": 4,
 "nbformat_minor": 4
}
