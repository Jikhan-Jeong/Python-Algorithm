{
  "nbformat": 4,
  "nbformat_minor": 0,
  "metadata": {
    "colab": {
      "name": "Aug 8, 2019 Class 2. 35 Unit.ipynb",
      "version": "0.3.2",
      "provenance": [],
      "collapsed_sections": []
    },
    "kernelspec": {
      "name": "python3",
      "display_name": "Python 3"
    },
    "accelerator": "GPU"
  },
  "cells": [
    {
      "cell_type": "markdown",
      "metadata": {
        "id": "zRsyxEjZRTbo",
        "colab_type": "text"
      },
      "source": [
        "# Aug 8, 2019 Class 2. 35 Unit\n",
        "* ref: https://github.com/gilbutITbook/006936\n",
        "* class attribute shares attribute in all instance"
      ]
    },
    {
      "cell_type": "markdown",
      "metadata": {
        "id": "4cwCZwGATtEn",
        "colab_type": "text"
      },
      "source": [
        "# 1. Class Attribute\n",
        "* all the belongs from all instance share altogether"
      ]
    },
    {
      "cell_type": "code",
      "metadata": {
        "id": "wG6yjenbO0er",
        "colab_type": "code",
        "colab": {}
      },
      "source": [
        "class person:\n",
        "  \n",
        "  bag =[] # 1.############################## class atribute\n",
        "  \n",
        "  def put_bag(self, stuff):\n",
        "    self.bag.append(stuff) # 2 -> # 1 attiribute of person class"
      ],
      "execution_count": 0,
      "outputs": []
    },
    {
      "cell_type": "code",
      "metadata": {
        "id": "7AxZjEZfTTjl",
        "colab_type": "code",
        "colab": {}
      },
      "source": [
        "jay = person()"
      ],
      "execution_count": 0,
      "outputs": []
    },
    {
      "cell_type": "code",
      "metadata": {
        "id": "-SlRpUjpTWUY",
        "colab_type": "code",
        "colab": {}
      },
      "source": [
        "jay.put_bag('book')"
      ],
      "execution_count": 0,
      "outputs": []
    },
    {
      "cell_type": "code",
      "metadata": {
        "id": "ZHm2wlNeTZTh",
        "colab_type": "code",
        "colab": {}
      },
      "source": [
        "may = person()"
      ],
      "execution_count": 0,
      "outputs": []
    },
    {
      "cell_type": "code",
      "metadata": {
        "id": "Vt7-tlIKTboY",
        "colab_type": "code",
        "colab": {}
      },
      "source": [
        "may.put_bag('key')"
      ],
      "execution_count": 0,
      "outputs": []
    },
    {
      "cell_type": "code",
      "metadata": {
        "id": "xzEC0OFJTeLn",
        "colab_type": "code",
        "outputId": "11d6415b-2f63-433a-fa8f-12de98f0b323",
        "colab": {
          "base_uri": "https://localhost:8080/",
          "height": 35
        }
      },
      "source": [
        "print(jay.bag)"
      ],
      "execution_count": 0,
      "outputs": [
        {
          "output_type": "stream",
          "text": [
            "['book', 'key']\n"
          ],
          "name": "stdout"
        }
      ]
    },
    {
      "cell_type": "code",
      "metadata": {
        "id": "jNIGj5j6ThHa",
        "colab_type": "code",
        "outputId": "0d955e9c-9fc7-485b-aaa8-f75486e7e2fc",
        "colab": {
          "base_uri": "https://localhost:8080/",
          "height": 35
        }
      },
      "source": [
        "print(may.bag)"
      ],
      "execution_count": 0,
      "outputs": [
        {
          "output_type": "stream",
          "text": [
            "['book', 'key']\n"
          ],
          "name": "stdout"
        }
      ]
    },
    {
      "cell_type": "markdown",
      "metadata": {
        "id": "Tf_1zOpvTwWg",
        "colab_type": "text"
      },
      "source": [
        "# 2. Instance Attribute via __init__(self):\n",
        "* Don't share among instances"
      ]
    },
    {
      "cell_type": "code",
      "metadata": {
        "id": "1SSp04QwTjp9",
        "colab_type": "code",
        "colab": {}
      },
      "source": [
        "class person:\n",
        "  \n",
        "  def __init__(self):\n",
        "    self.bag = [] ################################ instance attribute\n",
        "    \n",
        "  def put_bag(self, stuff):\n",
        "    self.bag.append(stuff)"
      ],
      "execution_count": 0,
      "outputs": []
    },
    {
      "cell_type": "code",
      "metadata": {
        "id": "PdWaE4VSVH7g",
        "colab_type": "code",
        "colab": {}
      },
      "source": [
        "jay = person()\n",
        "jay.put_bag('book')"
      ],
      "execution_count": 0,
      "outputs": []
    },
    {
      "cell_type": "code",
      "metadata": {
        "id": "FXLAsdeVVQsF",
        "colab_type": "code",
        "outputId": "c879eebf-f929-428d-812c-e5237074bb25",
        "colab": {
          "base_uri": "https://localhost:8080/",
          "height": 35
        }
      },
      "source": [
        "print(jay.bag)"
      ],
      "execution_count": 0,
      "outputs": [
        {
          "output_type": "stream",
          "text": [
            "['book']\n"
          ],
          "name": "stdout"
        }
      ]
    },
    {
      "cell_type": "code",
      "metadata": {
        "id": "jL0ILvaeVSdt",
        "colab_type": "code",
        "colab": {}
      },
      "source": [
        "may = person()\n",
        "may.put_bag('key')"
      ],
      "execution_count": 0,
      "outputs": []
    },
    {
      "cell_type": "code",
      "metadata": {
        "id": "qZaPtUblVZkU",
        "colab_type": "code",
        "outputId": "c095d55f-7f77-4e21-a47a-3abc5a3472bc",
        "colab": {
          "base_uri": "https://localhost:8080/",
          "height": 35
        }
      },
      "source": [
        "print(may.bag)"
      ],
      "execution_count": 0,
      "outputs": [
        {
          "output_type": "stream",
          "text": [
            "['key']\n"
          ],
          "name": "stdout"
        }
      ]
    },
    {
      "cell_type": "markdown",
      "metadata": {
        "id": "BycvzUaLVsjA",
        "colab_type": "text"
      },
      "source": [
        "# Private class attribute via __(attribute)\n"
      ]
    },
    {
      "cell_type": "code",
      "metadata": {
        "id": "DFIlYxl8VdEm",
        "colab_type": "code",
        "colab": {}
      },
      "source": [
        "class knight:\n",
        "  __item_limit = 10\n",
        "  \n",
        "  def print_item_limit(self):\n",
        "    print(knight.__item_limit)"
      ],
      "execution_count": 0,
      "outputs": []
    },
    {
      "cell_type": "code",
      "metadata": {
        "id": "k7dZYfSHd-eh",
        "colab_type": "code",
        "colab": {
          "base_uri": "https://localhost:8080/",
          "height": 35
        },
        "outputId": "9fbe9a71-c922-45bd-c736-ff7338ba9121"
      },
      "source": [
        "knight.print_item_limit"
      ],
      "execution_count": 16,
      "outputs": [
        {
          "output_type": "execute_result",
          "data": {
            "text/plain": [
              "<function __main__.knight.print_item_limit>"
            ]
          },
          "metadata": {
            "tags": []
          },
          "execution_count": 16
        }
      ]
    },
    {
      "cell_type": "code",
      "metadata": {
        "id": "_VMVs4ZaeB2O",
        "colab_type": "code",
        "colab": {}
      },
      "source": [
        "jay = knight()"
      ],
      "execution_count": 0,
      "outputs": []
    },
    {
      "cell_type": "code",
      "metadata": {
        "id": "ehvEsO5ieEkU",
        "colab_type": "code",
        "colab": {
          "base_uri": "https://localhost:8080/",
          "height": 35
        },
        "outputId": "f9975636-eb28-469a-ef13-e2f08b979e33"
      },
      "source": [
        "jay.print_item_limit()"
      ],
      "execution_count": 19,
      "outputs": [
        {
          "output_type": "stream",
          "text": [
            "10\n"
          ],
          "name": "stdout"
        }
      ]
    },
    {
      "cell_type": "markdown",
      "metadata": {
        "id": "KWKBO_9SeRk0",
        "colab_type": "text"
      },
      "source": [
        "* cannot be accessible from outside of class"
      ]
    },
    {
      "cell_type": "code",
      "metadata": {
        "id": "Son0dpdxeGN5",
        "colab_type": "code",
        "colab": {
          "base_uri": "https://localhost:8080/",
          "height": 170
        },
        "outputId": "52988974-4f3e-42aa-e1b9-3da41cb664eb"
      },
      "source": [
        "print(knight.__item_limit)"
      ],
      "execution_count": 20,
      "outputs": [
        {
          "output_type": "error",
          "ename": "AttributeError",
          "evalue": "ignored",
          "traceback": [
            "\u001b[0;31m---------------------------------------------------------------------------\u001b[0m",
            "\u001b[0;31mAttributeError\u001b[0m                            Traceback (most recent call last)",
            "\u001b[0;32m<ipython-input-20-e54bc83e4bd8>\u001b[0m in \u001b[0;36m<module>\u001b[0;34m()\u001b[0m\n\u001b[0;32m----> 1\u001b[0;31m \u001b[0mprint\u001b[0m\u001b[0;34m(\u001b[0m\u001b[0mknight\u001b[0m\u001b[0;34m.\u001b[0m\u001b[0m__item_limit\u001b[0m\u001b[0;34m)\u001b[0m\u001b[0;34m\u001b[0m\u001b[0;34m\u001b[0m\u001b[0m\n\u001b[0m",
            "\u001b[0;31mAttributeError\u001b[0m: type object 'knight' has no attribute '__item_limit'"
          ]
        }
      ]
    },
    {
      "cell_type": "markdown",
      "metadata": {
        "id": "9XZ4X2EqeVgT",
        "colab_type": "text"
      },
      "source": [
        "# Static Method without instnace\n",
        "* using @staticmethod\n",
        "* without \"self\"\n",
        "* when method operation is not related to an external environment"
      ]
    },
    {
      "cell_type": "code",
      "metadata": {
        "id": "7TQy5pn5eQXy",
        "colab_type": "code",
        "colab": {}
      },
      "source": [
        "class calc:\n",
        "  @staticmethod\n",
        "  def add(a,b):\n",
        "    print(a+b)\n",
        "    \n",
        "  @staticmethod\n",
        "  def mul(a,b):\n",
        "    print(a*b)"
      ],
      "execution_count": 0,
      "outputs": []
    },
    {
      "cell_type": "code",
      "metadata": {
        "id": "1o6ZKmzWh6-f",
        "colab_type": "code",
        "colab": {
          "base_uri": "https://localhost:8080/",
          "height": 35
        },
        "outputId": "1f99cfbc-1c67-45c7-c51b-6a48a20b38df"
      },
      "source": [
        "calc.add(10,20) # without instance x = calc()"
      ],
      "execution_count": 23,
      "outputs": [
        {
          "output_type": "stream",
          "text": [
            "30\n"
          ],
          "name": "stdout"
        }
      ]
    },
    {
      "cell_type": "code",
      "metadata": {
        "id": "3nLVmcSniGiz",
        "colab_type": "code",
        "colab": {
          "base_uri": "https://localhost:8080/",
          "height": 35
        },
        "outputId": "2a8966e6-e273-411e-b984-a03c0113adaa"
      },
      "source": [
        "calc.mul(10,20)"
      ],
      "execution_count": 24,
      "outputs": [
        {
          "output_type": "stream",
          "text": [
            "200\n"
          ],
          "name": "stdout"
        }
      ]
    },
    {
      "cell_type": "markdown",
      "metadata": {
        "id": "Lg5GLBx0iM0h",
        "colab_type": "text"
      },
      "source": [
        "# Class Method with @classmethod\n",
        "* need to use cls as a first parameter\n",
        "* without instnace, but need to access attribute or method in class.\n",
        "* cls() = class()"
      ]
    },
    {
      "cell_type": "code",
      "metadata": {
        "id": "KSG4TNWciJL-",
        "colab_type": "code",
        "colab": {}
      },
      "source": [
        "class person:\n",
        "  \n",
        "  count = 0 # 1.class attribute\n",
        "  \n",
        "  def __init__(self):\n",
        "    person.count +=1 # +1 when instance is made\n",
        "    \n",
        "  @classmethod\n",
        "  def print_count(cls):\n",
        "    print('{0} instance were made'.format(cls.count)) # cls -> access to the attribute"
      ],
      "execution_count": 0,
      "outputs": []
    },
    {
      "cell_type": "code",
      "metadata": {
        "id": "kl_s3PETkWwf",
        "colab_type": "code",
        "colab": {}
      },
      "source": [
        "jay = person()"
      ],
      "execution_count": 0,
      "outputs": []
    },
    {
      "cell_type": "code",
      "metadata": {
        "id": "Nr0jk1qEknH8",
        "colab_type": "code",
        "colab": {}
      },
      "source": [
        "jay2 =person()"
      ],
      "execution_count": 0,
      "outputs": []
    },
    {
      "cell_type": "code",
      "metadata": {
        "id": "HiTVKjz-ko1T",
        "colab_type": "code",
        "colab": {}
      },
      "source": [
        "jay3 = person()"
      ],
      "execution_count": 0,
      "outputs": []
    },
    {
      "cell_type": "code",
      "metadata": {
        "id": "cWrPVnOAkuKj",
        "colab_type": "code",
        "colab": {
          "base_uri": "https://localhost:8080/",
          "height": 35
        },
        "outputId": "b2b5fe82-8ce9-4b02-84eb-bd454081859c"
      },
      "source": [
        "person.print_count()"
      ],
      "execution_count": 35,
      "outputs": [
        {
          "output_type": "stream",
          "text": [
            "0 instance were made\n"
          ],
          "name": "stdout"
        }
      ]
    },
    {
      "cell_type": "code",
      "metadata": {
        "id": "7UDhV1enkx3A",
        "colab_type": "code",
        "colab": {}
      },
      "source": [
        ""
      ],
      "execution_count": 0,
      "outputs": []
    }
  ]
}