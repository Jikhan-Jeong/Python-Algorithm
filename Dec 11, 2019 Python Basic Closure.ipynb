{
 "cells": [
  {
   "cell_type": "markdown",
   "metadata": {},
   "source": [
    "# Dec 11, 2019 Python Basic Closure\n",
    "* Name: Jikhan Jeong\n",
    "* Ref: https://dojang.io/mod/page/view.php?id=2364 (Ch 33)\n",
    "* Can call local and global variables by local() and global()\n",
    "---------"
   ]
  },
  {
   "cell_type": "markdown",
   "metadata": {},
   "source": [
    "### Global Variable"
   ]
  },
  {
   "cell_type": "code",
   "execution_count": 1,
   "metadata": {},
   "outputs": [],
   "source": [
    "x = 10"
   ]
  },
  {
   "cell_type": "code",
   "execution_count": 2,
   "metadata": {},
   "outputs": [
    {
     "data": {
      "text/plain": [
       "10"
      ]
     },
     "execution_count": 2,
     "metadata": {},
     "output_type": "execute_result"
    }
   ],
   "source": [
    "x"
   ]
  },
  {
   "cell_type": "code",
   "execution_count": 3,
   "metadata": {},
   "outputs": [],
   "source": [
    "def foo():\n",
    "    print(x)"
   ]
  },
  {
   "cell_type": "code",
   "execution_count": 4,
   "metadata": {},
   "outputs": [
    {
     "name": "stdout",
     "output_type": "stream",
     "text": [
      "10\n"
     ]
    }
   ],
   "source": [
    "foo()"
   ]
  },
  {
   "cell_type": "code",
   "execution_count": 5,
   "metadata": {},
   "outputs": [
    {
     "name": "stdout",
     "output_type": "stream",
     "text": [
      "10\n"
     ]
    }
   ],
   "source": [
    "print(x)"
   ]
  },
  {
   "cell_type": "markdown",
   "metadata": {},
   "source": [
    "### Local Variable\n",
    "* Locan variable are inside of the function"
   ]
  },
  {
   "cell_type": "code",
   "execution_count": 9,
   "metadata": {},
   "outputs": [],
   "source": [
    "def foo():\n",
    "    y = 7     ## local variable in the fuction; cannot call out of the function \n",
    "    print(y)"
   ]
  },
  {
   "cell_type": "code",
   "execution_count": 10,
   "metadata": {},
   "outputs": [
    {
     "name": "stdout",
     "output_type": "stream",
     "text": [
      "7\n"
     ]
    }
   ],
   "source": [
    "foo()"
   ]
  },
  {
   "cell_type": "code",
   "execution_count": 12,
   "metadata": {},
   "outputs": [
    {
     "ename": "NameError",
     "evalue": "name 'y' is not defined",
     "output_type": "error",
     "traceback": [
      "\u001b[1;31m---------------------------------------------------------------------------\u001b[0m",
      "\u001b[1;31mNameError\u001b[0m                                 Traceback (most recent call last)",
      "\u001b[1;32m<ipython-input-12-d9183e048de3>\u001b[0m in \u001b[0;36m<module>\u001b[1;34m\u001b[0m\n\u001b[1;32m----> 1\u001b[1;33m \u001b[0mprint\u001b[0m\u001b[1;33m(\u001b[0m\u001b[0my\u001b[0m\u001b[1;33m)\u001b[0m\u001b[1;33m\u001b[0m\u001b[1;33m\u001b[0m\u001b[0m\n\u001b[0m",
      "\u001b[1;31mNameError\u001b[0m: name 'y' is not defined"
     ]
    }
   ],
   "source": [
    "print(y)"
   ]
  },
  {
   "cell_type": "markdown",
   "metadata": {},
   "source": [
    "### Local and Global in function "
   ]
  },
  {
   "cell_type": "code",
   "execution_count": 13,
   "metadata": {},
   "outputs": [],
   "source": [
    "x = 10"
   ]
  },
  {
   "cell_type": "code",
   "execution_count": 14,
   "metadata": {},
   "outputs": [],
   "source": [
    "def foo():\n",
    "    x = 20\n",
    "    print(x)"
   ]
  },
  {
   "cell_type": "code",
   "execution_count": 15,
   "metadata": {},
   "outputs": [
    {
     "name": "stdout",
     "output_type": "stream",
     "text": [
      "20\n"
     ]
    }
   ],
   "source": [
    "foo() # local x"
   ]
  },
  {
   "cell_type": "code",
   "execution_count": 16,
   "metadata": {},
   "outputs": [
    {
     "data": {
      "text/plain": [
       "10"
      ]
     },
     "execution_count": 16,
     "metadata": {},
     "output_type": "execute_result"
    }
   ],
   "source": [
    "x     # global x "
   ]
  },
  {
   "cell_type": "markdown",
   "metadata": {},
   "source": [
    "### Changing global variable inside the function "
   ]
  },
  {
   "cell_type": "code",
   "execution_count": 17,
   "metadata": {},
   "outputs": [],
   "source": [
    "x = 10\n",
    "def foo():\n",
    "    global x\n",
    "    x = 20\n",
    "    print(x)"
   ]
  },
  {
   "cell_type": "code",
   "execution_count": 18,
   "metadata": {},
   "outputs": [
    {
     "name": "stdout",
     "output_type": "stream",
     "text": [
      "20\n"
     ]
    }
   ],
   "source": [
    "foo()"
   ]
  },
  {
   "cell_type": "code",
   "execution_count": 19,
   "metadata": {},
   "outputs": [
    {
     "data": {
      "text/plain": [
       "20"
      ]
     },
     "execution_count": 19,
     "metadata": {},
     "output_type": "execute_result"
    }
   ],
   "source": [
    "x"
   ]
  },
  {
   "cell_type": "code",
   "execution_count": 20,
   "metadata": {},
   "outputs": [
    {
     "data": {
      "text/plain": [
       "{'__name__': '__main__',\n",
       " '__doc__': 'Automatically created module for IPython interactive environment',\n",
       " '__package__': None,\n",
       " '__loader__': None,\n",
       " '__spec__': None,\n",
       " '__builtin__': <module 'builtins' (built-in)>,\n",
       " '__builtins__': <module 'builtins' (built-in)>,\n",
       " '_ih': ['',\n",
       "  'x = 10',\n",
       "  'x',\n",
       "  'def foo():\\n    print(x)',\n",
       "  'foo()',\n",
       "  'print(x)',\n",
       "  'def foo():\\n    x = 7\\n    print(x)',\n",
       "  'foo()',\n",
       "  'print(x)',\n",
       "  'def foo():\\n    y = 7\\n    print(y)',\n",
       "  'foo()',\n",
       "  'print(x)',\n",
       "  'print(y)',\n",
       "  'x = 10',\n",
       "  'def foo():\\n    x = 20\\n    print(x)',\n",
       "  'foo()',\n",
       "  'x',\n",
       "  'x = 10\\ndef foo():\\n    global x\\n    x = 20\\n    print(x)',\n",
       "  'foo()',\n",
       "  'x',\n",
       "  'locals()'],\n",
       " '_oh': {2: 10, 16: 10, 19: 20},\n",
       " '_dh': ['C:\\\\Users\\\\jikhan.jeong\\\\2019 python'],\n",
       " 'In': ['',\n",
       "  'x = 10',\n",
       "  'x',\n",
       "  'def foo():\\n    print(x)',\n",
       "  'foo()',\n",
       "  'print(x)',\n",
       "  'def foo():\\n    x = 7\\n    print(x)',\n",
       "  'foo()',\n",
       "  'print(x)',\n",
       "  'def foo():\\n    y = 7\\n    print(y)',\n",
       "  'foo()',\n",
       "  'print(x)',\n",
       "  'print(y)',\n",
       "  'x = 10',\n",
       "  'def foo():\\n    x = 20\\n    print(x)',\n",
       "  'foo()',\n",
       "  'x',\n",
       "  'x = 10\\ndef foo():\\n    global x\\n    x = 20\\n    print(x)',\n",
       "  'foo()',\n",
       "  'x',\n",
       "  'locals()'],\n",
       " 'Out': {2: 10, 16: 10, 19: 20},\n",
       " 'get_ipython': <bound method InteractiveShell.get_ipython of <ipykernel.zmqshell.ZMQInteractiveShell object at 0x0000021234377BE0>>,\n",
       " 'exit': <IPython.core.autocall.ZMQExitAutocall at 0x21236082898>,\n",
       " 'quit': <IPython.core.autocall.ZMQExitAutocall at 0x21236082898>,\n",
       " '_': 20,\n",
       " '__': 10,\n",
       " '___': 10,\n",
       " '_i': 'x',\n",
       " '_ii': 'foo()',\n",
       " '_iii': 'x = 10\\ndef foo():\\n    global x\\n    x = 20\\n    print(x)',\n",
       " '_i1': 'x = 10',\n",
       " 'x': 20,\n",
       " '_i2': 'x',\n",
       " '_2': 10,\n",
       " '_i3': 'def foo():\\n    print(x)',\n",
       " 'foo': <function __main__.foo()>,\n",
       " '_i4': 'foo()',\n",
       " '_i5': 'print(x)',\n",
       " '_i6': 'def foo():\\n    x = 7\\n    print(x)',\n",
       " '_i7': 'foo()',\n",
       " '_i8': 'print(x)',\n",
       " '_i9': 'def foo():\\n    y = 7\\n    print(y)',\n",
       " '_i10': 'foo()',\n",
       " '_i11': 'print(x)',\n",
       " '_i12': 'print(y)',\n",
       " '_i13': 'x = 10',\n",
       " '_i14': 'def foo():\\n    x = 20\\n    print(x)',\n",
       " '_i15': 'foo()',\n",
       " '_i16': 'x',\n",
       " '_16': 10,\n",
       " '_i17': 'x = 10\\ndef foo():\\n    global x\\n    x = 20\\n    print(x)',\n",
       " '_i18': 'foo()',\n",
       " '_i19': 'x',\n",
       " '_19': 20,\n",
       " '_i20': 'locals()'}"
      ]
     },
     "execution_count": 20,
     "metadata": {},
     "output_type": "execute_result"
    }
   ],
   "source": [
    "locals()"
   ]
  },
  {
   "cell_type": "code",
   "execution_count": 21,
   "metadata": {},
   "outputs": [
    {
     "data": {
      "text/plain": [
       "{'__name__': '__main__',\n",
       " '__doc__': 'Automatically created module for IPython interactive environment',\n",
       " '__package__': None,\n",
       " '__loader__': None,\n",
       " '__spec__': None,\n",
       " '__builtin__': <module 'builtins' (built-in)>,\n",
       " '__builtins__': <module 'builtins' (built-in)>,\n",
       " '_ih': ['',\n",
       "  'x = 10',\n",
       "  'x',\n",
       "  'def foo():\\n    print(x)',\n",
       "  'foo()',\n",
       "  'print(x)',\n",
       "  'def foo():\\n    x = 7\\n    print(x)',\n",
       "  'foo()',\n",
       "  'print(x)',\n",
       "  'def foo():\\n    y = 7\\n    print(y)',\n",
       "  'foo()',\n",
       "  'print(x)',\n",
       "  'print(y)',\n",
       "  'x = 10',\n",
       "  'def foo():\\n    x = 20\\n    print(x)',\n",
       "  'foo()',\n",
       "  'x',\n",
       "  'x = 10\\ndef foo():\\n    global x\\n    x = 20\\n    print(x)',\n",
       "  'foo()',\n",
       "  'x',\n",
       "  'locals()',\n",
       "  'globals()'],\n",
       " '_oh': {2: 10, 16: 10, 19: 20, 20: {...}},\n",
       " '_dh': ['C:\\\\Users\\\\jikhan.jeong\\\\2019 python'],\n",
       " 'In': ['',\n",
       "  'x = 10',\n",
       "  'x',\n",
       "  'def foo():\\n    print(x)',\n",
       "  'foo()',\n",
       "  'print(x)',\n",
       "  'def foo():\\n    x = 7\\n    print(x)',\n",
       "  'foo()',\n",
       "  'print(x)',\n",
       "  'def foo():\\n    y = 7\\n    print(y)',\n",
       "  'foo()',\n",
       "  'print(x)',\n",
       "  'print(y)',\n",
       "  'x = 10',\n",
       "  'def foo():\\n    x = 20\\n    print(x)',\n",
       "  'foo()',\n",
       "  'x',\n",
       "  'x = 10\\ndef foo():\\n    global x\\n    x = 20\\n    print(x)',\n",
       "  'foo()',\n",
       "  'x',\n",
       "  'locals()',\n",
       "  'globals()'],\n",
       " 'Out': {2: 10, 16: 10, 19: 20, 20: {...}},\n",
       " 'get_ipython': <bound method InteractiveShell.get_ipython of <ipykernel.zmqshell.ZMQInteractiveShell object at 0x0000021234377BE0>>,\n",
       " 'exit': <IPython.core.autocall.ZMQExitAutocall at 0x21236082898>,\n",
       " 'quit': <IPython.core.autocall.ZMQExitAutocall at 0x21236082898>,\n",
       " '_': {...},\n",
       " '__': 20,\n",
       " '___': 10,\n",
       " '_i': 'locals()',\n",
       " '_ii': 'x',\n",
       " '_iii': 'foo()',\n",
       " '_i1': 'x = 10',\n",
       " 'x': 20,\n",
       " '_i2': 'x',\n",
       " '_2': 10,\n",
       " '_i3': 'def foo():\\n    print(x)',\n",
       " 'foo': <function __main__.foo()>,\n",
       " '_i4': 'foo()',\n",
       " '_i5': 'print(x)',\n",
       " '_i6': 'def foo():\\n    x = 7\\n    print(x)',\n",
       " '_i7': 'foo()',\n",
       " '_i8': 'print(x)',\n",
       " '_i9': 'def foo():\\n    y = 7\\n    print(y)',\n",
       " '_i10': 'foo()',\n",
       " '_i11': 'print(x)',\n",
       " '_i12': 'print(y)',\n",
       " '_i13': 'x = 10',\n",
       " '_i14': 'def foo():\\n    x = 20\\n    print(x)',\n",
       " '_i15': 'foo()',\n",
       " '_i16': 'x',\n",
       " '_16': 10,\n",
       " '_i17': 'x = 10\\ndef foo():\\n    global x\\n    x = 20\\n    print(x)',\n",
       " '_i18': 'foo()',\n",
       " '_i19': 'x',\n",
       " '_19': 20,\n",
       " '_i20': 'locals()',\n",
       " '_20': {...},\n",
       " '_i21': 'globals()'}"
      ]
     },
     "execution_count": 21,
     "metadata": {},
     "output_type": "execute_result"
    }
   ],
   "source": [
    "globals()"
   ]
  },
  {
   "cell_type": "code",
   "execution_count": 22,
   "metadata": {},
   "outputs": [],
   "source": [
    "def hello():\n",
    "    hello ='hi'\n",
    "    def print_msg():\n",
    "        print(hello)\n",
    "    print_msg()"
   ]
  },
  {
   "cell_type": "code",
   "execution_count": 24,
   "metadata": {},
   "outputs": [
    {
     "name": "stdout",
     "output_type": "stream",
     "text": [
      "hi\n"
     ]
    }
   ],
   "source": [
    "hello()"
   ]
  },
  {
   "cell_type": "code",
   "execution_count": 25,
   "metadata": {},
   "outputs": [],
   "source": [
    "def A():\n",
    "    x = 10\n",
    "    def B():\n",
    "        x = 20\n",
    "    B()\n",
    "    print(x)"
   ]
  },
  {
   "cell_type": "code",
   "execution_count": 26,
   "metadata": {},
   "outputs": [
    {
     "name": "stdout",
     "output_type": "stream",
     "text": [
      "10\n"
     ]
    }
   ],
   "source": [
    "A()"
   ]
  },
  {
   "cell_type": "markdown",
   "metadata": {},
   "source": [
    "### Using outer variable\n",
    "* nonlocal in sub function "
   ]
  },
  {
   "cell_type": "code",
   "execution_count": 28,
   "metadata": {},
   "outputs": [],
   "source": [
    "def A():\n",
    "    x = 10\n",
    "    def B():\n",
    "        nonlocal x\n",
    "        x = 20\n",
    "    B()\n",
    "    print(x)"
   ]
  },
  {
   "cell_type": "code",
   "execution_count": 29,
   "metadata": {},
   "outputs": [
    {
     "name": "stdout",
     "output_type": "stream",
     "text": [
      "20\n"
     ]
    }
   ],
   "source": [
    "A()"
   ]
  },
  {
   "cell_type": "markdown",
   "metadata": {},
   "source": [
    "### Clousure"
   ]
  },
  {
   "cell_type": "code",
   "execution_count": 30,
   "metadata": {},
   "outputs": [],
   "source": [
    "def calc():\n",
    "    a = 3\n",
    "    b = 5\n",
    "    def add(x):\n",
    "        return a*x + b\n",
    "    return add\n"
   ]
  },
  {
   "cell_type": "code",
   "execution_count": 31,
   "metadata": {},
   "outputs": [],
   "source": [
    "c = calc()"
   ]
  },
  {
   "cell_type": "code",
   "execution_count": 32,
   "metadata": {},
   "outputs": [
    {
     "data": {
      "text/plain": [
       "8"
      ]
     },
     "execution_count": 32,
     "metadata": {},
     "output_type": "execute_result"
    }
   ],
   "source": [
    "c(1)"
   ]
  },
  {
   "cell_type": "markdown",
   "metadata": {},
   "source": [
    "### Lambda Clousure"
   ]
  },
  {
   "cell_type": "code",
   "execution_count": 34,
   "metadata": {},
   "outputs": [],
   "source": [
    "def calc():\n",
    "    a = 3\n",
    "    b = 5\n",
    "    return lambda x : a*x + b"
   ]
  },
  {
   "cell_type": "code",
   "execution_count": 35,
   "metadata": {},
   "outputs": [],
   "source": [
    "c = calc()"
   ]
  },
  {
   "cell_type": "code",
   "execution_count": 36,
   "metadata": {},
   "outputs": [
    {
     "data": {
      "text/plain": [
       "8"
      ]
     },
     "execution_count": 36,
     "metadata": {},
     "output_type": "execute_result"
    }
   ],
   "source": [
    "c(1)"
   ]
  },
  {
   "cell_type": "code",
   "execution_count": null,
   "metadata": {},
   "outputs": [],
   "source": []
  }
 ],
 "metadata": {
  "kernelspec": {
   "display_name": "Python 3",
   "language": "python",
   "name": "python3"
  },
  "language_info": {
   "codemirror_mode": {
    "name": "ipython",
    "version": 3
   },
   "file_extension": ".py",
   "mimetype": "text/x-python",
   "name": "python",
   "nbconvert_exporter": "python",
   "pygments_lexer": "ipython3",
   "version": "3.7.3"
  }
 },
 "nbformat": 4,
 "nbformat_minor": 2
}
